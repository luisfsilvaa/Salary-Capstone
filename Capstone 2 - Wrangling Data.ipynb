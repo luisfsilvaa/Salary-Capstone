{
 "cells": [
  {
   "cell_type": "markdown",
   "id": "92421827",
   "metadata": {},
   "source": [
    "### Imports"
   ]
  },
  {
   "cell_type": "code",
   "execution_count": 42,
   "id": "1de446be",
   "metadata": {},
   "outputs": [],
   "source": [
    "import pandas as pd\n",
    "import matplotlib.pyplot as plt\n",
    "import seaborn as sns\n",
    "import os\n",
    "\n"
   ]
  },
  {
   "cell_type": "markdown",
   "id": "a5d81847",
   "metadata": {},
   "source": [
    "### Load Salary Data"
   ]
  },
  {
   "cell_type": "code",
   "execution_count": 43,
   "id": "13bc5182",
   "metadata": {},
   "outputs": [],
   "source": [
    "csv_file = 'salaries.csv'\n",
    "salary_data = pd.read_csv(csv_file)"
   ]
  },
  {
   "cell_type": "code",
   "execution_count": 44,
   "id": "3a974ff3",
   "metadata": {},
   "outputs": [
    {
     "name": "stdout",
     "output_type": "stream",
     "text": [
      "<class 'pandas.core.frame.DataFrame'>\n",
      "RangeIndex: 3006 entries, 0 to 3005\n",
      "Data columns (total 11 columns):\n",
      " #   Column              Non-Null Count  Dtype \n",
      "---  ------              --------------  ----- \n",
      " 0   work_year           3006 non-null   int64 \n",
      " 1   experience_level    3006 non-null   object\n",
      " 2   employment_type     3006 non-null   object\n",
      " 3   job_title           3006 non-null   object\n",
      " 4   salary              3006 non-null   int64 \n",
      " 5   salary_currency     3006 non-null   object\n",
      " 6   salary_in_usd       3006 non-null   int64 \n",
      " 7   employee_residence  3006 non-null   object\n",
      " 8   remote_ratio        3006 non-null   int64 \n",
      " 9   company_location    3006 non-null   object\n",
      " 10  company_size        3006 non-null   object\n",
      "dtypes: int64(4), object(7)\n",
      "memory usage: 258.5+ KB\n"
     ]
    }
   ],
   "source": [
    "salary_data.info()"
   ]
  },
  {
   "cell_type": "code",
   "execution_count": 45,
   "id": "60fc7e74",
   "metadata": {},
   "outputs": [
    {
     "data": {
      "text/html": [
       "<div>\n",
       "<style scoped>\n",
       "    .dataframe tbody tr th:only-of-type {\n",
       "        vertical-align: middle;\n",
       "    }\n",
       "\n",
       "    .dataframe tbody tr th {\n",
       "        vertical-align: top;\n",
       "    }\n",
       "\n",
       "    .dataframe thead th {\n",
       "        text-align: right;\n",
       "    }\n",
       "</style>\n",
       "<table border=\"1\" class=\"dataframe\">\n",
       "  <thead>\n",
       "    <tr style=\"text-align: right;\">\n",
       "      <th></th>\n",
       "      <th>work_year</th>\n",
       "      <th>experience_level</th>\n",
       "      <th>employment_type</th>\n",
       "      <th>job_title</th>\n",
       "      <th>salary</th>\n",
       "      <th>salary_currency</th>\n",
       "      <th>salary_in_usd</th>\n",
       "      <th>employee_residence</th>\n",
       "      <th>remote_ratio</th>\n",
       "      <th>company_location</th>\n",
       "      <th>company_size</th>\n",
       "    </tr>\n",
       "  </thead>\n",
       "  <tbody>\n",
       "    <tr>\n",
       "      <th>0</th>\n",
       "      <td>2023</td>\n",
       "      <td>EN</td>\n",
       "      <td>FT</td>\n",
       "      <td>Data Analyst</td>\n",
       "      <td>75000</td>\n",
       "      <td>USD</td>\n",
       "      <td>75000</td>\n",
       "      <td>US</td>\n",
       "      <td>100</td>\n",
       "      <td>US</td>\n",
       "      <td>M</td>\n",
       "    </tr>\n",
       "    <tr>\n",
       "      <th>1</th>\n",
       "      <td>2023</td>\n",
       "      <td>EN</td>\n",
       "      <td>FT</td>\n",
       "      <td>Data Analyst</td>\n",
       "      <td>60000</td>\n",
       "      <td>USD</td>\n",
       "      <td>60000</td>\n",
       "      <td>US</td>\n",
       "      <td>100</td>\n",
       "      <td>US</td>\n",
       "      <td>M</td>\n",
       "    </tr>\n",
       "    <tr>\n",
       "      <th>2</th>\n",
       "      <td>2023</td>\n",
       "      <td>MI</td>\n",
       "      <td>FT</td>\n",
       "      <td>Analytics Engineer</td>\n",
       "      <td>185700</td>\n",
       "      <td>USD</td>\n",
       "      <td>185700</td>\n",
       "      <td>US</td>\n",
       "      <td>0</td>\n",
       "      <td>US</td>\n",
       "      <td>M</td>\n",
       "    </tr>\n",
       "    <tr>\n",
       "      <th>3</th>\n",
       "      <td>2023</td>\n",
       "      <td>MI</td>\n",
       "      <td>FT</td>\n",
       "      <td>Analytics Engineer</td>\n",
       "      <td>165000</td>\n",
       "      <td>USD</td>\n",
       "      <td>165000</td>\n",
       "      <td>US</td>\n",
       "      <td>0</td>\n",
       "      <td>US</td>\n",
       "      <td>M</td>\n",
       "    </tr>\n",
       "    <tr>\n",
       "      <th>4</th>\n",
       "      <td>2023</td>\n",
       "      <td>SE</td>\n",
       "      <td>FT</td>\n",
       "      <td>Data Engineer</td>\n",
       "      <td>160000</td>\n",
       "      <td>USD</td>\n",
       "      <td>160000</td>\n",
       "      <td>US</td>\n",
       "      <td>100</td>\n",
       "      <td>US</td>\n",
       "      <td>M</td>\n",
       "    </tr>\n",
       "  </tbody>\n",
       "</table>\n",
       "</div>"
      ],
      "text/plain": [
       "   work_year experience_level employment_type           job_title  salary  \\\n",
       "0       2023               EN              FT        Data Analyst   75000   \n",
       "1       2023               EN              FT        Data Analyst   60000   \n",
       "2       2023               MI              FT  Analytics Engineer  185700   \n",
       "3       2023               MI              FT  Analytics Engineer  165000   \n",
       "4       2023               SE              FT       Data Engineer  160000   \n",
       "\n",
       "  salary_currency  salary_in_usd employee_residence  remote_ratio  \\\n",
       "0             USD          75000                 US           100   \n",
       "1             USD          60000                 US           100   \n",
       "2             USD         185700                 US             0   \n",
       "3             USD         165000                 US             0   \n",
       "4             USD         160000                 US           100   \n",
       "\n",
       "  company_location company_size  \n",
       "0               US            M  \n",
       "1               US            M  \n",
       "2               US            M  \n",
       "3               US            M  \n",
       "4               US            M  "
      ]
     },
     "execution_count": 45,
     "metadata": {},
     "output_type": "execute_result"
    }
   ],
   "source": [
    "salary_data.head()"
   ]
  },
  {
   "cell_type": "markdown",
   "id": "b5a2fd45",
   "metadata": {},
   "source": [
    "### Data Exploration"
   ]
  },
  {
   "cell_type": "code",
   "execution_count": 46,
   "id": "ecfc669f",
   "metadata": {},
   "outputs": [
    {
     "name": "stdout",
     "output_type": "stream",
     "text": [
      "                    0    1\n",
      "work_year           0  0.0\n",
      "experience_level    0  0.0\n",
      "employment_type     0  0.0\n",
      "job_title           0  0.0\n",
      "salary              0  0.0\n",
      "salary_currency     0  0.0\n",
      "salary_in_usd       0  0.0\n",
      "employee_residence  0  0.0\n",
      "remote_ratio        0  0.0\n",
      "company_location    0  0.0\n",
      "company_size        0  0.0\n"
     ]
    }
   ],
   "source": [
    "missing = pd.concat([salary_data.isnull().sum(), 100 * salary_data.isnull().mean()], axis=1)\n",
    "print(missing)"
   ]
  },
  {
   "cell_type": "markdown",
   "id": "4e083e20",
   "metadata": {},
   "source": [
    "It seems like our dataframe has no missing values at first glance."
   ]
  },
  {
   "cell_type": "code",
   "execution_count": 47,
   "id": "a459635c",
   "metadata": {},
   "outputs": [
    {
     "data": {
      "text/plain": [
       "work_year              int64\n",
       "experience_level      object\n",
       "employment_type       object\n",
       "job_title             object\n",
       "salary                 int64\n",
       "salary_currency       object\n",
       "salary_in_usd          int64\n",
       "employee_residence    object\n",
       "remote_ratio           int64\n",
       "company_location      object\n",
       "company_size          object\n",
       "dtype: object"
      ]
     },
     "execution_count": 47,
     "metadata": {},
     "output_type": "execute_result"
    }
   ],
   "source": [
    "salary_data.dtypes"
   ]
  },
  {
   "cell_type": "markdown",
   "id": "e52f6f98",
   "metadata": {},
   "source": [
    "### Categorical Data "
   ]
  },
  {
   "cell_type": "markdown",
   "id": "f6c3c732",
   "metadata": {},
   "source": [
    "##### Experience level"
   ]
  },
  {
   "cell_type": "code",
   "execution_count": 48,
   "id": "d777e0a3",
   "metadata": {},
   "outputs": [
    {
     "data": {
      "text/plain": [
       "array(['EN', 'MI', 'SE', 'EX'], dtype=object)"
      ]
     },
     "execution_count": 48,
     "metadata": {},
     "output_type": "execute_result"
    }
   ],
   "source": [
    "salary_data['experience_level'].unique()"
   ]
  },
  {
   "cell_type": "code",
   "execution_count": 49,
   "id": "e95426e5",
   "metadata": {},
   "outputs": [
    {
     "data": {
      "text/plain": [
       "SE    1988\n",
       "MI     679\n",
       "EN     256\n",
       "EX      83\n",
       "Name: experience_level, dtype: int64"
      ]
     },
     "execution_count": 49,
     "metadata": {},
     "output_type": "execute_result"
    }
   ],
   "source": [
    "salary_data['experience_level'].value_counts()"
   ]
  },
  {
   "cell_type": "markdown",
   "id": "cbbed343",
   "metadata": {},
   "source": [
    "EN: Entry-level / Junior\n",
    "\n",
    "MI: Mid-level / Intermediate\n",
    "\n",
    "SE: Senior-level / Expert\n",
    "\n",
    "EX: Executive-level / Director\n"
   ]
  },
  {
   "cell_type": "markdown",
   "id": "680f30ec",
   "metadata": {},
   "source": [
    "##### Employment type"
   ]
  },
  {
   "cell_type": "code",
   "execution_count": 50,
   "id": "a79162c0",
   "metadata": {},
   "outputs": [
    {
     "data": {
      "text/plain": [
       "array(['FT', 'FL', 'PT', 'CT'], dtype=object)"
      ]
     },
     "execution_count": 50,
     "metadata": {},
     "output_type": "execute_result"
    }
   ],
   "source": [
    "salary_data['employment_type'].unique()"
   ]
  },
  {
   "cell_type": "code",
   "execution_count": 51,
   "id": "9db8b4f8",
   "metadata": {},
   "outputs": [
    {
     "data": {
      "text/plain": [
       "FT    2972\n",
       "PT      17\n",
       "FL       9\n",
       "CT       8\n",
       "Name: employment_type, dtype: int64"
      ]
     },
     "execution_count": 51,
     "metadata": {},
     "output_type": "execute_result"
    }
   ],
   "source": [
    "salary_data['employment_type'].value_counts()"
   ]
  },
  {
   "cell_type": "markdown",
   "id": "c29efff1",
   "metadata": {},
   "source": [
    "PT: Part-time\n",
    "\n",
    "FT: Full-time\n",
    "\n",
    "CT: Contract\n",
    "\n",
    "FL: Freelance"
   ]
  },
  {
   "cell_type": "markdown",
   "id": "d447f07b",
   "metadata": {},
   "source": [
    "##### Job title"
   ]
  },
  {
   "cell_type": "code",
   "execution_count": 52,
   "id": "25aabd6b",
   "metadata": {},
   "outputs": [
    {
     "data": {
      "text/plain": [
       "Data Engineer                    826\n",
       "Data Scientist                   667\n",
       "Data Analyst                     491\n",
       "Machine Learning Engineer        242\n",
       "Data Architect                    77\n",
       "                                ... \n",
       "Software Data Engineer             1\n",
       "Cloud Data Architect               1\n",
       "Autonomous Vehicle Technician      1\n",
       "Power BI Developer                 1\n",
       "Azure Data Engineer                1\n",
       "Name: job_title, Length: 89, dtype: int64"
      ]
     },
     "execution_count": 52,
     "metadata": {},
     "output_type": "execute_result"
    }
   ],
   "source": [
    "salary_data['job_title'].value_counts()"
   ]
  },
  {
   "cell_type": "markdown",
   "id": "21bce24b",
   "metadata": {},
   "source": [
    "##### Salary currency"
   ]
  },
  {
   "cell_type": "code",
   "execution_count": 53,
   "id": "fc6244e1",
   "metadata": {},
   "outputs": [
    {
     "data": {
      "text/plain": [
       "array(['USD', 'EUR', 'GBP', 'BRL', 'INR', 'THB', 'PLN', 'CAD', 'SGD',\n",
       "       'HUF', 'CHF', 'AUD', 'CZK', 'DKK', 'JPY', 'MXN', 'TRY', 'CLP'],\n",
       "      dtype=object)"
      ]
     },
     "execution_count": 53,
     "metadata": {},
     "output_type": "execute_result"
    }
   ],
   "source": [
    "salary_data['salary_currency'].unique()"
   ]
  },
  {
   "cell_type": "code",
   "execution_count": 54,
   "id": "088ff4ac",
   "metadata": {},
   "outputs": [
    {
     "data": {
      "text/plain": [
       "USD    2529\n",
       "EUR     216\n",
       "GBP     141\n",
       "INR      55\n",
       "CAD      23\n",
       "Name: salary_currency, dtype: int64"
      ]
     },
     "execution_count": 54,
     "metadata": {},
     "output_type": "execute_result"
    }
   ],
   "source": [
    "salary_data['salary_currency'].value_counts().head()"
   ]
  },
  {
   "cell_type": "markdown",
   "id": "58c48864",
   "metadata": {},
   "source": [
    "##### Employee residence"
   ]
  },
  {
   "cell_type": "markdown",
   "id": "148f8795",
   "metadata": {},
   "source": [
    "ISO 3166 country code"
   ]
  },
  {
   "cell_type": "code",
   "execution_count": 55,
   "id": "d7bd8951",
   "metadata": {},
   "outputs": [
    {
     "data": {
      "text/plain": [
       "array(['US', 'ES', 'SI', 'GB', 'CA', 'NG', 'DE', 'MX', 'FR', 'UZ', 'IN',\n",
       "       'BR', 'PT', 'TH', 'GH', 'HR', 'PL', 'KW', 'VN', 'IE', 'NL', 'SE',\n",
       "       'SG', 'CY', 'AR', 'AM', 'BA', 'KE', 'GR', 'MK', 'LV', 'RO', 'AU',\n",
       "       'PK', 'IT', 'MA', 'CO', 'LT', 'BE', 'AS', 'IR', 'HU', 'CH', 'AT',\n",
       "       'SK', 'CN', 'CZ', 'CR', 'TR', 'CL', 'PR', 'FI', 'DK', 'BO', 'PH',\n",
       "       'DO', 'EG', 'ID', 'AE', 'MY', 'JP', 'EE', 'HN', 'TN', 'RU', 'DZ',\n",
       "       'IQ', 'UA', 'BG', 'JE', 'RS', 'NZ', 'HK', 'MD', 'LU', 'MT'],\n",
       "      dtype=object)"
      ]
     },
     "execution_count": 55,
     "metadata": {},
     "output_type": "execute_result"
    }
   ],
   "source": [
    "salary_data['employee_residence'].unique()"
   ]
  },
  {
   "cell_type": "code",
   "execution_count": 56,
   "id": "855fab8d",
   "metadata": {},
   "outputs": [
    {
     "data": {
      "text/plain": [
       "US    2347\n",
       "GB     145\n",
       "ES      70\n",
       "CA      64\n",
       "IN      63\n",
       "Name: employee_residence, dtype: int64"
      ]
     },
     "execution_count": 56,
     "metadata": {},
     "output_type": "execute_result"
    }
   ],
   "source": [
    "salary_data['employee_residence'].value_counts().head()"
   ]
  },
  {
   "cell_type": "markdown",
   "id": "1e19c380",
   "metadata": {},
   "source": [
    "##### Company location"
   ]
  },
  {
   "cell_type": "code",
   "execution_count": 57,
   "id": "5ccef69b",
   "metadata": {},
   "outputs": [
    {
     "data": {
      "text/plain": [
       "array(['US', 'ES', 'SI', 'GB', 'CA', 'NG', 'DE', 'MX', 'FR', 'AU', 'IN',\n",
       "       'BR', 'PT', 'RU', 'TH', 'GH', 'HR', 'VN', 'IE', 'NL', 'SE', 'SG',\n",
       "       'EE', 'AM', 'BA', 'KE', 'GR', 'MK', 'LV', 'RO', 'PK', 'IT', 'MA',\n",
       "       'PL', 'CO', 'AL', 'AR', 'LT', 'AS', 'CR', 'IR', 'BS', 'HU', 'CH',\n",
       "       'AT', 'SK', 'CZ', 'TR', 'PR', 'FI', 'DK', 'BO', 'PH', 'BE', 'ID',\n",
       "       'EG', 'AE', 'LU', 'MY', 'HN', 'JP', 'DZ', 'IQ', 'UA', 'CN', 'NZ',\n",
       "       'CL', 'MD', 'IL', 'MT'], dtype=object)"
      ]
     },
     "execution_count": 57,
     "metadata": {},
     "output_type": "execute_result"
    }
   ],
   "source": [
    "salary_data['company_location'].unique()"
   ]
  },
  {
   "cell_type": "code",
   "execution_count": 58,
   "id": "9ff638e2",
   "metadata": {},
   "outputs": [
    {
     "data": {
      "text/plain": [
       "US    2382\n",
       "GB     149\n",
       "ES      68\n",
       "CA      65\n",
       "IN      52\n",
       "Name: company_location, dtype: int64"
      ]
     },
     "execution_count": 58,
     "metadata": {},
     "output_type": "execute_result"
    }
   ],
   "source": [
    "salary_data['company_location'].value_counts().head()"
   ]
  },
  {
   "cell_type": "markdown",
   "id": "869b41c0",
   "metadata": {},
   "source": [
    "##### Company size"
   ]
  },
  {
   "cell_type": "code",
   "execution_count": 59,
   "id": "7217f23c",
   "metadata": {},
   "outputs": [
    {
     "data": {
      "text/plain": [
       "array(['M', 'L', 'S'], dtype=object)"
      ]
     },
     "execution_count": 59,
     "metadata": {},
     "output_type": "execute_result"
    }
   ],
   "source": [
    "salary_data['company_size'].unique()"
   ]
  },
  {
   "cell_type": "code",
   "execution_count": 60,
   "id": "0a3f3c31",
   "metadata": {},
   "outputs": [
    {
     "data": {
      "text/plain": [
       "M    2474\n",
       "L     392\n",
       "S     140\n",
       "Name: company_size, dtype: int64"
      ]
     },
     "execution_count": 60,
     "metadata": {},
     "output_type": "execute_result"
    }
   ],
   "source": [
    "salary_data['company_size'].value_counts()"
   ]
  },
  {
   "cell_type": "markdown",
   "id": "f7aec197",
   "metadata": {},
   "source": [
    "S: less than 50 employees (small)\n",
    "M: 50 to 250 employees (medium)\n",
    "L: more than 250 employees (large)"
   ]
  },
  {
   "cell_type": "markdown",
   "id": "ee26494d",
   "metadata": {},
   "source": [
    "### Numerical Data"
   ]
  },
  {
   "cell_type": "markdown",
   "id": "cfe66c9a",
   "metadata": {},
   "source": [
    "##### Work year"
   ]
  },
  {
   "cell_type": "code",
   "execution_count": 61,
   "id": "6cd155ec",
   "metadata": {},
   "outputs": [
    {
     "data": {
      "text/plain": [
       "2022    1657\n",
       "2023    1044\n",
       "2021     230\n",
       "2020      75\n",
       "Name: work_year, dtype: int64"
      ]
     },
     "execution_count": 61,
     "metadata": {},
     "output_type": "execute_result"
    }
   ],
   "source": [
    "salary_data['work_year'].value_counts()"
   ]
  },
  {
   "cell_type": "markdown",
   "id": "438c1318",
   "metadata": {},
   "source": [
    "##### Salary"
   ]
  },
  {
   "cell_type": "code",
   "execution_count": 62,
   "id": "ca7c86f7",
   "metadata": {},
   "outputs": [
    {
     "data": {
      "text/plain": [
       "count      3006.000000\n",
       "mean     134282.715569\n",
       "std       62764.987716\n",
       "min        5000.000000\n",
       "25%       91427.750000\n",
       "50%      130000.000000\n",
       "75%      172339.500000\n",
       "max      450000.000000\n",
       "Name: salary_in_usd, dtype: float64"
      ]
     },
     "execution_count": 62,
     "metadata": {},
     "output_type": "execute_result"
    }
   ],
   "source": [
    "salary_data['salary_in_usd'].describe()"
   ]
  },
  {
   "cell_type": "markdown",
   "id": "80a0ac10",
   "metadata": {},
   "source": [
    "##### Remote ratio"
   ]
  },
  {
   "cell_type": "code",
   "execution_count": 63,
   "id": "de0116fd",
   "metadata": {},
   "outputs": [
    {
     "data": {
      "text/plain": [
       "0      1440\n",
       "100    1387\n",
       "50      179\n",
       "Name: remote_ratio, dtype: int64"
      ]
     },
     "execution_count": 63,
     "metadata": {},
     "output_type": "execute_result"
    }
   ],
   "source": [
    "salary_data['remote_ratio'].value_counts()"
   ]
  },
  {
   "cell_type": "markdown",
   "id": "f4c1a1c1",
   "metadata": {},
   "source": [
    "0: No remote work (less than 20%)\n",
    "\n",
    "50: Partially remote\n",
    "\n",
    "100: Fully remote (more than 80%)"
   ]
  },
  {
   "cell_type": "markdown",
   "id": "8ef44c48",
   "metadata": {},
   "source": [
    "### Relationships"
   ]
  },
  {
   "cell_type": "markdown",
   "id": "cb0639cc",
   "metadata": {},
   "source": [
    "##### Top employee residences for remote workers"
   ]
  },
  {
   "cell_type": "code",
   "execution_count": 64,
   "id": "79fb8f4b",
   "metadata": {},
   "outputs": [
    {
     "data": {
      "text/plain": [
       "US    1083\n",
       "GB      53\n",
       "CA      36\n",
       "IN      35\n",
       "ES      22\n",
       "Name: employee_residence, dtype: int64"
      ]
     },
     "execution_count": 64,
     "metadata": {},
     "output_type": "execute_result"
    }
   ],
   "source": [
    "salary_data[salary_data['remote_ratio']==100]['employee_residence'].value_counts().head()"
   ]
  },
  {
   "cell_type": "markdown",
   "id": "3d4b3531",
   "metadata": {},
   "source": [
    "##### Distribution of Numerical Values"
   ]
  },
  {
   "cell_type": "code",
   "execution_count": 65,
   "id": "bb8b39a2",
   "metadata": {},
   "outputs": [
    {
     "data": {
      "image/png": "[encoded data removed]",
      "text/plain": [
       "<Figure size 1500x1000 with 4 Axes>"
      ]
     },
     "metadata": {},
     "output_type": "display_data"
    }
   ],
   "source": [
    "salary_data.hist(figsize=(15, 10))\n",
    "plt.subplots_adjust(hspace=0.5);"
   ]
  },
  {
   "cell_type": "markdown",
   "id": "3100cce9",
   "metadata": {},
   "source": [
    "### Data Cleaning"
   ]
  },
  {
   "cell_type": "markdown",
   "id": "b5f5a20f",
   "metadata": {},
   "source": [
    "##### Dropping 'salary' and 'salary_currency' column in favor of 'salary_in_usd'"
   ]
  },
  {
   "cell_type": "code",
   "execution_count": 66,
   "id": "7d192412",
   "metadata": {},
   "outputs": [
    {
     "data": {
      "text/html": [
       "<div>\n",
       "<style scoped>\n",
       "    .dataframe tbody tr th:only-of-type {\n",
       "        vertical-align: middle;\n",
       "    }\n",
       "\n",
       "    .dataframe tbody tr th {\n",
       "        vertical-align: top;\n",
       "    }\n",
       "\n",
       "    .dataframe thead th {\n",
       "        text-align: right;\n",
       "    }\n",
       "</style>\n",
       "<table border=\"1\" class=\"dataframe\">\n",
       "  <thead>\n",
       "    <tr style=\"text-align: right;\">\n",
       "      <th></th>\n",
       "      <th>work_year</th>\n",
       "      <th>experience_level</th>\n",
       "      <th>employment_type</th>\n",
       "      <th>job_title</th>\n",
       "      <th>salary_in_usd</th>\n",
       "      <th>employee_residence</th>\n",
       "      <th>remote_ratio</th>\n",
       "      <th>company_location</th>\n",
       "      <th>company_size</th>\n",
       "    </tr>\n",
       "  </thead>\n",
       "  <tbody>\n",
       "    <tr>\n",
       "      <th>0</th>\n",
       "      <td>2023</td>\n",
       "      <td>EN</td>\n",
       "      <td>FT</td>\n",
       "      <td>Data Analyst</td>\n",
       "      <td>75000</td>\n",
       "      <td>US</td>\n",
       "      <td>100</td>\n",
       "      <td>US</td>\n",
       "      <td>M</td>\n",
       "    </tr>\n",
       "    <tr>\n",
       "      <th>1</th>\n",
       "      <td>2023</td>\n",
       "      <td>EN</td>\n",
       "      <td>FT</td>\n",
       "      <td>Data Analyst</td>\n",
       "      <td>60000</td>\n",
       "      <td>US</td>\n",
       "      <td>100</td>\n",
       "      <td>US</td>\n",
       "      <td>M</td>\n",
       "    </tr>\n",
       "    <tr>\n",
       "      <th>2</th>\n",
       "      <td>2023</td>\n",
       "      <td>MI</td>\n",
       "      <td>FT</td>\n",
       "      <td>Analytics Engineer</td>\n",
       "      <td>185700</td>\n",
       "      <td>US</td>\n",
       "      <td>0</td>\n",
       "      <td>US</td>\n",
       "      <td>M</td>\n",
       "    </tr>\n",
       "    <tr>\n",
       "      <th>3</th>\n",
       "      <td>2023</td>\n",
       "      <td>MI</td>\n",
       "      <td>FT</td>\n",
       "      <td>Analytics Engineer</td>\n",
       "      <td>165000</td>\n",
       "      <td>US</td>\n",
       "      <td>0</td>\n",
       "      <td>US</td>\n",
       "      <td>M</td>\n",
       "    </tr>\n",
       "    <tr>\n",
       "      <th>4</th>\n",
       "      <td>2023</td>\n",
       "      <td>SE</td>\n",
       "      <td>FT</td>\n",
       "      <td>Data Engineer</td>\n",
       "      <td>160000</td>\n",
       "      <td>US</td>\n",
       "      <td>100</td>\n",
       "      <td>US</td>\n",
       "      <td>M</td>\n",
       "    </tr>\n",
       "  </tbody>\n",
       "</table>\n",
       "</div>"
      ],
      "text/plain": [
       "   work_year experience_level employment_type           job_title  \\\n",
       "0       2023               EN              FT        Data Analyst   \n",
       "1       2023               EN              FT        Data Analyst   \n",
       "2       2023               MI              FT  Analytics Engineer   \n",
       "3       2023               MI              FT  Analytics Engineer   \n",
       "4       2023               SE              FT       Data Engineer   \n",
       "\n",
       "   salary_in_usd employee_residence  remote_ratio company_location  \\\n",
       "0          75000                 US           100               US   \n",
       "1          60000                 US           100               US   \n",
       "2         185700                 US             0               US   \n",
       "3         165000                 US             0               US   \n",
       "4         160000                 US           100               US   \n",
       "\n",
       "  company_size  \n",
       "0            M  \n",
       "1            M  \n",
       "2            M  \n",
       "3            M  \n",
       "4            M  "
      ]
     },
     "execution_count": 66,
     "metadata": {},
     "output_type": "execute_result"
    }
   ],
   "source": [
    "clean_salary = salary_data.drop(['salary', 'salary_currency'], axis=1)\n",
    "clean_salary.head()"
   ]
  },
  {
   "cell_type": "markdown",
   "id": "80adef52",
   "metadata": {},
   "source": [
    "##### Salary Outliers"
   ]
  },
  {
   "cell_type": "code",
   "execution_count": 67,
   "id": "c7175199",
   "metadata": {},
   "outputs": [
    {
     "data": {
      "text/plain": [
       "count        47.000000\n",
       "mean     333145.680851\n",
       "std       43426.437252\n",
       "min      297300.000000\n",
       "25%      300000.000000\n",
       "50%      310000.000000\n",
       "75%      360000.000000\n",
       "max      450000.000000\n",
       "Name: salary_in_usd, dtype: float64"
      ]
     },
     "execution_count": 67,
     "metadata": {},
     "output_type": "execute_result"
    }
   ],
   "source": [
    "salaries = clean_salary['salary_in_usd']\n",
    "q1=salaries.quantile(0.25)\n",
    "q3=salaries.quantile(0.75)\n",
    "\n",
    "IQR=q3-q1\n",
    "\n",
    "salary_outliers = salaries[((salaries<(q1-1.5*IQR)) | (salaries>(q3+1.5*IQR)))]\n",
    "salary_outliers.describe()"
   ]
  },
  {
   "cell_type": "markdown",
   "id": "961be842",
   "metadata": {},
   "source": [
    "##### Changing relevant data types to categories"
   ]
  },
  {
   "cell_type": "code",
   "execution_count": 68,
   "id": "5cb0f240",
   "metadata": {},
   "outputs": [],
   "source": [
    "clean_salary['work_year'] = clean_salary['work_year'].astype('category')\n",
    "clean_salary['remote_ratio'] = clean_salary['remote_ratio'].astype('category')\n",
    "clean_salary['experience_level'] = clean_salary['experience_level'].astype('category')\n",
    "clean_salary['employment_type'] = clean_salary['employment_type'].astype('category')\n",
    "clean_salary['company_size'] = clean_salary['company_size'].astype('category')"
   ]
  },
  {
   "cell_type": "code",
   "execution_count": 69,
   "id": "d0f61f40",
   "metadata": {},
   "outputs": [
    {
     "name": "stdout",
     "output_type": "stream",
     "text": [
      "<class 'pandas.core.frame.DataFrame'>\n",
      "RangeIndex: 3006 entries, 0 to 3005\n",
      "Data columns (total 9 columns):\n",
      " #   Column              Non-Null Count  Dtype   \n",
      "---  ------              --------------  -----   \n",
      " 0   work_year           3006 non-null   category\n",
      " 1   experience_level    3006 non-null   category\n",
      " 2   employment_type     3006 non-null   category\n",
      " 3   job_title           3006 non-null   object  \n",
      " 4   salary_in_usd       3006 non-null   int64   \n",
      " 5   employee_residence  3006 non-null   object  \n",
      " 6   remote_ratio        3006 non-null   category\n",
      " 7   company_location    3006 non-null   object  \n",
      " 8   company_size        3006 non-null   category\n",
      "dtypes: category(5), int64(1), object(3)\n",
      "memory usage: 109.6+ KB\n"
     ]
    }
   ],
   "source": [
    "clean_salary.info()"
   ]
  },
  {
   "cell_type": "code",
   "execution_count": 70,
   "id": "06a338e9",
   "metadata": {},
   "outputs": [
    {
     "data": {
      "text/plain": [
       "work_year             False\n",
       "experience_level      False\n",
       "employment_type       False\n",
       "job_title             False\n",
       "salary_in_usd         False\n",
       "employee_residence    False\n",
       "remote_ratio          False\n",
       "company_location      False\n",
       "company_size          False\n",
       "dtype: bool"
      ]
     },
     "execution_count": 70,
     "metadata": {},
     "output_type": "execute_result"
    }
   ],
   "source": [
    "clean_salary.isna().any()"
   ]
  },
  {
   "cell_type": "markdown",
   "id": "ad362529",
   "metadata": {},
   "source": [
    "### Save clean data"
   ]
  },
  {
   "cell_type": "code",
   "execution_count": 71,
   "id": "95f2644c",
   "metadata": {},
   "outputs": [],
   "source": [
    "clean_salary.to_csv('clean_salary.csv')"
   ]
  }
 ],
 "metadata": {
  "kernelspec": {
   "display_name": "Python 3 (ipykernel)",
   "language": "python",
   "name": "python3"
  },
  "language_info": {
   "codemirror_mode": {
    "name": "ipython",
    "version": 3
   },
   "file_extension": ".py",
   "mimetype": "text/x-python",
   "name": "python",
   "nbconvert_exporter": "python",
   "pygments_lexer": "ipython3",
   "version": "3.8.10"
  }
 },
 "nbformat": 4,
 "nbformat_minor": 5
}
