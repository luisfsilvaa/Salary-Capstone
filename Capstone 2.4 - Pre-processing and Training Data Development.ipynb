{
 "cells": [
  {
   "cell_type": "markdown",
   "id": "3354bfce",
   "metadata": {},
   "source": [
    "## Imports"
   ]
  },
  {
   "cell_type": "code",
   "execution_count": 6,
   "id": "60790724",
   "metadata": {},
   "outputs": [],
   "source": [
    "import pandas as pd\n",
    "import numpy as np\n",
    "from sklearn.preprocessing import StandardScaler\n",
    "from sklearn.model_selection import train_test_split"
   ]
  },
  {
   "cell_type": "markdown",
   "id": "ede5e410",
   "metadata": {},
   "source": [
    "## Load Data"
   ]
  },
  {
   "cell_type": "code",
   "execution_count": 11,
   "id": "41e74bad",
   "metadata": {},
   "outputs": [],
   "source": [
    "salary = pd.read_csv('eda_salary.csv', index_col=0)"
   ]
  },
  {
   "cell_type": "code",
   "execution_count": 12,
   "id": "7fd0fae0",
   "metadata": {},
   "outputs": [
    {
     "data": {
      "text/html": [
       "<div>\n",
       "<style scoped>\n",
       "    .dataframe tbody tr th:only-of-type {\n",
       "        vertical-align: middle;\n",
       "    }\n",
       "\n",
       "    .dataframe tbody tr th {\n",
       "        vertical-align: top;\n",
       "    }\n",
       "\n",
       "    .dataframe thead th {\n",
       "        text-align: right;\n",
       "    }\n",
       "</style>\n",
       "<table border=\"1\" class=\"dataframe\">\n",
       "  <thead>\n",
       "    <tr style=\"text-align: right;\">\n",
       "      <th></th>\n",
       "      <th>experience_level</th>\n",
       "      <th>salary_in_usd</th>\n",
       "      <th>remote_ratio</th>\n",
       "      <th>company_size</th>\n",
       "      <th>company_continent</th>\n",
       "      <th>employee_continent</th>\n",
       "    </tr>\n",
       "  </thead>\n",
       "  <tbody>\n",
       "    <tr>\n",
       "      <th>0</th>\n",
       "      <td>EN</td>\n",
       "      <td>75000</td>\n",
       "      <td>100</td>\n",
       "      <td>M</td>\n",
       "      <td>NAM</td>\n",
       "      <td>NAM</td>\n",
       "    </tr>\n",
       "    <tr>\n",
       "      <th>1</th>\n",
       "      <td>EN</td>\n",
       "      <td>60000</td>\n",
       "      <td>100</td>\n",
       "      <td>M</td>\n",
       "      <td>NAM</td>\n",
       "      <td>NAM</td>\n",
       "    </tr>\n",
       "    <tr>\n",
       "      <th>2</th>\n",
       "      <td>MI</td>\n",
       "      <td>185700</td>\n",
       "      <td>0</td>\n",
       "      <td>M</td>\n",
       "      <td>NAM</td>\n",
       "      <td>NAM</td>\n",
       "    </tr>\n",
       "    <tr>\n",
       "      <th>3</th>\n",
       "      <td>MI</td>\n",
       "      <td>165000</td>\n",
       "      <td>0</td>\n",
       "      <td>M</td>\n",
       "      <td>NAM</td>\n",
       "      <td>NAM</td>\n",
       "    </tr>\n",
       "    <tr>\n",
       "      <th>4</th>\n",
       "      <td>SE</td>\n",
       "      <td>160000</td>\n",
       "      <td>100</td>\n",
       "      <td>M</td>\n",
       "      <td>NAM</td>\n",
       "      <td>NAM</td>\n",
       "    </tr>\n",
       "  </tbody>\n",
       "</table>\n",
       "</div>"
      ],
      "text/plain": [
       "  experience_level  salary_in_usd  remote_ratio company_size  \\\n",
       "0               EN          75000           100            M   \n",
       "1               EN          60000           100            M   \n",
       "2               MI         185700             0            M   \n",
       "3               MI         165000             0            M   \n",
       "4               SE         160000           100            M   \n",
       "\n",
       "  company_continent employee_continent  \n",
       "0               NAM                NAM  \n",
       "1               NAM                NAM  \n",
       "2               NAM                NAM  \n",
       "3               NAM                NAM  \n",
       "4               NAM                NAM  "
      ]
     },
     "execution_count": 12,
     "metadata": {},
     "output_type": "execute_result"
    }
   ],
   "source": [
    "salary.head()"
   ]
  },
  {
   "cell_type": "code",
   "execution_count": 17,
   "id": "acee1393",
   "metadata": {},
   "outputs": [],
   "source": [
    "salary['remote_ratio'] = salary['remote_ratio'].astype('object')"
   ]
  },
  {
   "cell_type": "code",
   "execution_count": 18,
   "id": "acf74055",
   "metadata": {},
   "outputs": [
    {
     "name": "stdout",
     "output_type": "stream",
     "text": [
      "<class 'pandas.core.frame.DataFrame'>\n",
      "Int64Index: 3037 entries, 0 to 3036\n",
      "Data columns (total 6 columns):\n",
      " #   Column              Non-Null Count  Dtype \n",
      "---  ------              --------------  ----- \n",
      " 0   experience_level    3037 non-null   object\n",
      " 1   salary_in_usd       3037 non-null   int64 \n",
      " 2   remote_ratio        3037 non-null   object\n",
      " 3   company_size        3037 non-null   object\n",
      " 4   company_continent   3037 non-null   object\n",
      " 5   employee_continent  3037 non-null   object\n",
      "dtypes: int64(1), object(5)\n",
      "memory usage: 166.1+ KB\n"
     ]
    }
   ],
   "source": [
    "salary.info()"
   ]
  },
  {
   "cell_type": "code",
   "execution_count": 19,
   "id": "bc9131e2",
   "metadata": {},
   "outputs": [
    {
     "data": {
      "text/html": [
       "<div>\n",
       "<style scoped>\n",
       "    .dataframe tbody tr th:only-of-type {\n",
       "        vertical-align: middle;\n",
       "    }\n",
       "\n",
       "    .dataframe tbody tr th {\n",
       "        vertical-align: top;\n",
       "    }\n",
       "\n",
       "    .dataframe thead th {\n",
       "        text-align: right;\n",
       "    }\n",
       "</style>\n",
       "<table border=\"1\" class=\"dataframe\">\n",
       "  <thead>\n",
       "    <tr style=\"text-align: right;\">\n",
       "      <th></th>\n",
       "      <th>0</th>\n",
       "      <th>1</th>\n",
       "      <th>2</th>\n",
       "      <th>3</th>\n",
       "      <th>4</th>\n",
       "    </tr>\n",
       "  </thead>\n",
       "  <tbody>\n",
       "    <tr>\n",
       "      <th>experience_level</th>\n",
       "      <td>EN</td>\n",
       "      <td>EN</td>\n",
       "      <td>MI</td>\n",
       "      <td>MI</td>\n",
       "      <td>SE</td>\n",
       "    </tr>\n",
       "    <tr>\n",
       "      <th>salary_in_usd</th>\n",
       "      <td>75000</td>\n",
       "      <td>60000</td>\n",
       "      <td>185700</td>\n",
       "      <td>165000</td>\n",
       "      <td>160000</td>\n",
       "    </tr>\n",
       "    <tr>\n",
       "      <th>remote_ratio</th>\n",
       "      <td>100</td>\n",
       "      <td>100</td>\n",
       "      <td>0</td>\n",
       "      <td>0</td>\n",
       "      <td>100</td>\n",
       "    </tr>\n",
       "    <tr>\n",
       "      <th>company_size</th>\n",
       "      <td>M</td>\n",
       "      <td>M</td>\n",
       "      <td>M</td>\n",
       "      <td>M</td>\n",
       "      <td>M</td>\n",
       "    </tr>\n",
       "    <tr>\n",
       "      <th>company_continent</th>\n",
       "      <td>NAM</td>\n",
       "      <td>NAM</td>\n",
       "      <td>NAM</td>\n",
       "      <td>NAM</td>\n",
       "      <td>NAM</td>\n",
       "    </tr>\n",
       "    <tr>\n",
       "      <th>employee_continent</th>\n",
       "      <td>NAM</td>\n",
       "      <td>NAM</td>\n",
       "      <td>NAM</td>\n",
       "      <td>NAM</td>\n",
       "      <td>NAM</td>\n",
       "    </tr>\n",
       "  </tbody>\n",
       "</table>\n",
       "</div>"
      ],
      "text/plain": [
       "                        0      1       2       3       4\n",
       "experience_level       EN     EN      MI      MI      SE\n",
       "salary_in_usd       75000  60000  185700  165000  160000\n",
       "remote_ratio          100    100       0       0     100\n",
       "company_size            M      M       M       M       M\n",
       "company_continent     NAM    NAM     NAM     NAM     NAM\n",
       "employee_continent    NAM    NAM     NAM     NAM     NAM"
      ]
     },
     "execution_count": 19,
     "metadata": {},
     "output_type": "execute_result"
    }
   ],
   "source": [
    "salary.head().T"
   ]
  },
  {
   "cell_type": "markdown",
   "id": "34f005b7",
   "metadata": {},
   "source": [
    "### Dummies for Categorical Data"
   ]
  },
  {
   "cell_type": "code",
   "execution_count": 21,
   "id": "472c407c",
   "metadata": {},
   "outputs": [
    {
     "name": "stderr",
     "output_type": "stream",
     "text": [
      "C:\\Users\\luisf\\AppData\\Local\\Temp\\ipykernel_13380\\2885102678.py:1: FutureWarning: In a future version, the Index constructor will not infer numeric dtypes when passed object-dtype sequences (matching Series behavior)\n",
      "  dummies = pd.get_dummies(salary)\n"
     ]
    },
    {
     "data": {
      "text/html": [
       "<div>\n",
       "<style scoped>\n",
       "    .dataframe tbody tr th:only-of-type {\n",
       "        vertical-align: middle;\n",
       "    }\n",
       "\n",
       "    .dataframe tbody tr th {\n",
       "        vertical-align: top;\n",
       "    }\n",
       "\n",
       "    .dataframe thead th {\n",
       "        text-align: right;\n",
       "    }\n",
       "</style>\n",
       "<table border=\"1\" class=\"dataframe\">\n",
       "  <thead>\n",
       "    <tr style=\"text-align: right;\">\n",
       "      <th></th>\n",
       "      <th>salary_in_usd</th>\n",
       "      <th>experience_level_EN</th>\n",
       "      <th>experience_level_EX</th>\n",
       "      <th>experience_level_MI</th>\n",
       "      <th>experience_level_SE</th>\n",
       "      <th>remote_ratio_0</th>\n",
       "      <th>remote_ratio_50</th>\n",
       "      <th>remote_ratio_100</th>\n",
       "      <th>company_size_L</th>\n",
       "      <th>company_size_M</th>\n",
       "      <th>...</th>\n",
       "      <th>company_continent_EU</th>\n",
       "      <th>company_continent_NAM</th>\n",
       "      <th>company_continent_OC</th>\n",
       "      <th>company_continent_SA</th>\n",
       "      <th>employee_continent_AF</th>\n",
       "      <th>employee_continent_AS</th>\n",
       "      <th>employee_continent_EU</th>\n",
       "      <th>employee_continent_NAM</th>\n",
       "      <th>employee_continent_OC</th>\n",
       "      <th>employee_continent_SA</th>\n",
       "    </tr>\n",
       "  </thead>\n",
       "  <tbody>\n",
       "    <tr>\n",
       "      <th>0</th>\n",
       "      <td>75000</td>\n",
       "      <td>1</td>\n",
       "      <td>0</td>\n",
       "      <td>0</td>\n",
       "      <td>0</td>\n",
       "      <td>0</td>\n",
       "      <td>0</td>\n",
       "      <td>1</td>\n",
       "      <td>0</td>\n",
       "      <td>1</td>\n",
       "      <td>...</td>\n",
       "      <td>0</td>\n",
       "      <td>1</td>\n",
       "      <td>0</td>\n",
       "      <td>0</td>\n",
       "      <td>0</td>\n",
       "      <td>0</td>\n",
       "      <td>0</td>\n",
       "      <td>1</td>\n",
       "      <td>0</td>\n",
       "      <td>0</td>\n",
       "    </tr>\n",
       "    <tr>\n",
       "      <th>1</th>\n",
       "      <td>60000</td>\n",
       "      <td>1</td>\n",
       "      <td>0</td>\n",
       "      <td>0</td>\n",
       "      <td>0</td>\n",
       "      <td>0</td>\n",
       "      <td>0</td>\n",
       "      <td>1</td>\n",
       "      <td>0</td>\n",
       "      <td>1</td>\n",
       "      <td>...</td>\n",
       "      <td>0</td>\n",
       "      <td>1</td>\n",
       "      <td>0</td>\n",
       "      <td>0</td>\n",
       "      <td>0</td>\n",
       "      <td>0</td>\n",
       "      <td>0</td>\n",
       "      <td>1</td>\n",
       "      <td>0</td>\n",
       "      <td>0</td>\n",
       "    </tr>\n",
       "    <tr>\n",
       "      <th>2</th>\n",
       "      <td>185700</td>\n",
       "      <td>0</td>\n",
       "      <td>0</td>\n",
       "      <td>1</td>\n",
       "      <td>0</td>\n",
       "      <td>1</td>\n",
       "      <td>0</td>\n",
       "      <td>0</td>\n",
       "      <td>0</td>\n",
       "      <td>1</td>\n",
       "      <td>...</td>\n",
       "      <td>0</td>\n",
       "      <td>1</td>\n",
       "      <td>0</td>\n",
       "      <td>0</td>\n",
       "      <td>0</td>\n",
       "      <td>0</td>\n",
       "      <td>0</td>\n",
       "      <td>1</td>\n",
       "      <td>0</td>\n",
       "      <td>0</td>\n",
       "    </tr>\n",
       "    <tr>\n",
       "      <th>3</th>\n",
       "      <td>165000</td>\n",
       "      <td>0</td>\n",
       "      <td>0</td>\n",
       "      <td>1</td>\n",
       "      <td>0</td>\n",
       "      <td>1</td>\n",
       "      <td>0</td>\n",
       "      <td>0</td>\n",
       "      <td>0</td>\n",
       "      <td>1</td>\n",
       "      <td>...</td>\n",
       "      <td>0</td>\n",
       "      <td>1</td>\n",
       "      <td>0</td>\n",
       "      <td>0</td>\n",
       "      <td>0</td>\n",
       "      <td>0</td>\n",
       "      <td>0</td>\n",
       "      <td>1</td>\n",
       "      <td>0</td>\n",
       "      <td>0</td>\n",
       "    </tr>\n",
       "    <tr>\n",
       "      <th>4</th>\n",
       "      <td>160000</td>\n",
       "      <td>0</td>\n",
       "      <td>0</td>\n",
       "      <td>0</td>\n",
       "      <td>1</td>\n",
       "      <td>0</td>\n",
       "      <td>0</td>\n",
       "      <td>1</td>\n",
       "      <td>0</td>\n",
       "      <td>1</td>\n",
       "      <td>...</td>\n",
       "      <td>0</td>\n",
       "      <td>1</td>\n",
       "      <td>0</td>\n",
       "      <td>0</td>\n",
       "      <td>0</td>\n",
       "      <td>0</td>\n",
       "      <td>0</td>\n",
       "      <td>1</td>\n",
       "      <td>0</td>\n",
       "      <td>0</td>\n",
       "    </tr>\n",
       "  </tbody>\n",
       "</table>\n",
       "<p>5 rows × 23 columns</p>\n",
       "</div>"
      ],
      "text/plain": [
       "   salary_in_usd  experience_level_EN  experience_level_EX  \\\n",
       "0          75000                    1                    0   \n",
       "1          60000                    1                    0   \n",
       "2         185700                    0                    0   \n",
       "3         165000                    0                    0   \n",
       "4         160000                    0                    0   \n",
       "\n",
       "   experience_level_MI  experience_level_SE  remote_ratio_0  remote_ratio_50  \\\n",
       "0                    0                    0               0                0   \n",
       "1                    0                    0               0                0   \n",
       "2                    1                    0               1                0   \n",
       "3                    1                    0               1                0   \n",
       "4                    0                    1               0                0   \n",
       "\n",
       "   remote_ratio_100  company_size_L  company_size_M  ...  \\\n",
       "0                 1               0               1  ...   \n",
       "1                 1               0               1  ...   \n",
       "2                 0               0               1  ...   \n",
       "3                 0               0               1  ...   \n",
       "4                 1               0               1  ...   \n",
       "\n",
       "   company_continent_EU  company_continent_NAM  company_continent_OC  \\\n",
       "0                     0                      1                     0   \n",
       "1                     0                      1                     0   \n",
       "2                     0                      1                     0   \n",
       "3                     0                      1                     0   \n",
       "4                     0                      1                     0   \n",
       "\n",
       "   company_continent_SA  employee_continent_AF  employee_continent_AS  \\\n",
       "0                     0                      0                      0   \n",
       "1                     0                      0                      0   \n",
       "2                     0                      0                      0   \n",
       "3                     0                      0                      0   \n",
       "4                     0                      0                      0   \n",
       "\n",
       "   employee_continent_EU  employee_continent_NAM  employee_continent_OC  \\\n",
       "0                      0                       1                      0   \n",
       "1                      0                       1                      0   \n",
       "2                      0                       1                      0   \n",
       "3                      0                       1                      0   \n",
       "4                      0                       1                      0   \n",
       "\n",
       "   employee_continent_SA  \n",
       "0                      0  \n",
       "1                      0  \n",
       "2                      0  \n",
       "3                      0  \n",
       "4                      0  \n",
       "\n",
       "[5 rows x 23 columns]"
      ]
     },
     "execution_count": 21,
     "metadata": {},
     "output_type": "execute_result"
    }
   ],
   "source": [
    "dummies = pd.get_dummies(salary)\n",
    "dummies.head()"
   ]
  },
  {
   "cell_type": "markdown",
   "id": "57bef073",
   "metadata": {},
   "source": [
    "### Standarization"
   ]
  },
  {
   "cell_type": "markdown",
   "id": "156d42e1",
   "metadata": {},
   "source": [
    "Because all of our numerical data is in one column, 'salary_in_usd', which has only has one type currency (dollar), we will not be standarizing the values. This also helps with the interpretability, as our Y value will be predicted in dollars."
   ]
  },
  {
   "cell_type": "markdown",
   "id": "b45f89a6",
   "metadata": {},
   "source": [
    "### Train Test Split"
   ]
  },
  {
   "cell_type": "code",
   "execution_count": 27,
   "id": "e66b981f",
   "metadata": {},
   "outputs": [],
   "source": [
    "X = dummies.drop(columns=['salary_in_usd'])\n",
    "y = dummies['salary_in_usd']\n",
    "X_train, X_test, y_train, y_test = train_test_split(X, y, test_size=0.2, train_size=0.8)"
   ]
  },
  {
   "cell_type": "code",
   "execution_count": 28,
   "id": "29d906b1",
   "metadata": {},
   "outputs": [
    {
     "name": "stdout",
     "output_type": "stream",
     "text": [
      "(2429, 22)\n",
      "(608, 22)\n"
     ]
    }
   ],
   "source": [
    "print(X_train.shape)\n",
    "print(X_test.shape)"
   ]
  },
  {
   "cell_type": "code",
   "execution_count": 30,
   "id": "3769589a",
   "metadata": {},
   "outputs": [
    {
     "name": "stdout",
     "output_type": "stream",
     "text": [
      "(2429,)\n",
      "(608,)\n"
     ]
    }
   ],
   "source": [
    "print(y_train.shape)\n",
    "print(y_test.shape)"
   ]
  },
  {
   "cell_type": "code",
   "execution_count": 33,
   "id": "32316dd5",
   "metadata": {},
   "outputs": [
    {
     "name": "stdout",
     "output_type": "stream",
     "text": [
      "133636.21902017292 63717.470319909\n"
     ]
    }
   ],
   "source": [
    "train_mean = y_train.mean()\n",
    "train_std = y_train.std()\n",
    "print(train_mean, train_std)"
   ]
  },
  {
   "cell_type": "code",
   "execution_count": null,
   "id": "c46d5d7e",
   "metadata": {},
   "outputs": [],
   "source": []
  }
 ],
 "metadata": {
  "kernelspec": {
   "display_name": "Python 3 (ipykernel)",
   "language": "python",
   "name": "python3"
  },
  "language_info": {
   "codemirror_mode": {
    "name": "ipython",
    "version": 3
   },
   "file_extension": ".py",
   "mimetype": "text/x-python",
   "name": "python",
   "nbconvert_exporter": "python",
   "pygments_lexer": "ipython3",
   "version": "3.8.10"
  }
 },
 "nbformat": 4,
 "nbformat_minor": 5
}
