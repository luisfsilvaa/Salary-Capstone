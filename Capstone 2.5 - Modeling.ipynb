{
 "cells": [
  {
   "cell_type": "markdown",
   "id": "ef0f9d93",
   "metadata": {},
   "source": [
    "## Imports"
   ]
  },
  {
   "cell_type": "code",
   "execution_count": 218,
   "id": "3e0cd38b",
   "metadata": {},
   "outputs": [],
   "source": [
    "import pandas as pd\n",
    "import matplotlib.pyplot as plt\n",
    "import seaborn as sns\n",
    "import numpy as np\n",
    "from sklearn.model_selection import train_test_split, GridSearchCV, KFold, cross_val_score\n",
    "from sklearn.linear_model import LinearRegression, Ridge\n",
    "from sklearn.metrics import r2_score, mean_squared_error, mean_absolute_error\n",
    "from sklearn.ensemble import RandomForestRegressor\n",
    "from sklearn.feature_selection import RFE"
   ]
  },
  {
   "cell_type": "markdown",
   "id": "a207cc17",
   "metadata": {},
   "source": [
    "## Load Data"
   ]
  },
  {
   "cell_type": "code",
   "execution_count": 219,
   "id": "daf7e5c4",
   "metadata": {},
   "outputs": [],
   "source": [
    "df = pd.read_csv('processed_data.csv', index_col=0)"
   ]
  },
  {
   "cell_type": "code",
   "execution_count": 220,
   "id": "d622c1b8",
   "metadata": {},
   "outputs": [
    {
     "data": {
      "text/html": [
       "<div>\n",
       "<style scoped>\n",
       "    .dataframe tbody tr th:only-of-type {\n",
       "        vertical-align: middle;\n",
       "    }\n",
       "\n",
       "    .dataframe tbody tr th {\n",
       "        vertical-align: top;\n",
       "    }\n",
       "\n",
       "    .dataframe thead th {\n",
       "        text-align: right;\n",
       "    }\n",
       "</style>\n",
       "<table border=\"1\" class=\"dataframe\">\n",
       "  <thead>\n",
       "    <tr style=\"text-align: right;\">\n",
       "      <th></th>\n",
       "      <th>salary_in_usd</th>\n",
       "      <th>experience_level_EN</th>\n",
       "      <th>experience_level_EX</th>\n",
       "      <th>experience_level_MI</th>\n",
       "      <th>experience_level_SE</th>\n",
       "      <th>remote_ratio_0</th>\n",
       "      <th>remote_ratio_50</th>\n",
       "      <th>remote_ratio_100</th>\n",
       "      <th>company_size_L</th>\n",
       "      <th>company_size_M</th>\n",
       "      <th>company_size_S</th>\n",
       "      <th>company_continent_AF</th>\n",
       "      <th>company_continent_AS</th>\n",
       "      <th>company_continent_EU</th>\n",
       "      <th>company_continent_NAM</th>\n",
       "      <th>company_continent_OC</th>\n",
       "      <th>company_continent_SA</th>\n",
       "    </tr>\n",
       "  </thead>\n",
       "  <tbody>\n",
       "    <tr>\n",
       "      <th>0</th>\n",
       "      <td>75000</td>\n",
       "      <td>1</td>\n",
       "      <td>0</td>\n",
       "      <td>0</td>\n",
       "      <td>0</td>\n",
       "      <td>0</td>\n",
       "      <td>0</td>\n",
       "      <td>1</td>\n",
       "      <td>0</td>\n",
       "      <td>1</td>\n",
       "      <td>0</td>\n",
       "      <td>0</td>\n",
       "      <td>0</td>\n",
       "      <td>0</td>\n",
       "      <td>1</td>\n",
       "      <td>0</td>\n",
       "      <td>0</td>\n",
       "    </tr>\n",
       "    <tr>\n",
       "      <th>1</th>\n",
       "      <td>60000</td>\n",
       "      <td>1</td>\n",
       "      <td>0</td>\n",
       "      <td>0</td>\n",
       "      <td>0</td>\n",
       "      <td>0</td>\n",
       "      <td>0</td>\n",
       "      <td>1</td>\n",
       "      <td>0</td>\n",
       "      <td>1</td>\n",
       "      <td>0</td>\n",
       "      <td>0</td>\n",
       "      <td>0</td>\n",
       "      <td>0</td>\n",
       "      <td>1</td>\n",
       "      <td>0</td>\n",
       "      <td>0</td>\n",
       "    </tr>\n",
       "    <tr>\n",
       "      <th>2</th>\n",
       "      <td>185700</td>\n",
       "      <td>0</td>\n",
       "      <td>0</td>\n",
       "      <td>1</td>\n",
       "      <td>0</td>\n",
       "      <td>1</td>\n",
       "      <td>0</td>\n",
       "      <td>0</td>\n",
       "      <td>0</td>\n",
       "      <td>1</td>\n",
       "      <td>0</td>\n",
       "      <td>0</td>\n",
       "      <td>0</td>\n",
       "      <td>0</td>\n",
       "      <td>1</td>\n",
       "      <td>0</td>\n",
       "      <td>0</td>\n",
       "    </tr>\n",
       "    <tr>\n",
       "      <th>3</th>\n",
       "      <td>165000</td>\n",
       "      <td>0</td>\n",
       "      <td>0</td>\n",
       "      <td>1</td>\n",
       "      <td>0</td>\n",
       "      <td>1</td>\n",
       "      <td>0</td>\n",
       "      <td>0</td>\n",
       "      <td>0</td>\n",
       "      <td>1</td>\n",
       "      <td>0</td>\n",
       "      <td>0</td>\n",
       "      <td>0</td>\n",
       "      <td>0</td>\n",
       "      <td>1</td>\n",
       "      <td>0</td>\n",
       "      <td>0</td>\n",
       "    </tr>\n",
       "    <tr>\n",
       "      <th>4</th>\n",
       "      <td>160000</td>\n",
       "      <td>0</td>\n",
       "      <td>0</td>\n",
       "      <td>0</td>\n",
       "      <td>1</td>\n",
       "      <td>0</td>\n",
       "      <td>0</td>\n",
       "      <td>1</td>\n",
       "      <td>0</td>\n",
       "      <td>1</td>\n",
       "      <td>0</td>\n",
       "      <td>0</td>\n",
       "      <td>0</td>\n",
       "      <td>0</td>\n",
       "      <td>1</td>\n",
       "      <td>0</td>\n",
       "      <td>0</td>\n",
       "    </tr>\n",
       "  </tbody>\n",
       "</table>\n",
       "</div>"
      ],
      "text/plain": [
       "   salary_in_usd  experience_level_EN  experience_level_EX  \\\n",
       "0          75000                    1                    0   \n",
       "1          60000                    1                    0   \n",
       "2         185700                    0                    0   \n",
       "3         165000                    0                    0   \n",
       "4         160000                    0                    0   \n",
       "\n",
       "   experience_level_MI  experience_level_SE  remote_ratio_0  remote_ratio_50  \\\n",
       "0                    0                    0               0                0   \n",
       "1                    0                    0               0                0   \n",
       "2                    1                    0               1                0   \n",
       "3                    1                    0               1                0   \n",
       "4                    0                    1               0                0   \n",
       "\n",
       "   remote_ratio_100  company_size_L  company_size_M  company_size_S  \\\n",
       "0                 1               0               1               0   \n",
       "1                 1               0               1               0   \n",
       "2                 0               0               1               0   \n",
       "3                 0               0               1               0   \n",
       "4                 1               0               1               0   \n",
       "\n",
       "   company_continent_AF  company_continent_AS  company_continent_EU  \\\n",
       "0                     0                     0                     0   \n",
       "1                     0                     0                     0   \n",
       "2                     0                     0                     0   \n",
       "3                     0                     0                     0   \n",
       "4                     0                     0                     0   \n",
       "\n",
       "   company_continent_NAM  company_continent_OC  company_continent_SA  \n",
       "0                      1                     0                     0  \n",
       "1                      1                     0                     0  \n",
       "2                      1                     0                     0  \n",
       "3                      1                     0                     0  \n",
       "4                      1                     0                     0  "
      ]
     },
     "execution_count": 220,
     "metadata": {},
     "output_type": "execute_result"
    }
   ],
   "source": [
    "df.head()"
   ]
  },
  {
   "cell_type": "markdown",
   "id": "2bb0a599",
   "metadata": {},
   "source": [
    "### Linear Regression"
   ]
  },
  {
   "cell_type": "markdown",
   "id": "02ef9d2f",
   "metadata": {},
   "source": [
    "##### Train Test Split"
   ]
  },
  {
   "cell_type": "code",
   "execution_count": 221,
   "id": "25d3c68e",
   "metadata": {},
   "outputs": [
    {
     "data": {
      "text/html": [
       "<div>\n",
       "<style scoped>\n",
       "    .dataframe tbody tr th:only-of-type {\n",
       "        vertical-align: middle;\n",
       "    }\n",
       "\n",
       "    .dataframe tbody tr th {\n",
       "        vertical-align: top;\n",
       "    }\n",
       "\n",
       "    .dataframe thead th {\n",
       "        text-align: right;\n",
       "    }\n",
       "</style>\n",
       "<table border=\"1\" class=\"dataframe\">\n",
       "  <thead>\n",
       "    <tr style=\"text-align: right;\">\n",
       "      <th></th>\n",
       "      <th>experience_level_EN</th>\n",
       "      <th>experience_level_EX</th>\n",
       "      <th>experience_level_MI</th>\n",
       "      <th>experience_level_SE</th>\n",
       "      <th>remote_ratio_0</th>\n",
       "      <th>remote_ratio_50</th>\n",
       "      <th>remote_ratio_100</th>\n",
       "      <th>company_size_L</th>\n",
       "      <th>company_size_M</th>\n",
       "      <th>company_size_S</th>\n",
       "      <th>company_continent_AF</th>\n",
       "      <th>company_continent_AS</th>\n",
       "      <th>company_continent_EU</th>\n",
       "      <th>company_continent_NAM</th>\n",
       "      <th>company_continent_OC</th>\n",
       "      <th>company_continent_SA</th>\n",
       "    </tr>\n",
       "  </thead>\n",
       "  <tbody>\n",
       "    <tr>\n",
       "      <th>0</th>\n",
       "      <td>1</td>\n",
       "      <td>0</td>\n",
       "      <td>0</td>\n",
       "      <td>0</td>\n",
       "      <td>0</td>\n",
       "      <td>0</td>\n",
       "      <td>1</td>\n",
       "      <td>0</td>\n",
       "      <td>1</td>\n",
       "      <td>0</td>\n",
       "      <td>0</td>\n",
       "      <td>0</td>\n",
       "      <td>0</td>\n",
       "      <td>1</td>\n",
       "      <td>0</td>\n",
       "      <td>0</td>\n",
       "    </tr>\n",
       "    <tr>\n",
       "      <th>1</th>\n",
       "      <td>1</td>\n",
       "      <td>0</td>\n",
       "      <td>0</td>\n",
       "      <td>0</td>\n",
       "      <td>0</td>\n",
       "      <td>0</td>\n",
       "      <td>1</td>\n",
       "      <td>0</td>\n",
       "      <td>1</td>\n",
       "      <td>0</td>\n",
       "      <td>0</td>\n",
       "      <td>0</td>\n",
       "      <td>0</td>\n",
       "      <td>1</td>\n",
       "      <td>0</td>\n",
       "      <td>0</td>\n",
       "    </tr>\n",
       "    <tr>\n",
       "      <th>2</th>\n",
       "      <td>0</td>\n",
       "      <td>0</td>\n",
       "      <td>1</td>\n",
       "      <td>0</td>\n",
       "      <td>1</td>\n",
       "      <td>0</td>\n",
       "      <td>0</td>\n",
       "      <td>0</td>\n",
       "      <td>1</td>\n",
       "      <td>0</td>\n",
       "      <td>0</td>\n",
       "      <td>0</td>\n",
       "      <td>0</td>\n",
       "      <td>1</td>\n",
       "      <td>0</td>\n",
       "      <td>0</td>\n",
       "    </tr>\n",
       "    <tr>\n",
       "      <th>3</th>\n",
       "      <td>0</td>\n",
       "      <td>0</td>\n",
       "      <td>1</td>\n",
       "      <td>0</td>\n",
       "      <td>1</td>\n",
       "      <td>0</td>\n",
       "      <td>0</td>\n",
       "      <td>0</td>\n",
       "      <td>1</td>\n",
       "      <td>0</td>\n",
       "      <td>0</td>\n",
       "      <td>0</td>\n",
       "      <td>0</td>\n",
       "      <td>1</td>\n",
       "      <td>0</td>\n",
       "      <td>0</td>\n",
       "    </tr>\n",
       "    <tr>\n",
       "      <th>4</th>\n",
       "      <td>0</td>\n",
       "      <td>0</td>\n",
       "      <td>0</td>\n",
       "      <td>1</td>\n",
       "      <td>0</td>\n",
       "      <td>0</td>\n",
       "      <td>1</td>\n",
       "      <td>0</td>\n",
       "      <td>1</td>\n",
       "      <td>0</td>\n",
       "      <td>0</td>\n",
       "      <td>0</td>\n",
       "      <td>0</td>\n",
       "      <td>1</td>\n",
       "      <td>0</td>\n",
       "      <td>0</td>\n",
       "    </tr>\n",
       "  </tbody>\n",
       "</table>\n",
       "</div>"
      ],
      "text/plain": [
       "   experience_level_EN  experience_level_EX  experience_level_MI  \\\n",
       "0                    1                    0                    0   \n",
       "1                    1                    0                    0   \n",
       "2                    0                    0                    1   \n",
       "3                    0                    0                    1   \n",
       "4                    0                    0                    0   \n",
       "\n",
       "   experience_level_SE  remote_ratio_0  remote_ratio_50  remote_ratio_100  \\\n",
       "0                    0               0                0                 1   \n",
       "1                    0               0                0                 1   \n",
       "2                    0               1                0                 0   \n",
       "3                    0               1                0                 0   \n",
       "4                    1               0                0                 1   \n",
       "\n",
       "   company_size_L  company_size_M  company_size_S  company_continent_AF  \\\n",
       "0               0               1               0                     0   \n",
       "1               0               1               0                     0   \n",
       "2               0               1               0                     0   \n",
       "3               0               1               0                     0   \n",
       "4               0               1               0                     0   \n",
       "\n",
       "   company_continent_AS  company_continent_EU  company_continent_NAM  \\\n",
       "0                     0                     0                      1   \n",
       "1                     0                     0                      1   \n",
       "2                     0                     0                      1   \n",
       "3                     0                     0                      1   \n",
       "4                     0                     0                      1   \n",
       "\n",
       "   company_continent_OC  company_continent_SA  \n",
       "0                     0                     0  \n",
       "1                     0                     0  \n",
       "2                     0                     0  \n",
       "3                     0                     0  \n",
       "4                     0                     0  "
      ]
     },
     "execution_count": 221,
     "metadata": {},
     "output_type": "execute_result"
    }
   ],
   "source": [
    "X = df.drop(columns='salary_in_usd')\n",
    "X.head()"
   ]
  },
  {
   "cell_type": "code",
   "execution_count": 222,
   "id": "7f2f9503",
   "metadata": {
    "scrolled": true
   },
   "outputs": [
    {
     "data": {
      "text/plain": [
       "0     75000\n",
       "1     60000\n",
       "2    185700\n",
       "3    165000\n",
       "4    160000\n",
       "Name: salary_in_usd, dtype: int64"
      ]
     },
     "execution_count": 222,
     "metadata": {},
     "output_type": "execute_result"
    }
   ],
   "source": [
    "y = df['salary_in_usd']\n",
    "y.head()"
   ]
  },
  {
   "cell_type": "code",
   "execution_count": 223,
   "id": "539ecdaf",
   "metadata": {},
   "outputs": [],
   "source": [
    "X_train, X_test, y_train, y_test = train_test_split(X, y, test_size=0.2, train_size=0.8, random_state=42)"
   ]
  },
  {
   "cell_type": "markdown",
   "id": "8afb1d51",
   "metadata": {},
   "source": [
    "##### Model Fit and Prediction"
   ]
  },
  {
   "cell_type": "code",
   "execution_count": 224,
   "id": "c2506c6a",
   "metadata": {},
   "outputs": [
    {
     "data": {
      "text/html": [
       "<style>#sk-container-id-24 {color: black;background-color: white;}#sk-container-id-24 pre{padding: 0;}#sk-container-id-24 div.sk-toggleable {background-color: white;}#sk-container-id-24 label.sk-toggleable__label {cursor: pointer;display: block;width: 100%;margin-bottom: 0;padding: 0.3em;box-sizing: border-box;text-align: center;}#sk-container-id-24 label.sk-toggleable__label-arrow:before {content: \"▸\";float: left;margin-right: 0.25em;color: #696969;}#sk-container-id-24 label.sk-toggleable__label-arrow:hover:before {color: black;}#sk-container-id-24 div.sk-estimator:hover label.sk-toggleable__label-arrow:before {color: black;}#sk-container-id-24 div.sk-toggleable__content {max-height: 0;max-width: 0;overflow: hidden;text-align: left;background-color: #f0f8ff;}#sk-container-id-24 div.sk-toggleable__content pre {margin: 0.2em;color: black;border-radius: 0.25em;background-color: #f0f8ff;}#sk-container-id-24 input.sk-toggleable__control:checked~div.sk-toggleable__content {max-height: 200px;max-width: 100%;overflow: auto;}#sk-container-id-24 input.sk-toggleable__control:checked~label.sk-toggleable__label-arrow:before {content: \"▾\";}#sk-container-id-24 div.sk-estimator input.sk-toggleable__control:checked~label.sk-toggleable__label {background-color: #d4ebff;}#sk-container-id-24 div.sk-label input.sk-toggleable__control:checked~label.sk-toggleable__label {background-color: #d4ebff;}#sk-container-id-24 input.sk-hidden--visually {border: 0;clip: rect(1px 1px 1px 1px);clip: rect(1px, 1px, 1px, 1px);height: 1px;margin: -1px;overflow: hidden;padding: 0;position: absolute;width: 1px;}#sk-container-id-24 div.sk-estimator {font-family: monospace;background-color: #f0f8ff;border: 1px dotted black;border-radius: 0.25em;box-sizing: border-box;margin-bottom: 0.5em;}#sk-container-id-24 div.sk-estimator:hover {background-color: #d4ebff;}#sk-container-id-24 div.sk-parallel-item::after {content: \"\";width: 100%;border-bottom: 1px solid gray;flex-grow: 1;}#sk-container-id-24 div.sk-label:hover label.sk-toggleable__label {background-color: #d4ebff;}#sk-container-id-24 div.sk-serial::before {content: \"\";position: absolute;border-left: 1px solid gray;box-sizing: border-box;top: 0;bottom: 0;left: 50%;z-index: 0;}#sk-container-id-24 div.sk-serial {display: flex;flex-direction: column;align-items: center;background-color: white;padding-right: 0.2em;padding-left: 0.2em;position: relative;}#sk-container-id-24 div.sk-item {position: relative;z-index: 1;}#sk-container-id-24 div.sk-parallel {display: flex;align-items: stretch;justify-content: center;background-color: white;position: relative;}#sk-container-id-24 div.sk-item::before, #sk-container-id-24 div.sk-parallel-item::before {content: \"\";position: absolute;border-left: 1px solid gray;box-sizing: border-box;top: 0;bottom: 0;left: 50%;z-index: -1;}#sk-container-id-24 div.sk-parallel-item {display: flex;flex-direction: column;z-index: 1;position: relative;background-color: white;}#sk-container-id-24 div.sk-parallel-item:first-child::after {align-self: flex-end;width: 50%;}#sk-container-id-24 div.sk-parallel-item:last-child::after {align-self: flex-start;width: 50%;}#sk-container-id-24 div.sk-parallel-item:only-child::after {width: 0;}#sk-container-id-24 div.sk-dashed-wrapped {border: 1px dashed gray;margin: 0 0.4em 0.5em 0.4em;box-sizing: border-box;padding-bottom: 0.4em;background-color: white;}#sk-container-id-24 div.sk-label label {font-family: monospace;font-weight: bold;display: inline-block;line-height: 1.2em;}#sk-container-id-24 div.sk-label-container {text-align: center;}#sk-container-id-24 div.sk-container {/* jupyter's `normalize.less` sets `[hidden] { display: none; }` but bootstrap.min.css set `[hidden] { display: none !important; }` so we also need the `!important` here to be able to override the default hidden behavior on the sphinx rendered scikit-learn.org. See: https://github.com/scikit-learn/scikit-learn/issues/21755 */display: inline-block !important;position: relative;}#sk-container-id-24 div.sk-text-repr-fallback {display: none;}</style><div id=\"sk-container-id-24\" class=\"sk-top-container\"><div class=\"sk-text-repr-fallback\"><pre>LinearRegression()</pre><b>In a Jupyter environment, please rerun this cell to show the HTML representation or trust the notebook. <br />On GitHub, the HTML representation is unable to render, please try loading this page with nbviewer.org.</b></div><div class=\"sk-container\" hidden><div class=\"sk-item\"><div class=\"sk-estimator sk-toggleable\"><input class=\"sk-toggleable__control sk-hidden--visually\" id=\"sk-estimator-id-46\" type=\"checkbox\" checked><label for=\"sk-estimator-id-46\" class=\"sk-toggleable__label sk-toggleable__label-arrow\">LinearRegression</label><div class=\"sk-toggleable__content\"><pre>LinearRegression()</pre></div></div></div></div></div>"
      ],
      "text/plain": [
       "LinearRegression()"
      ]
     },
     "execution_count": 224,
     "metadata": {},
     "output_type": "execute_result"
    }
   ],
   "source": [
    "lin = LinearRegression()\n",
    "lin.fit(X_train, y_train)"
   ]
  },
  {
   "cell_type": "code",
   "execution_count": 225,
   "id": "8a777d64",
   "metadata": {},
   "outputs": [],
   "source": [
    "y_pred_te = lin.predict(X_test)\n",
    "y_pred_tr = lin.predict(X_train)"
   ]
  },
  {
   "cell_type": "markdown",
   "id": "03885521",
   "metadata": {},
   "source": [
    "##### Visualization"
   ]
  },
  {
   "cell_type": "code",
   "execution_count": 226,
   "id": "5f2baadf",
   "metadata": {},
   "outputs": [
    {
     "data": {
      "image/png": "[encoded data removed]",
      "text/plain": [
       "<Figure size 640x480 with 1 Axes>"
      ]
     },
     "metadata": {},
     "output_type": "display_data"
    }
   ],
   "source": [
    "plt.scatter(y_train, y_pred_tr)\n",
    "plt.title(\"Training Data Predictions\")\n",
    "plt.xlabel(\"Actual Salary\")\n",
    "plt.ylabel(\"Predicted Salary\")\n",
    "plt.show()"
   ]
  },
  {
   "cell_type": "code",
   "execution_count": 227,
   "id": "debe575d",
   "metadata": {},
   "outputs": [
    {
     "data": {
      "image/png": "[encoded data removed]",
      "text/plain": [
       "<Figure size 640x480 with 1 Axes>"
      ]
     },
     "metadata": {},
     "output_type": "display_data"
    }
   ],
   "source": [
    "plt.scatter(y_test, y_pred_te)\n",
    "plt.title(\"Testing Data Predictions\")\n",
    "plt.xlabel(\"Actual Salary\")\n",
    "plt.ylabel(\"Predicted Salary\")\n",
    "plt.show()"
   ]
  },
  {
   "cell_type": "markdown",
   "id": "facb6c8b",
   "metadata": {},
   "source": [
    "##### Metrics"
   ]
  },
  {
   "cell_type": "code",
   "execution_count": 228,
   "id": "0a4e35de",
   "metadata": {},
   "outputs": [
    {
     "name": "stdout",
     "output_type": "stream",
     "text": [
      "Training Data R2 Score: 0.3707041453065585\n"
     ]
    }
   ],
   "source": [
    "print(f\"Training Data R2 Score: {r2_score(y_train, y_pred_tr)}\")"
   ]
  },
  {
   "cell_type": "code",
   "execution_count": 229,
   "id": "08706d70",
   "metadata": {},
   "outputs": [
    {
     "name": "stdout",
     "output_type": "stream",
     "text": [
      "Testing Data R2 Score: 0.406219402181346\n"
     ]
    }
   ],
   "source": [
    "print(f\"Testing Data R2 Score: {r2_score(y_test, y_pred_te)}\")"
   ]
  },
  {
   "cell_type": "code",
   "execution_count": 230,
   "id": "44ecef86",
   "metadata": {},
   "outputs": [
    {
     "name": "stdout",
     "output_type": "stream",
     "text": [
      "Mean Absolute Error:37769.86\n"
     ]
    }
   ],
   "source": [
    "print(f\"Mean Absolute Error:{round(mean_absolute_error(y_test, y_pred_te), 2)}\")"
   ]
  },
  {
   "cell_type": "markdown",
   "id": "066f1196",
   "metadata": {},
   "source": [
    "The model doesn't seem to be very strong and is lumping a lot of the predictions together. Maybe we can try Ridge regression as well"
   ]
  },
  {
   "cell_type": "markdown",
   "id": "4901729d",
   "metadata": {},
   "source": [
    "##### Feature Selection"
   ]
  },
  {
   "cell_type": "code",
   "execution_count": 231,
   "id": "fd4afea5",
   "metadata": {},
   "outputs": [
    {
     "data": {
      "text/plain": [
       "16"
      ]
     },
     "execution_count": 231,
     "metadata": {},
     "output_type": "execute_result"
    }
   ],
   "source": [
    "len(X_train.columns)"
   ]
  },
  {
   "cell_type": "code",
   "execution_count": 232,
   "id": "556fcff5",
   "metadata": {},
   "outputs": [],
   "source": [
    "folds = KFold(n_splits=5, shuffle=True, random_state=42)"
   ]
  },
  {
   "cell_type": "code",
   "execution_count": 233,
   "id": "c12d66ab",
   "metadata": {},
   "outputs": [],
   "source": [
    "hyperparams = [{'n_features_to_select':list(range(1,17))}]"
   ]
  },
  {
   "cell_type": "code",
   "execution_count": 234,
   "id": "6c8e0936",
   "metadata": {},
   "outputs": [],
   "source": [
    "rfe = RFE(lin)"
   ]
  },
  {
   "cell_type": "code",
   "execution_count": 235,
   "id": "22b16be7",
   "metadata": {},
   "outputs": [],
   "source": [
    "model_cv = GridSearchCV(estimator=rfe,\n",
    "                       param_grid=hyperparams,\n",
    "                       scoring='r2',\n",
    "                       verbose=1,\n",
    "                       return_train_score=True)"
   ]
  },
  {
   "cell_type": "code",
   "execution_count": 236,
   "id": "c78acdac",
   "metadata": {},
   "outputs": [
    {
     "name": "stdout",
     "output_type": "stream",
     "text": [
      "Fitting 5 folds for each of 16 candidates, totalling 80 fits\n"
     ]
    },
    {
     "data": {
      "text/html": [
       "<style>#sk-container-id-25 {color: black;background-color: white;}#sk-container-id-25 pre{padding: 0;}#sk-container-id-25 div.sk-toggleable {background-color: white;}#sk-container-id-25 label.sk-toggleable__label {cursor: pointer;display: block;width: 100%;margin-bottom: 0;padding: 0.3em;box-sizing: border-box;text-align: center;}#sk-container-id-25 label.sk-toggleable__label-arrow:before {content: \"▸\";float: left;margin-right: 0.25em;color: #696969;}#sk-container-id-25 label.sk-toggleable__label-arrow:hover:before {color: black;}#sk-container-id-25 div.sk-estimator:hover label.sk-toggleable__label-arrow:before {color: black;}#sk-container-id-25 div.sk-toggleable__content {max-height: 0;max-width: 0;overflow: hidden;text-align: left;background-color: #f0f8ff;}#sk-container-id-25 div.sk-toggleable__content pre {margin: 0.2em;color: black;border-radius: 0.25em;background-color: #f0f8ff;}#sk-container-id-25 input.sk-toggleable__control:checked~div.sk-toggleable__content {max-height: 200px;max-width: 100%;overflow: auto;}#sk-container-id-25 input.sk-toggleable__control:checked~label.sk-toggleable__label-arrow:before {content: \"▾\";}#sk-container-id-25 div.sk-estimator input.sk-toggleable__control:checked~label.sk-toggleable__label {background-color: #d4ebff;}#sk-container-id-25 div.sk-label input.sk-toggleable__control:checked~label.sk-toggleable__label {background-color: #d4ebff;}#sk-container-id-25 input.sk-hidden--visually {border: 0;clip: rect(1px 1px 1px 1px);clip: rect(1px, 1px, 1px, 1px);height: 1px;margin: -1px;overflow: hidden;padding: 0;position: absolute;width: 1px;}#sk-container-id-25 div.sk-estimator {font-family: monospace;background-color: #f0f8ff;border: 1px dotted black;border-radius: 0.25em;box-sizing: border-box;margin-bottom: 0.5em;}#sk-container-id-25 div.sk-estimator:hover {background-color: #d4ebff;}#sk-container-id-25 div.sk-parallel-item::after {content: \"\";width: 100%;border-bottom: 1px solid gray;flex-grow: 1;}#sk-container-id-25 div.sk-label:hover label.sk-toggleable__label {background-color: #d4ebff;}#sk-container-id-25 div.sk-serial::before {content: \"\";position: absolute;border-left: 1px solid gray;box-sizing: border-box;top: 0;bottom: 0;left: 50%;z-index: 0;}#sk-container-id-25 div.sk-serial {display: flex;flex-direction: column;align-items: center;background-color: white;padding-right: 0.2em;padding-left: 0.2em;position: relative;}#sk-container-id-25 div.sk-item {position: relative;z-index: 1;}#sk-container-id-25 div.sk-parallel {display: flex;align-items: stretch;justify-content: center;background-color: white;position: relative;}#sk-container-id-25 div.sk-item::before, #sk-container-id-25 div.sk-parallel-item::before {content: \"\";position: absolute;border-left: 1px solid gray;box-sizing: border-box;top: 0;bottom: 0;left: 50%;z-index: -1;}#sk-container-id-25 div.sk-parallel-item {display: flex;flex-direction: column;z-index: 1;position: relative;background-color: white;}#sk-container-id-25 div.sk-parallel-item:first-child::after {align-self: flex-end;width: 50%;}#sk-container-id-25 div.sk-parallel-item:last-child::after {align-self: flex-start;width: 50%;}#sk-container-id-25 div.sk-parallel-item:only-child::after {width: 0;}#sk-container-id-25 div.sk-dashed-wrapped {border: 1px dashed gray;margin: 0 0.4em 0.5em 0.4em;box-sizing: border-box;padding-bottom: 0.4em;background-color: white;}#sk-container-id-25 div.sk-label label {font-family: monospace;font-weight: bold;display: inline-block;line-height: 1.2em;}#sk-container-id-25 div.sk-label-container {text-align: center;}#sk-container-id-25 div.sk-container {/* jupyter's `normalize.less` sets `[hidden] { display: none; }` but bootstrap.min.css set `[hidden] { display: none !important; }` so we also need the `!important` here to be able to override the default hidden behavior on the sphinx rendered scikit-learn.org. See: https://github.com/scikit-learn/scikit-learn/issues/21755 */display: inline-block !important;position: relative;}#sk-container-id-25 div.sk-text-repr-fallback {display: none;}</style><div id=\"sk-container-id-25\" class=\"sk-top-container\"><div class=\"sk-text-repr-fallback\"><pre>GridSearchCV(estimator=RFE(estimator=LinearRegression()),\n",
       "             param_grid=[{&#x27;n_features_to_select&#x27;: [1, 2, 3, 4, 5, 6, 7, 8, 9,\n",
       "                                                   10, 11, 12, 13, 14, 15,\n",
       "                                                   16]}],\n",
       "             return_train_score=True, scoring=&#x27;r2&#x27;, verbose=1)</pre><b>In a Jupyter environment, please rerun this cell to show the HTML representation or trust the notebook. <br />On GitHub, the HTML representation is unable to render, please try loading this page with nbviewer.org.</b></div><div class=\"sk-container\" hidden><div class=\"sk-item sk-dashed-wrapped\"><div class=\"sk-label-container\"><div class=\"sk-label sk-toggleable\"><input class=\"sk-toggleable__control sk-hidden--visually\" id=\"sk-estimator-id-47\" type=\"checkbox\" ><label for=\"sk-estimator-id-47\" class=\"sk-toggleable__label sk-toggleable__label-arrow\">GridSearchCV</label><div class=\"sk-toggleable__content\"><pre>GridSearchCV(estimator=RFE(estimator=LinearRegression()),\n",
       "             param_grid=[{&#x27;n_features_to_select&#x27;: [1, 2, 3, 4, 5, 6, 7, 8, 9,\n",
       "                                                   10, 11, 12, 13, 14, 15,\n",
       "                                                   16]}],\n",
       "             return_train_score=True, scoring=&#x27;r2&#x27;, verbose=1)</pre></div></div></div><div class=\"sk-parallel\"><div class=\"sk-parallel-item\"><div class=\"sk-item\"><div class=\"sk-label-container\"><div class=\"sk-label sk-toggleable\"><input class=\"sk-toggleable__control sk-hidden--visually\" id=\"sk-estimator-id-48\" type=\"checkbox\" ><label for=\"sk-estimator-id-48\" class=\"sk-toggleable__label sk-toggleable__label-arrow\">estimator: RFE</label><div class=\"sk-toggleable__content\"><pre>RFE(estimator=LinearRegression())</pre></div></div></div><div class=\"sk-serial\"><div class=\"sk-item sk-dashed-wrapped\"><div class=\"sk-parallel\"><div class=\"sk-parallel-item\"><div class=\"sk-item\"><div class=\"sk-label-container\"><div class=\"sk-label sk-toggleable\"><input class=\"sk-toggleable__control sk-hidden--visually\" id=\"sk-estimator-id-49\" type=\"checkbox\" ><label for=\"sk-estimator-id-49\" class=\"sk-toggleable__label sk-toggleable__label-arrow\">estimator: LinearRegression</label><div class=\"sk-toggleable__content\"><pre>LinearRegression()</pre></div></div></div><div class=\"sk-serial\"><div class=\"sk-item\"><div class=\"sk-estimator sk-toggleable\"><input class=\"sk-toggleable__control sk-hidden--visually\" id=\"sk-estimator-id-50\" type=\"checkbox\" ><label for=\"sk-estimator-id-50\" class=\"sk-toggleable__label sk-toggleable__label-arrow\">LinearRegression</label><div class=\"sk-toggleable__content\"><pre>LinearRegression()</pre></div></div></div></div></div></div></div></div></div></div></div></div></div></div></div>"
      ],
      "text/plain": [
       "GridSearchCV(estimator=RFE(estimator=LinearRegression()),\n",
       "             param_grid=[{'n_features_to_select': [1, 2, 3, 4, 5, 6, 7, 8, 9,\n",
       "                                                   10, 11, 12, 13, 14, 15,\n",
       "                                                   16]}],\n",
       "             return_train_score=True, scoring='r2', verbose=1)"
      ]
     },
     "execution_count": 236,
     "metadata": {},
     "output_type": "execute_result"
    }
   ],
   "source": [
    "model_cv.fit(X_train, y_train)"
   ]
  },
  {
   "cell_type": "code",
   "execution_count": 237,
   "id": "b1e3d105",
   "metadata": {},
   "outputs": [
    {
     "data": {
      "text/html": [
       "<div>\n",
       "<style scoped>\n",
       "    .dataframe tbody tr th:only-of-type {\n",
       "        vertical-align: middle;\n",
       "    }\n",
       "\n",
       "    .dataframe tbody tr th {\n",
       "        vertical-align: top;\n",
       "    }\n",
       "\n",
       "    .dataframe thead th {\n",
       "        text-align: right;\n",
       "    }\n",
       "</style>\n",
       "<table border=\"1\" class=\"dataframe\">\n",
       "  <thead>\n",
       "    <tr style=\"text-align: right;\">\n",
       "      <th></th>\n",
       "      <th>mean_fit_time</th>\n",
       "      <th>std_fit_time</th>\n",
       "      <th>mean_score_time</th>\n",
       "      <th>std_score_time</th>\n",
       "      <th>param_n_features_to_select</th>\n",
       "      <th>params</th>\n",
       "      <th>split0_test_score</th>\n",
       "      <th>split1_test_score</th>\n",
       "      <th>split2_test_score</th>\n",
       "      <th>split3_test_score</th>\n",
       "      <th>...</th>\n",
       "      <th>mean_test_score</th>\n",
       "      <th>std_test_score</th>\n",
       "      <th>rank_test_score</th>\n",
       "      <th>split0_train_score</th>\n",
       "      <th>split1_train_score</th>\n",
       "      <th>split2_train_score</th>\n",
       "      <th>split3_train_score</th>\n",
       "      <th>split4_train_score</th>\n",
       "      <th>mean_train_score</th>\n",
       "      <th>std_train_score</th>\n",
       "    </tr>\n",
       "  </thead>\n",
       "  <tbody>\n",
       "    <tr>\n",
       "      <th>0</th>\n",
       "      <td>0.058603</td>\n",
       "      <td>0.011219</td>\n",
       "      <td>0.004001</td>\n",
       "      <td>0.003033</td>\n",
       "      <td>1</td>\n",
       "      <td>{'n_features_to_select': 1}</td>\n",
       "      <td>0.028986</td>\n",
       "      <td>0.023148</td>\n",
       "      <td>0.098318</td>\n",
       "      <td>0.072352</td>\n",
       "      <td>...</td>\n",
       "      <td>0.052385</td>\n",
       "      <td>0.028589</td>\n",
       "      <td>16</td>\n",
       "      <td>0.030363</td>\n",
       "      <td>0.031803</td>\n",
       "      <td>0.077933</td>\n",
       "      <td>0.045163</td>\n",
       "      <td>0.042028</td>\n",
       "      <td>0.045458</td>\n",
       "      <td>0.017209</td>\n",
       "    </tr>\n",
       "    <tr>\n",
       "      <th>1</th>\n",
       "      <td>0.053203</td>\n",
       "      <td>0.001939</td>\n",
       "      <td>0.003001</td>\n",
       "      <td>0.000633</td>\n",
       "      <td>2</td>\n",
       "      <td>{'n_features_to_select': 2}</td>\n",
       "      <td>0.203271</td>\n",
       "      <td>0.205955</td>\n",
       "      <td>0.194161</td>\n",
       "      <td>0.067501</td>\n",
       "      <td>...</td>\n",
       "      <td>0.142908</td>\n",
       "      <td>0.071810</td>\n",
       "      <td>15</td>\n",
       "      <td>0.208729</td>\n",
       "      <td>0.208151</td>\n",
       "      <td>0.204040</td>\n",
       "      <td>0.060621</td>\n",
       "      <td>0.067893</td>\n",
       "      <td>0.149887</td>\n",
       "      <td>0.069973</td>\n",
       "    </tr>\n",
       "    <tr>\n",
       "      <th>2</th>\n",
       "      <td>0.048803</td>\n",
       "      <td>0.003657</td>\n",
       "      <td>0.003001</td>\n",
       "      <td>0.000633</td>\n",
       "      <td>3</td>\n",
       "      <td>{'n_features_to_select': 3}</td>\n",
       "      <td>0.219243</td>\n",
       "      <td>0.211773</td>\n",
       "      <td>0.219004</td>\n",
       "      <td>0.067980</td>\n",
       "      <td>...</td>\n",
       "      <td>0.152313</td>\n",
       "      <td>0.079248</td>\n",
       "      <td>14</td>\n",
       "      <td>0.216685</td>\n",
       "      <td>0.218575</td>\n",
       "      <td>0.216721</td>\n",
       "      <td>0.060608</td>\n",
       "      <td>0.067891</td>\n",
       "      <td>0.156096</td>\n",
       "      <td>0.075031</td>\n",
       "    </tr>\n",
       "    <tr>\n",
       "      <th>3</th>\n",
       "      <td>0.044404</td>\n",
       "      <td>0.002801</td>\n",
       "      <td>0.002999</td>\n",
       "      <td>0.000632</td>\n",
       "      <td>4</td>\n",
       "      <td>{'n_features_to_select': 4}</td>\n",
       "      <td>0.219568</td>\n",
       "      <td>0.211217</td>\n",
       "      <td>0.219052</td>\n",
       "      <td>0.110672</td>\n",
       "      <td>...</td>\n",
       "      <td>0.161403</td>\n",
       "      <td>0.070658</td>\n",
       "      <td>13</td>\n",
       "      <td>0.216566</td>\n",
       "      <td>0.218462</td>\n",
       "      <td>0.216720</td>\n",
       "      <td>0.112280</td>\n",
       "      <td>0.069506</td>\n",
       "      <td>0.166707</td>\n",
       "      <td>0.063366</td>\n",
       "    </tr>\n",
       "    <tr>\n",
       "      <th>4</th>\n",
       "      <td>0.045203</td>\n",
       "      <td>0.002482</td>\n",
       "      <td>0.002801</td>\n",
       "      <td>0.000749</td>\n",
       "      <td>5</td>\n",
       "      <td>{'n_features_to_select': 5}</td>\n",
       "      <td>0.231113</td>\n",
       "      <td>0.220707</td>\n",
       "      <td>0.233713</td>\n",
       "      <td>0.239716</td>\n",
       "      <td>...</td>\n",
       "      <td>0.200857</td>\n",
       "      <td>0.061219</td>\n",
       "      <td>12</td>\n",
       "      <td>0.229795</td>\n",
       "      <td>0.221131</td>\n",
       "      <td>0.229759</td>\n",
       "      <td>0.212778</td>\n",
       "      <td>0.095781</td>\n",
       "      <td>0.197849</td>\n",
       "      <td>0.051423</td>\n",
       "    </tr>\n",
       "    <tr>\n",
       "      <th>5</th>\n",
       "      <td>0.042605</td>\n",
       "      <td>0.002417</td>\n",
       "      <td>0.003599</td>\n",
       "      <td>0.001358</td>\n",
       "      <td>6</td>\n",
       "      <td>{'n_features_to_select': 6}</td>\n",
       "      <td>0.236653</td>\n",
       "      <td>0.220575</td>\n",
       "      <td>0.236230</td>\n",
       "      <td>0.235002</td>\n",
       "      <td>...</td>\n",
       "      <td>0.200936</td>\n",
       "      <td>0.062645</td>\n",
       "      <td>11</td>\n",
       "      <td>0.234757</td>\n",
       "      <td>0.242151</td>\n",
       "      <td>0.235152</td>\n",
       "      <td>0.234821</td>\n",
       "      <td>0.095885</td>\n",
       "      <td>0.208553</td>\n",
       "      <td>0.056404</td>\n",
       "    </tr>\n",
       "    <tr>\n",
       "      <th>6</th>\n",
       "      <td>0.034003</td>\n",
       "      <td>0.002001</td>\n",
       "      <td>0.003200</td>\n",
       "      <td>0.000400</td>\n",
       "      <td>7</td>\n",
       "      <td>{'n_features_to_select': 7}</td>\n",
       "      <td>0.236753</td>\n",
       "      <td>0.217681</td>\n",
       "      <td>0.237124</td>\n",
       "      <td>0.236797</td>\n",
       "      <td>...</td>\n",
       "      <td>0.205373</td>\n",
       "      <td>0.053947</td>\n",
       "      <td>10</td>\n",
       "      <td>0.234673</td>\n",
       "      <td>0.241809</td>\n",
       "      <td>0.235033</td>\n",
       "      <td>0.234420</td>\n",
       "      <td>0.140735</td>\n",
       "      <td>0.217334</td>\n",
       "      <td>0.038399</td>\n",
       "    </tr>\n",
       "    <tr>\n",
       "      <th>7</th>\n",
       "      <td>0.034403</td>\n",
       "      <td>0.002057</td>\n",
       "      <td>0.003600</td>\n",
       "      <td>0.000489</td>\n",
       "      <td>8</td>\n",
       "      <td>{'n_features_to_select': 8}</td>\n",
       "      <td>0.343328</td>\n",
       "      <td>0.351184</td>\n",
       "      <td>0.256633</td>\n",
       "      <td>0.249034</td>\n",
       "      <td>...</td>\n",
       "      <td>0.282495</td>\n",
       "      <td>0.055019</td>\n",
       "      <td>9</td>\n",
       "      <td>0.370329</td>\n",
       "      <td>0.367102</td>\n",
       "      <td>0.260786</td>\n",
       "      <td>0.248106</td>\n",
       "      <td>0.235559</td>\n",
       "      <td>0.296376</td>\n",
       "      <td>0.059609</td>\n",
       "    </tr>\n",
       "    <tr>\n",
       "      <th>8</th>\n",
       "      <td>0.031403</td>\n",
       "      <td>0.001855</td>\n",
       "      <td>0.003600</td>\n",
       "      <td>0.000489</td>\n",
       "      <td>9</td>\n",
       "      <td>{'n_features_to_select': 9}</td>\n",
       "      <td>0.339047</td>\n",
       "      <td>0.352796</td>\n",
       "      <td>0.261342</td>\n",
       "      <td>0.249860</td>\n",
       "      <td>...</td>\n",
       "      <td>0.289160</td>\n",
       "      <td>0.046926</td>\n",
       "      <td>8</td>\n",
       "      <td>0.370568</td>\n",
       "      <td>0.367743</td>\n",
       "      <td>0.267476</td>\n",
       "      <td>0.248455</td>\n",
       "      <td>0.250525</td>\n",
       "      <td>0.300953</td>\n",
       "      <td>0.056084</td>\n",
       "    </tr>\n",
       "    <tr>\n",
       "      <th>9</th>\n",
       "      <td>0.030602</td>\n",
       "      <td>0.001357</td>\n",
       "      <td>0.003000</td>\n",
       "      <td>0.000632</td>\n",
       "      <td>10</td>\n",
       "      <td>{'n_features_to_select': 10}</td>\n",
       "      <td>0.348492</td>\n",
       "      <td>0.350452</td>\n",
       "      <td>0.365007</td>\n",
       "      <td>0.250517</td>\n",
       "      <td>...</td>\n",
       "      <td>0.311151</td>\n",
       "      <td>0.053661</td>\n",
       "      <td>7</td>\n",
       "      <td>0.373982</td>\n",
       "      <td>0.371576</td>\n",
       "      <td>0.362354</td>\n",
       "      <td>0.248309</td>\n",
       "      <td>0.250180</td>\n",
       "      <td>0.321280</td>\n",
       "      <td>0.058948</td>\n",
       "    </tr>\n",
       "    <tr>\n",
       "      <th>10</th>\n",
       "      <td>0.026802</td>\n",
       "      <td>0.001469</td>\n",
       "      <td>0.003001</td>\n",
       "      <td>0.000632</td>\n",
       "      <td>11</td>\n",
       "      <td>{'n_features_to_select': 11}</td>\n",
       "      <td>0.348648</td>\n",
       "      <td>0.350836</td>\n",
       "      <td>0.377394</td>\n",
       "      <td>0.253628</td>\n",
       "      <td>...</td>\n",
       "      <td>0.340785</td>\n",
       "      <td>0.045087</td>\n",
       "      <td>6</td>\n",
       "      <td>0.374090</td>\n",
       "      <td>0.371682</td>\n",
       "      <td>0.363602</td>\n",
       "      <td>0.254351</td>\n",
       "      <td>0.363842</td>\n",
       "      <td>0.345514</td>\n",
       "      <td>0.045771</td>\n",
       "    </tr>\n",
       "    <tr>\n",
       "      <th>11</th>\n",
       "      <td>0.020800</td>\n",
       "      <td>0.002483</td>\n",
       "      <td>0.003002</td>\n",
       "      <td>0.000894</td>\n",
       "      <td>12</td>\n",
       "      <td>{'n_features_to_select': 12}</td>\n",
       "      <td>0.348729</td>\n",
       "      <td>0.350819</td>\n",
       "      <td>0.385324</td>\n",
       "      <td>0.279899</td>\n",
       "      <td>...</td>\n",
       "      <td>0.348236</td>\n",
       "      <td>0.037003</td>\n",
       "      <td>4</td>\n",
       "      <td>0.374110</td>\n",
       "      <td>0.371701</td>\n",
       "      <td>0.366061</td>\n",
       "      <td>0.274481</td>\n",
       "      <td>0.363961</td>\n",
       "      <td>0.350063</td>\n",
       "      <td>0.037969</td>\n",
       "    </tr>\n",
       "    <tr>\n",
       "      <th>12</th>\n",
       "      <td>0.018001</td>\n",
       "      <td>0.002450</td>\n",
       "      <td>0.003600</td>\n",
       "      <td>0.000490</td>\n",
       "      <td>13</td>\n",
       "      <td>{'n_features_to_select': 13}</td>\n",
       "      <td>0.345348</td>\n",
       "      <td>0.350645</td>\n",
       "      <td>0.384996</td>\n",
       "      <td>0.277756</td>\n",
       "      <td>...</td>\n",
       "      <td>0.348208</td>\n",
       "      <td>0.038711</td>\n",
       "      <td>5</td>\n",
       "      <td>0.373665</td>\n",
       "      <td>0.371666</td>\n",
       "      <td>0.366034</td>\n",
       "      <td>0.276646</td>\n",
       "      <td>0.365983</td>\n",
       "      <td>0.350799</td>\n",
       "      <td>0.037201</td>\n",
       "    </tr>\n",
       "    <tr>\n",
       "      <th>13</th>\n",
       "      <td>0.015002</td>\n",
       "      <td>0.001265</td>\n",
       "      <td>0.003400</td>\n",
       "      <td>0.000490</td>\n",
       "      <td>14</td>\n",
       "      <td>{'n_features_to_select': 14}</td>\n",
       "      <td>0.348985</td>\n",
       "      <td>0.354971</td>\n",
       "      <td>0.379469</td>\n",
       "      <td>0.346265</td>\n",
       "      <td>...</td>\n",
       "      <td>0.362561</td>\n",
       "      <td>0.015593</td>\n",
       "      <td>3</td>\n",
       "      <td>0.373448</td>\n",
       "      <td>0.373256</td>\n",
       "      <td>0.367029</td>\n",
       "      <td>0.372228</td>\n",
       "      <td>0.366149</td>\n",
       "      <td>0.370422</td>\n",
       "      <td>0.003169</td>\n",
       "    </tr>\n",
       "    <tr>\n",
       "      <th>14</th>\n",
       "      <td>0.011799</td>\n",
       "      <td>0.001165</td>\n",
       "      <td>0.003202</td>\n",
       "      <td>0.000400</td>\n",
       "      <td>15</td>\n",
       "      <td>{'n_features_to_select': 15}</td>\n",
       "      <td>0.348254</td>\n",
       "      <td>0.355852</td>\n",
       "      <td>0.382664</td>\n",
       "      <td>0.346238</td>\n",
       "      <td>...</td>\n",
       "      <td>0.363180</td>\n",
       "      <td>0.016320</td>\n",
       "      <td>2</td>\n",
       "      <td>0.373835</td>\n",
       "      <td>0.373290</td>\n",
       "      <td>0.367075</td>\n",
       "      <td>0.376518</td>\n",
       "      <td>0.366163</td>\n",
       "      <td>0.371376</td>\n",
       "      <td>0.004045</td>\n",
       "    </tr>\n",
       "    <tr>\n",
       "      <th>15</th>\n",
       "      <td>0.007200</td>\n",
       "      <td>0.001166</td>\n",
       "      <td>0.003601</td>\n",
       "      <td>0.000489</td>\n",
       "      <td>16</td>\n",
       "      <td>{'n_features_to_select': 16}</td>\n",
       "      <td>0.351013</td>\n",
       "      <td>0.355503</td>\n",
       "      <td>0.382450</td>\n",
       "      <td>0.345745</td>\n",
       "      <td>...</td>\n",
       "      <td>0.363704</td>\n",
       "      <td>0.016165</td>\n",
       "      <td>1</td>\n",
       "      <td>0.373840</td>\n",
       "      <td>0.373246</td>\n",
       "      <td>0.366420</td>\n",
       "      <td>0.376508</td>\n",
       "      <td>0.365883</td>\n",
       "      <td>0.371179</td>\n",
       "      <td>0.004253</td>\n",
       "    </tr>\n",
       "  </tbody>\n",
       "</table>\n",
       "<p>16 rows × 21 columns</p>\n",
       "</div>"
      ],
      "text/plain": [
       "    mean_fit_time  std_fit_time  mean_score_time  std_score_time  \\\n",
       "0        0.058603      0.011219         0.004001        0.003033   \n",
       "1        0.053203      0.001939         0.003001        0.000633   \n",
       "2        0.048803      0.003657         0.003001        0.000633   \n",
       "3        0.044404      0.002801         0.002999        0.000632   \n",
       "4        0.045203      0.002482         0.002801        0.000749   \n",
       "5        0.042605      0.002417         0.003599        0.001358   \n",
       "6        0.034003      0.002001         0.003200        0.000400   \n",
       "7        0.034403      0.002057         0.003600        0.000489   \n",
       "8        0.031403      0.001855         0.003600        0.000489   \n",
       "9        0.030602      0.001357         0.003000        0.000632   \n",
       "10       0.026802      0.001469         0.003001        0.000632   \n",
       "11       0.020800      0.002483         0.003002        0.000894   \n",
       "12       0.018001      0.002450         0.003600        0.000490   \n",
       "13       0.015002      0.001265         0.003400        0.000490   \n",
       "14       0.011799      0.001165         0.003202        0.000400   \n",
       "15       0.007200      0.001166         0.003601        0.000489   \n",
       "\n",
       "   param_n_features_to_select                        params  \\\n",
       "0                           1   {'n_features_to_select': 1}   \n",
       "1                           2   {'n_features_to_select': 2}   \n",
       "2                           3   {'n_features_to_select': 3}   \n",
       "3                           4   {'n_features_to_select': 4}   \n",
       "4                           5   {'n_features_to_select': 5}   \n",
       "5                           6   {'n_features_to_select': 6}   \n",
       "6                           7   {'n_features_to_select': 7}   \n",
       "7                           8   {'n_features_to_select': 8}   \n",
       "8                           9   {'n_features_to_select': 9}   \n",
       "9                          10  {'n_features_to_select': 10}   \n",
       "10                         11  {'n_features_to_select': 11}   \n",
       "11                         12  {'n_features_to_select': 12}   \n",
       "12                         13  {'n_features_to_select': 13}   \n",
       "13                         14  {'n_features_to_select': 14}   \n",
       "14                         15  {'n_features_to_select': 15}   \n",
       "15                         16  {'n_features_to_select': 16}   \n",
       "\n",
       "    split0_test_score  split1_test_score  split2_test_score  \\\n",
       "0            0.028986           0.023148           0.098318   \n",
       "1            0.203271           0.205955           0.194161   \n",
       "2            0.219243           0.211773           0.219004   \n",
       "3            0.219568           0.211217           0.219052   \n",
       "4            0.231113           0.220707           0.233713   \n",
       "5            0.236653           0.220575           0.236230   \n",
       "6            0.236753           0.217681           0.237124   \n",
       "7            0.343328           0.351184           0.256633   \n",
       "8            0.339047           0.352796           0.261342   \n",
       "9            0.348492           0.350452           0.365007   \n",
       "10           0.348648           0.350836           0.377394   \n",
       "11           0.348729           0.350819           0.385324   \n",
       "12           0.345348           0.350645           0.384996   \n",
       "13           0.348985           0.354971           0.379469   \n",
       "14           0.348254           0.355852           0.382664   \n",
       "15           0.351013           0.355503           0.382450   \n",
       "\n",
       "    split3_test_score  ...  mean_test_score  std_test_score  rank_test_score  \\\n",
       "0            0.072352  ...         0.052385        0.028589               16   \n",
       "1            0.067501  ...         0.142908        0.071810               15   \n",
       "2            0.067980  ...         0.152313        0.079248               14   \n",
       "3            0.110672  ...         0.161403        0.070658               13   \n",
       "4            0.239716  ...         0.200857        0.061219               12   \n",
       "5            0.235002  ...         0.200936        0.062645               11   \n",
       "6            0.236797  ...         0.205373        0.053947               10   \n",
       "7            0.249034  ...         0.282495        0.055019                9   \n",
       "8            0.249860  ...         0.289160        0.046926                8   \n",
       "9            0.250517  ...         0.311151        0.053661                7   \n",
       "10           0.253628  ...         0.340785        0.045087                6   \n",
       "11           0.279899  ...         0.348236        0.037003                4   \n",
       "12           0.277756  ...         0.348208        0.038711                5   \n",
       "13           0.346265  ...         0.362561        0.015593                3   \n",
       "14           0.346238  ...         0.363180        0.016320                2   \n",
       "15           0.345745  ...         0.363704        0.016165                1   \n",
       "\n",
       "    split0_train_score  split1_train_score  split2_train_score  \\\n",
       "0             0.030363            0.031803            0.077933   \n",
       "1             0.208729            0.208151            0.204040   \n",
       "2             0.216685            0.218575            0.216721   \n",
       "3             0.216566            0.218462            0.216720   \n",
       "4             0.229795            0.221131            0.229759   \n",
       "5             0.234757            0.242151            0.235152   \n",
       "6             0.234673            0.241809            0.235033   \n",
       "7             0.370329            0.367102            0.260786   \n",
       "8             0.370568            0.367743            0.267476   \n",
       "9             0.373982            0.371576            0.362354   \n",
       "10            0.374090            0.371682            0.363602   \n",
       "11            0.374110            0.371701            0.366061   \n",
       "12            0.373665            0.371666            0.366034   \n",
       "13            0.373448            0.373256            0.367029   \n",
       "14            0.373835            0.373290            0.367075   \n",
       "15            0.373840            0.373246            0.366420   \n",
       "\n",
       "    split3_train_score  split4_train_score  mean_train_score  std_train_score  \n",
       "0             0.045163            0.042028          0.045458         0.017209  \n",
       "1             0.060621            0.067893          0.149887         0.069973  \n",
       "2             0.060608            0.067891          0.156096         0.075031  \n",
       "3             0.112280            0.069506          0.166707         0.063366  \n",
       "4             0.212778            0.095781          0.197849         0.051423  \n",
       "5             0.234821            0.095885          0.208553         0.056404  \n",
       "6             0.234420            0.140735          0.217334         0.038399  \n",
       "7             0.248106            0.235559          0.296376         0.059609  \n",
       "8             0.248455            0.250525          0.300953         0.056084  \n",
       "9             0.248309            0.250180          0.321280         0.058948  \n",
       "10            0.254351            0.363842          0.345514         0.045771  \n",
       "11            0.274481            0.363961          0.350063         0.037969  \n",
       "12            0.276646            0.365983          0.350799         0.037201  \n",
       "13            0.372228            0.366149          0.370422         0.003169  \n",
       "14            0.376518            0.366163          0.371376         0.004045  \n",
       "15            0.376508            0.365883          0.371179         0.004253  \n",
       "\n",
       "[16 rows x 21 columns]"
      ]
     },
     "execution_count": 237,
     "metadata": {},
     "output_type": "execute_result"
    }
   ],
   "source": [
    "cv_results = pd.DataFrame(model_cv.cv_results_)\n",
    "cv_results"
   ]
  },
  {
   "cell_type": "markdown",
   "id": "9d6a8257",
   "metadata": {},
   "source": [
    "The RFE is recommending to keep all the features, as this produces the highest scores."
   ]
  },
  {
   "cell_type": "markdown",
   "id": "ce371665",
   "metadata": {},
   "source": [
    "### Ridge Regression"
   ]
  },
  {
   "cell_type": "markdown",
   "id": "d0692af8",
   "metadata": {},
   "source": [
    "##### Model Fit and Prediction"
   ]
  },
  {
   "cell_type": "code",
   "execution_count": 238,
   "id": "0db45031",
   "metadata": {},
   "outputs": [],
   "source": [
    "ridge = Ridge(alpha=0.0)"
   ]
  },
  {
   "cell_type": "code",
   "execution_count": 239,
   "id": "d371cd1e",
   "metadata": {},
   "outputs": [
    {
     "data": {
      "text/html": [
       "<style>#sk-container-id-26 {color: black;background-color: white;}#sk-container-id-26 pre{padding: 0;}#sk-container-id-26 div.sk-toggleable {background-color: white;}#sk-container-id-26 label.sk-toggleable__label {cursor: pointer;display: block;width: 100%;margin-bottom: 0;padding: 0.3em;box-sizing: border-box;text-align: center;}#sk-container-id-26 label.sk-toggleable__label-arrow:before {content: \"▸\";float: left;margin-right: 0.25em;color: #696969;}#sk-container-id-26 label.sk-toggleable__label-arrow:hover:before {color: black;}#sk-container-id-26 div.sk-estimator:hover label.sk-toggleable__label-arrow:before {color: black;}#sk-container-id-26 div.sk-toggleable__content {max-height: 0;max-width: 0;overflow: hidden;text-align: left;background-color: #f0f8ff;}#sk-container-id-26 div.sk-toggleable__content pre {margin: 0.2em;color: black;border-radius: 0.25em;background-color: #f0f8ff;}#sk-container-id-26 input.sk-toggleable__control:checked~div.sk-toggleable__content {max-height: 200px;max-width: 100%;overflow: auto;}#sk-container-id-26 input.sk-toggleable__control:checked~label.sk-toggleable__label-arrow:before {content: \"▾\";}#sk-container-id-26 div.sk-estimator input.sk-toggleable__control:checked~label.sk-toggleable__label {background-color: #d4ebff;}#sk-container-id-26 div.sk-label input.sk-toggleable__control:checked~label.sk-toggleable__label {background-color: #d4ebff;}#sk-container-id-26 input.sk-hidden--visually {border: 0;clip: rect(1px 1px 1px 1px);clip: rect(1px, 1px, 1px, 1px);height: 1px;margin: -1px;overflow: hidden;padding: 0;position: absolute;width: 1px;}#sk-container-id-26 div.sk-estimator {font-family: monospace;background-color: #f0f8ff;border: 1px dotted black;border-radius: 0.25em;box-sizing: border-box;margin-bottom: 0.5em;}#sk-container-id-26 div.sk-estimator:hover {background-color: #d4ebff;}#sk-container-id-26 div.sk-parallel-item::after {content: \"\";width: 100%;border-bottom: 1px solid gray;flex-grow: 1;}#sk-container-id-26 div.sk-label:hover label.sk-toggleable__label {background-color: #d4ebff;}#sk-container-id-26 div.sk-serial::before {content: \"\";position: absolute;border-left: 1px solid gray;box-sizing: border-box;top: 0;bottom: 0;left: 50%;z-index: 0;}#sk-container-id-26 div.sk-serial {display: flex;flex-direction: column;align-items: center;background-color: white;padding-right: 0.2em;padding-left: 0.2em;position: relative;}#sk-container-id-26 div.sk-item {position: relative;z-index: 1;}#sk-container-id-26 div.sk-parallel {display: flex;align-items: stretch;justify-content: center;background-color: white;position: relative;}#sk-container-id-26 div.sk-item::before, #sk-container-id-26 div.sk-parallel-item::before {content: \"\";position: absolute;border-left: 1px solid gray;box-sizing: border-box;top: 0;bottom: 0;left: 50%;z-index: -1;}#sk-container-id-26 div.sk-parallel-item {display: flex;flex-direction: column;z-index: 1;position: relative;background-color: white;}#sk-container-id-26 div.sk-parallel-item:first-child::after {align-self: flex-end;width: 50%;}#sk-container-id-26 div.sk-parallel-item:last-child::after {align-self: flex-start;width: 50%;}#sk-container-id-26 div.sk-parallel-item:only-child::after {width: 0;}#sk-container-id-26 div.sk-dashed-wrapped {border: 1px dashed gray;margin: 0 0.4em 0.5em 0.4em;box-sizing: border-box;padding-bottom: 0.4em;background-color: white;}#sk-container-id-26 div.sk-label label {font-family: monospace;font-weight: bold;display: inline-block;line-height: 1.2em;}#sk-container-id-26 div.sk-label-container {text-align: center;}#sk-container-id-26 div.sk-container {/* jupyter's `normalize.less` sets `[hidden] { display: none; }` but bootstrap.min.css set `[hidden] { display: none !important; }` so we also need the `!important` here to be able to override the default hidden behavior on the sphinx rendered scikit-learn.org. See: https://github.com/scikit-learn/scikit-learn/issues/21755 */display: inline-block !important;position: relative;}#sk-container-id-26 div.sk-text-repr-fallback {display: none;}</style><div id=\"sk-container-id-26\" class=\"sk-top-container\"><div class=\"sk-text-repr-fallback\"><pre>Ridge(alpha=0.0)</pre><b>In a Jupyter environment, please rerun this cell to show the HTML representation or trust the notebook. <br />On GitHub, the HTML representation is unable to render, please try loading this page with nbviewer.org.</b></div><div class=\"sk-container\" hidden><div class=\"sk-item\"><div class=\"sk-estimator sk-toggleable\"><input class=\"sk-toggleable__control sk-hidden--visually\" id=\"sk-estimator-id-51\" type=\"checkbox\" checked><label for=\"sk-estimator-id-51\" class=\"sk-toggleable__label sk-toggleable__label-arrow\">Ridge</label><div class=\"sk-toggleable__content\"><pre>Ridge(alpha=0.0)</pre></div></div></div></div></div>"
      ],
      "text/plain": [
       "Ridge(alpha=0.0)"
      ]
     },
     "execution_count": 239,
     "metadata": {},
     "output_type": "execute_result"
    }
   ],
   "source": [
    "ridge.fit(X_train, y_train)"
   ]
  },
  {
   "cell_type": "code",
   "execution_count": 240,
   "id": "b94c1757",
   "metadata": {},
   "outputs": [],
   "source": [
    "y_pred_train = ridge.predict(X_train)\n",
    "y_pred_test = ridge.predict(X_test)"
   ]
  },
  {
   "cell_type": "markdown",
   "id": "87f3b11a",
   "metadata": {},
   "source": [
    "##### Visualization"
   ]
  },
  {
   "cell_type": "code",
   "execution_count": 241,
   "id": "0988f395",
   "metadata": {},
   "outputs": [
    {
     "data": {
      "image/png": "[encoded data removed]",
      "text/plain": [
       "<Figure size 640x480 with 1 Axes>"
      ]
     },
     "metadata": {},
     "output_type": "display_data"
    }
   ],
   "source": [
    "plt.scatter(y_train, y_pred_train)\n",
    "plt.title(\"Training Data Predictions\")\n",
    "plt.xlabel(\"Actual Salary\")\n",
    "plt.ylabel(\"Predicted Salary\")\n",
    "plt.show()"
   ]
  },
  {
   "cell_type": "code",
   "execution_count": 242,
   "id": "27624fe9",
   "metadata": {},
   "outputs": [
    {
     "data": {
      "image/png": "[encoded data removed]",
      "text/plain": [
       "<Figure size 640x480 with 1 Axes>"
      ]
     },
     "metadata": {},
     "output_type": "display_data"
    }
   ],
   "source": [
    "plt.scatter(y_test, y_pred_test)\n",
    "plt.title(\"Testing Data Predictions\")\n",
    "plt.xlabel(\"Actual Salary\")\n",
    "plt.ylabel(\"Predicted Salary\")\n",
    "plt.show()"
   ]
  },
  {
   "cell_type": "markdown",
   "id": "0782dda8",
   "metadata": {},
   "source": [
    "##### Metrics"
   ]
  },
  {
   "cell_type": "code",
   "execution_count": 243,
   "id": "7bc38819",
   "metadata": {},
   "outputs": [
    {
     "name": "stdout",
     "output_type": "stream",
     "text": [
      "Training Data R2 Score: 0.3707203336779752\n"
     ]
    }
   ],
   "source": [
    "print(f\"Training Data R2 Score: {r2_score(y_train, y_pred_train)}\")"
   ]
  },
  {
   "cell_type": "code",
   "execution_count": 244,
   "id": "77888ce4",
   "metadata": {},
   "outputs": [
    {
     "name": "stdout",
     "output_type": "stream",
     "text": [
      "Testing Data R2 Score: 0.4062200360687859\n"
     ]
    }
   ],
   "source": [
    "print(f\"Testing Data R2 Score: {r2_score(y_test, y_pred_test)}\")"
   ]
  },
  {
   "cell_type": "code",
   "execution_count": 245,
   "id": "0ed163c9",
   "metadata": {},
   "outputs": [
    {
     "ename": "ValueError",
     "evalue": "Found input variables with inconsistent numbers of samples: [607, 759]",
     "output_type": "error",
     "traceback": [
      "\u001b[1;31m---------------------------------------------------------------------------\u001b[0m",
      "\u001b[1;31mValueError\u001b[0m                                Traceback (most recent call last)",
      "Cell \u001b[1;32mIn[245], line 1\u001b[0m\n\u001b[1;32m----> 1\u001b[0m \u001b[38;5;28mprint\u001b[39m(\u001b[38;5;124mf\u001b[39m\u001b[38;5;124m\"\u001b[39m\u001b[38;5;124mMean Absolute Error:\u001b[39m\u001b[38;5;132;01m{\u001b[39;00m\u001b[38;5;28mround\u001b[39m(mean_absolute_error(y_test,\u001b[38;5;250m \u001b[39my_pred),\u001b[38;5;250m \u001b[39m\u001b[38;5;241m2\u001b[39m)\u001b[38;5;132;01m}\u001b[39;00m\u001b[38;5;124m\"\u001b[39m)\n",
      "File \u001b[1;32m~\\.pyenv\\pyenv-win\\versions\\3.8.10\\lib\\site-packages\\sklearn\\metrics\\_regression.py:196\u001b[0m, in \u001b[0;36mmean_absolute_error\u001b[1;34m(y_true, y_pred, sample_weight, multioutput)\u001b[0m\n\u001b[0;32m    141\u001b[0m \u001b[38;5;28;01mdef\u001b[39;00m \u001b[38;5;21mmean_absolute_error\u001b[39m(\n\u001b[0;32m    142\u001b[0m     y_true, y_pred, \u001b[38;5;241m*\u001b[39m, sample_weight\u001b[38;5;241m=\u001b[39m\u001b[38;5;28;01mNone\u001b[39;00m, multioutput\u001b[38;5;241m=\u001b[39m\u001b[38;5;124m\"\u001b[39m\u001b[38;5;124muniform_average\u001b[39m\u001b[38;5;124m\"\u001b[39m\n\u001b[0;32m    143\u001b[0m ):\n\u001b[0;32m    144\u001b[0m \u001b[38;5;250m    \u001b[39m\u001b[38;5;124;03m\"\"\"Mean absolute error regression loss.\u001b[39;00m\n\u001b[0;32m    145\u001b[0m \n\u001b[0;32m    146\u001b[0m \u001b[38;5;124;03m    Read more in the :ref:`User Guide <mean_absolute_error>`.\u001b[39;00m\n\u001b[1;32m   (...)\u001b[0m\n\u001b[0;32m    194\u001b[0m \u001b[38;5;124;03m    0.85...\u001b[39;00m\n\u001b[0;32m    195\u001b[0m \u001b[38;5;124;03m    \"\"\"\u001b[39;00m\n\u001b[1;32m--> 196\u001b[0m     y_type, y_true, y_pred, multioutput \u001b[38;5;241m=\u001b[39m \u001b[43m_check_reg_targets\u001b[49m\u001b[43m(\u001b[49m\n\u001b[0;32m    197\u001b[0m \u001b[43m        \u001b[49m\u001b[43my_true\u001b[49m\u001b[43m,\u001b[49m\u001b[43m \u001b[49m\u001b[43my_pred\u001b[49m\u001b[43m,\u001b[49m\u001b[43m \u001b[49m\u001b[43mmultioutput\u001b[49m\n\u001b[0;32m    198\u001b[0m \u001b[43m    \u001b[49m\u001b[43m)\u001b[49m\n\u001b[0;32m    199\u001b[0m     check_consistent_length(y_true, y_pred, sample_weight)\n\u001b[0;32m    200\u001b[0m     output_errors \u001b[38;5;241m=\u001b[39m np\u001b[38;5;241m.\u001b[39maverage(np\u001b[38;5;241m.\u001b[39mabs(y_pred \u001b[38;5;241m-\u001b[39m y_true), weights\u001b[38;5;241m=\u001b[39msample_weight, axis\u001b[38;5;241m=\u001b[39m\u001b[38;5;241m0\u001b[39m)\n",
      "File \u001b[1;32m~\\.pyenv\\pyenv-win\\versions\\3.8.10\\lib\\site-packages\\sklearn\\metrics\\_regression.py:100\u001b[0m, in \u001b[0;36m_check_reg_targets\u001b[1;34m(y_true, y_pred, multioutput, dtype)\u001b[0m\n\u001b[0;32m     66\u001b[0m \u001b[38;5;28;01mdef\u001b[39;00m \u001b[38;5;21m_check_reg_targets\u001b[39m(y_true, y_pred, multioutput, dtype\u001b[38;5;241m=\u001b[39m\u001b[38;5;124m\"\u001b[39m\u001b[38;5;124mnumeric\u001b[39m\u001b[38;5;124m\"\u001b[39m):\n\u001b[0;32m     67\u001b[0m \u001b[38;5;250m    \u001b[39m\u001b[38;5;124;03m\"\"\"Check that y_true and y_pred belong to the same regression task.\u001b[39;00m\n\u001b[0;32m     68\u001b[0m \n\u001b[0;32m     69\u001b[0m \u001b[38;5;124;03m    Parameters\u001b[39;00m\n\u001b[1;32m   (...)\u001b[0m\n\u001b[0;32m     98\u001b[0m \u001b[38;5;124;03m        correct keyword.\u001b[39;00m\n\u001b[0;32m     99\u001b[0m \u001b[38;5;124;03m    \"\"\"\u001b[39;00m\n\u001b[1;32m--> 100\u001b[0m     \u001b[43mcheck_consistent_length\u001b[49m\u001b[43m(\u001b[49m\u001b[43my_true\u001b[49m\u001b[43m,\u001b[49m\u001b[43m \u001b[49m\u001b[43my_pred\u001b[49m\u001b[43m)\u001b[49m\n\u001b[0;32m    101\u001b[0m     y_true \u001b[38;5;241m=\u001b[39m check_array(y_true, ensure_2d\u001b[38;5;241m=\u001b[39m\u001b[38;5;28;01mFalse\u001b[39;00m, dtype\u001b[38;5;241m=\u001b[39mdtype)\n\u001b[0;32m    102\u001b[0m     y_pred \u001b[38;5;241m=\u001b[39m check_array(y_pred, ensure_2d\u001b[38;5;241m=\u001b[39m\u001b[38;5;28;01mFalse\u001b[39;00m, dtype\u001b[38;5;241m=\u001b[39mdtype)\n",
      "File \u001b[1;32m~\\.pyenv\\pyenv-win\\versions\\3.8.10\\lib\\site-packages\\sklearn\\utils\\validation.py:397\u001b[0m, in \u001b[0;36mcheck_consistent_length\u001b[1;34m(*arrays)\u001b[0m\n\u001b[0;32m    395\u001b[0m uniques \u001b[38;5;241m=\u001b[39m np\u001b[38;5;241m.\u001b[39munique(lengths)\n\u001b[0;32m    396\u001b[0m \u001b[38;5;28;01mif\u001b[39;00m \u001b[38;5;28mlen\u001b[39m(uniques) \u001b[38;5;241m>\u001b[39m \u001b[38;5;241m1\u001b[39m:\n\u001b[1;32m--> 397\u001b[0m     \u001b[38;5;28;01mraise\u001b[39;00m \u001b[38;5;167;01mValueError\u001b[39;00m(\n\u001b[0;32m    398\u001b[0m         \u001b[38;5;124m\"\u001b[39m\u001b[38;5;124mFound input variables with inconsistent numbers of samples: \u001b[39m\u001b[38;5;132;01m%r\u001b[39;00m\u001b[38;5;124m\"\u001b[39m\n\u001b[0;32m    399\u001b[0m         \u001b[38;5;241m%\u001b[39m [\u001b[38;5;28mint\u001b[39m(l) \u001b[38;5;28;01mfor\u001b[39;00m l \u001b[38;5;129;01min\u001b[39;00m lengths]\n\u001b[0;32m    400\u001b[0m     )\n",
      "\u001b[1;31mValueError\u001b[0m: Found input variables with inconsistent numbers of samples: [607, 759]"
     ]
    }
   ],
   "source": [
    "print(f\"Mean Absolute Error:{round(mean_absolute_error(y_test, y_pred), 2)}\")"
   ]
  },
  {
   "cell_type": "markdown",
   "id": "57db6a05",
   "metadata": {},
   "source": [
    "Although the metrics have improved slightly, the model is still very weak."
   ]
  },
  {
   "cell_type": "markdown",
   "id": "a09f90a8",
   "metadata": {},
   "source": [
    "##### Alpha Selection"
   ]
  },
  {
   "cell_type": "code",
   "execution_count": null,
   "id": "c4441c5c",
   "metadata": {},
   "outputs": [],
   "source": [
    "hyperparams = [{'alpha':np.linspace(0, 1.0, 11)}]\n",
    "hyperparams"
   ]
  },
  {
   "cell_type": "code",
   "execution_count": null,
   "id": "59127c4f",
   "metadata": {},
   "outputs": [],
   "source": [
    "folds = KFold(n_splits=5, shuffle=True, random_state=42)"
   ]
  },
  {
   "cell_type": "code",
   "execution_count": null,
   "id": "c7f80860",
   "metadata": {},
   "outputs": [],
   "source": [
    "cv = GridSearchCV(estimator=ridge,\n",
    "                       param_grid=hyperparams,\n",
    "                       scoring='neg_mean_absolute_error',\n",
    "                       verbose=1)"
   ]
  },
  {
   "cell_type": "code",
   "execution_count": null,
   "id": "35b4f3ea",
   "metadata": {},
   "outputs": [],
   "source": [
    "cv.fit(X_train, y_train)"
   ]
  },
  {
   "cell_type": "code",
   "execution_count": 246,
   "id": "9524bb2f",
   "metadata": {},
   "outputs": [
    {
     "data": {
      "text/html": [
       "<div>\n",
       "<style scoped>\n",
       "    .dataframe tbody tr th:only-of-type {\n",
       "        vertical-align: middle;\n",
       "    }\n",
       "\n",
       "    .dataframe tbody tr th {\n",
       "        vertical-align: top;\n",
       "    }\n",
       "\n",
       "    .dataframe thead th {\n",
       "        text-align: right;\n",
       "    }\n",
       "</style>\n",
       "<table border=\"1\" class=\"dataframe\">\n",
       "  <thead>\n",
       "    <tr style=\"text-align: right;\">\n",
       "      <th></th>\n",
       "      <th>mean_fit_time</th>\n",
       "      <th>std_fit_time</th>\n",
       "      <th>mean_score_time</th>\n",
       "      <th>std_score_time</th>\n",
       "      <th>param_alpha</th>\n",
       "      <th>params</th>\n",
       "      <th>split0_test_score</th>\n",
       "      <th>split1_test_score</th>\n",
       "      <th>split2_test_score</th>\n",
       "      <th>split3_test_score</th>\n",
       "      <th>split4_test_score</th>\n",
       "      <th>mean_test_score</th>\n",
       "      <th>std_test_score</th>\n",
       "      <th>rank_test_score</th>\n",
       "    </tr>\n",
       "  </thead>\n",
       "  <tbody>\n",
       "    <tr>\n",
       "      <th>0</th>\n",
       "      <td>0.007800</td>\n",
       "      <td>0.000979</td>\n",
       "      <td>0.003001</td>\n",
       "      <td>6.332399e-04</td>\n",
       "      <td>0.0</td>\n",
       "      <td>{'alpha': 0.0}</td>\n",
       "      <td>-38735.372428</td>\n",
       "      <td>-38199.740741</td>\n",
       "      <td>-36572.160825</td>\n",
       "      <td>-40207.039175</td>\n",
       "      <td>-38871.767010</td>\n",
       "      <td>-38517.216036</td>\n",
       "      <td>1175.825768</td>\n",
       "      <td>1</td>\n",
       "    </tr>\n",
       "    <tr>\n",
       "      <th>1</th>\n",
       "      <td>0.005801</td>\n",
       "      <td>0.000749</td>\n",
       "      <td>0.003200</td>\n",
       "      <td>3.998042e-04</td>\n",
       "      <td>0.1</td>\n",
       "      <td>{'alpha': 0.1}</td>\n",
       "      <td>-38612.572871</td>\n",
       "      <td>-38202.784951</td>\n",
       "      <td>-36740.967554</td>\n",
       "      <td>-40248.300378</td>\n",
       "      <td>-38840.807242</td>\n",
       "      <td>-38529.086599</td>\n",
       "      <td>1128.155860</td>\n",
       "      <td>11</td>\n",
       "    </tr>\n",
       "    <tr>\n",
       "      <th>2</th>\n",
       "      <td>0.005400</td>\n",
       "      <td>0.000798</td>\n",
       "      <td>0.002999</td>\n",
       "      <td>7.776979e-07</td>\n",
       "      <td>0.2</td>\n",
       "      <td>{'alpha': 0.2}</td>\n",
       "      <td>-38610.650312</td>\n",
       "      <td>-38203.053237</td>\n",
       "      <td>-36738.370322</td>\n",
       "      <td>-40247.227067</td>\n",
       "      <td>-38842.458997</td>\n",
       "      <td>-38528.351987</td>\n",
       "      <td>1128.700262</td>\n",
       "      <td>10</td>\n",
       "    </tr>\n",
       "    <tr>\n",
       "      <th>3</th>\n",
       "      <td>0.004401</td>\n",
       "      <td>0.000489</td>\n",
       "      <td>0.003400</td>\n",
       "      <td>4.907985e-04</td>\n",
       "      <td>0.3</td>\n",
       "      <td>{'alpha': 0.30000000000000004}</td>\n",
       "      <td>-38608.729962</td>\n",
       "      <td>-38203.325322</td>\n",
       "      <td>-36735.836774</td>\n",
       "      <td>-40246.148804</td>\n",
       "      <td>-38844.102317</td>\n",
       "      <td>-38527.628636</td>\n",
       "      <td>1129.224096</td>\n",
       "      <td>9</td>\n",
       "    </tr>\n",
       "    <tr>\n",
       "      <th>4</th>\n",
       "      <td>0.005601</td>\n",
       "      <td>0.000490</td>\n",
       "      <td>0.003000</td>\n",
       "      <td>6.330171e-04</td>\n",
       "      <td>0.4</td>\n",
       "      <td>{'alpha': 0.4}</td>\n",
       "      <td>-38606.811788</td>\n",
       "      <td>-38203.601051</td>\n",
       "      <td>-36733.364656</td>\n",
       "      <td>-40245.065876</td>\n",
       "      <td>-38845.737349</td>\n",
       "      <td>-38526.916144</td>\n",
       "      <td>1129.728142</td>\n",
       "      <td>8</td>\n",
       "    </tr>\n",
       "    <tr>\n",
       "      <th>5</th>\n",
       "      <td>0.005803</td>\n",
       "      <td>0.000402</td>\n",
       "      <td>0.002999</td>\n",
       "      <td>2.008385e-06</td>\n",
       "      <td>0.5</td>\n",
       "      <td>{'alpha': 0.5}</td>\n",
       "      <td>-38604.895758</td>\n",
       "      <td>-38203.880275</td>\n",
       "      <td>-36730.951824</td>\n",
       "      <td>-40243.978557</td>\n",
       "      <td>-38847.364234</td>\n",
       "      <td>-38526.214130</td>\n",
       "      <td>1130.213137</td>\n",
       "      <td>7</td>\n",
       "    </tr>\n",
       "    <tr>\n",
       "      <th>6</th>\n",
       "      <td>0.005202</td>\n",
       "      <td>0.000399</td>\n",
       "      <td>0.002798</td>\n",
       "      <td>3.996673e-04</td>\n",
       "      <td>0.6</td>\n",
       "      <td>{'alpha': 0.6000000000000001}</td>\n",
       "      <td>-38602.981848</td>\n",
       "      <td>-38204.162851</td>\n",
       "      <td>-36728.596241</td>\n",
       "      <td>-40242.887110</td>\n",
       "      <td>-38848.983106</td>\n",
       "      <td>-38525.522231</td>\n",
       "      <td>1130.679788</td>\n",
       "      <td>6</td>\n",
       "    </tr>\n",
       "    <tr>\n",
       "      <th>7</th>\n",
       "      <td>0.005399</td>\n",
       "      <td>0.000489</td>\n",
       "      <td>0.002801</td>\n",
       "      <td>4.005197e-04</td>\n",
       "      <td>0.7</td>\n",
       "      <td>{'alpha': 0.7000000000000001}</td>\n",
       "      <td>-38601.070035</td>\n",
       "      <td>-38204.448644</td>\n",
       "      <td>-36726.295965</td>\n",
       "      <td>-40241.791783</td>\n",
       "      <td>-38850.594098</td>\n",
       "      <td>-38524.840105</td>\n",
       "      <td>1131.128768</td>\n",
       "      <td>5</td>\n",
       "    </tr>\n",
       "    <tr>\n",
       "      <th>8</th>\n",
       "      <td>0.005801</td>\n",
       "      <td>0.000978</td>\n",
       "      <td>0.003000</td>\n",
       "      <td>1.584363e-06</td>\n",
       "      <td>0.8</td>\n",
       "      <td>{'alpha': 0.8}</td>\n",
       "      <td>-38599.160299</td>\n",
       "      <td>-38204.737523</td>\n",
       "      <td>-36724.049144</td>\n",
       "      <td>-40240.692818</td>\n",
       "      <td>-38852.197336</td>\n",
       "      <td>-38524.167424</td>\n",
       "      <td>1131.560716</td>\n",
       "      <td>4</td>\n",
       "    </tr>\n",
       "    <tr>\n",
       "      <th>9</th>\n",
       "      <td>0.005000</td>\n",
       "      <td>0.001095</td>\n",
       "      <td>0.002600</td>\n",
       "      <td>4.918109e-04</td>\n",
       "      <td>0.9</td>\n",
       "      <td>{'alpha': 0.9}</td>\n",
       "      <td>-38597.252627</td>\n",
       "      <td>-38205.029360</td>\n",
       "      <td>-36721.854014</td>\n",
       "      <td>-40239.590444</td>\n",
       "      <td>-38853.792945</td>\n",
       "      <td>-38523.503878</td>\n",
       "      <td>1131.976245</td>\n",
       "      <td>3</td>\n",
       "    </tr>\n",
       "    <tr>\n",
       "      <th>10</th>\n",
       "      <td>0.005603</td>\n",
       "      <td>0.001020</td>\n",
       "      <td>0.003199</td>\n",
       "      <td>3.992328e-04</td>\n",
       "      <td>1.0</td>\n",
       "      <td>{'alpha': 1.0}</td>\n",
       "      <td>-38595.347004</td>\n",
       "      <td>-38205.324037</td>\n",
       "      <td>-36720.520915</td>\n",
       "      <td>-40238.484881</td>\n",
       "      <td>-38855.381042</td>\n",
       "      <td>-38523.011576</td>\n",
       "      <td>1132.117352</td>\n",
       "      <td>2</td>\n",
       "    </tr>\n",
       "  </tbody>\n",
       "</table>\n",
       "</div>"
      ],
      "text/plain": [
       "    mean_fit_time  std_fit_time  mean_score_time  std_score_time param_alpha  \\\n",
       "0        0.007800      0.000979         0.003001    6.332399e-04         0.0   \n",
       "1        0.005801      0.000749         0.003200    3.998042e-04         0.1   \n",
       "2        0.005400      0.000798         0.002999    7.776979e-07         0.2   \n",
       "3        0.004401      0.000489         0.003400    4.907985e-04         0.3   \n",
       "4        0.005601      0.000490         0.003000    6.330171e-04         0.4   \n",
       "5        0.005803      0.000402         0.002999    2.008385e-06         0.5   \n",
       "6        0.005202      0.000399         0.002798    3.996673e-04         0.6   \n",
       "7        0.005399      0.000489         0.002801    4.005197e-04         0.7   \n",
       "8        0.005801      0.000978         0.003000    1.584363e-06         0.8   \n",
       "9        0.005000      0.001095         0.002600    4.918109e-04         0.9   \n",
       "10       0.005603      0.001020         0.003199    3.992328e-04         1.0   \n",
       "\n",
       "                            params  split0_test_score  split1_test_score  \\\n",
       "0                   {'alpha': 0.0}      -38735.372428      -38199.740741   \n",
       "1                   {'alpha': 0.1}      -38612.572871      -38202.784951   \n",
       "2                   {'alpha': 0.2}      -38610.650312      -38203.053237   \n",
       "3   {'alpha': 0.30000000000000004}      -38608.729962      -38203.325322   \n",
       "4                   {'alpha': 0.4}      -38606.811788      -38203.601051   \n",
       "5                   {'alpha': 0.5}      -38604.895758      -38203.880275   \n",
       "6    {'alpha': 0.6000000000000001}      -38602.981848      -38204.162851   \n",
       "7    {'alpha': 0.7000000000000001}      -38601.070035      -38204.448644   \n",
       "8                   {'alpha': 0.8}      -38599.160299      -38204.737523   \n",
       "9                   {'alpha': 0.9}      -38597.252627      -38205.029360   \n",
       "10                  {'alpha': 1.0}      -38595.347004      -38205.324037   \n",
       "\n",
       "    split2_test_score  split3_test_score  split4_test_score  mean_test_score  \\\n",
       "0       -36572.160825      -40207.039175      -38871.767010    -38517.216036   \n",
       "1       -36740.967554      -40248.300378      -38840.807242    -38529.086599   \n",
       "2       -36738.370322      -40247.227067      -38842.458997    -38528.351987   \n",
       "3       -36735.836774      -40246.148804      -38844.102317    -38527.628636   \n",
       "4       -36733.364656      -40245.065876      -38845.737349    -38526.916144   \n",
       "5       -36730.951824      -40243.978557      -38847.364234    -38526.214130   \n",
       "6       -36728.596241      -40242.887110      -38848.983106    -38525.522231   \n",
       "7       -36726.295965      -40241.791783      -38850.594098    -38524.840105   \n",
       "8       -36724.049144      -40240.692818      -38852.197336    -38524.167424   \n",
       "9       -36721.854014      -40239.590444      -38853.792945    -38523.503878   \n",
       "10      -36720.520915      -40238.484881      -38855.381042    -38523.011576   \n",
       "\n",
       "    std_test_score  rank_test_score  \n",
       "0      1175.825768                1  \n",
       "1      1128.155860               11  \n",
       "2      1128.700262               10  \n",
       "3      1129.224096                9  \n",
       "4      1129.728142                8  \n",
       "5      1130.213137                7  \n",
       "6      1130.679788                6  \n",
       "7      1131.128768                5  \n",
       "8      1131.560716                4  \n",
       "9      1131.976245                3  \n",
       "10     1132.117352                2  "
      ]
     },
     "execution_count": 246,
     "metadata": {},
     "output_type": "execute_result"
    }
   ],
   "source": [
    "cv_results = pd.DataFrame(cv.cv_results_)\n",
    "cv_results"
   ]
  },
  {
   "cell_type": "markdown",
   "id": "ec0c8e65",
   "metadata": {},
   "source": [
    "### Random Forest Classifier"
   ]
  },
  {
   "cell_type": "markdown",
   "id": "cfe16815",
   "metadata": {},
   "source": [
    "##### Train Test Split"
   ]
  },
  {
   "cell_type": "code",
   "execution_count": 247,
   "id": "3c61abdc",
   "metadata": {},
   "outputs": [
    {
     "name": "stdout",
     "output_type": "stream",
     "text": [
      "[ 75000  60000 185700 ... 105000 100000  94665]\n"
     ]
    },
    {
     "data": {
      "text/html": [
       "<div>\n",
       "<style scoped>\n",
       "    .dataframe tbody tr th:only-of-type {\n",
       "        vertical-align: middle;\n",
       "    }\n",
       "\n",
       "    .dataframe tbody tr th {\n",
       "        vertical-align: top;\n",
       "    }\n",
       "\n",
       "    .dataframe thead th {\n",
       "        text-align: right;\n",
       "    }\n",
       "</style>\n",
       "<table border=\"1\" class=\"dataframe\">\n",
       "  <thead>\n",
       "    <tr style=\"text-align: right;\">\n",
       "      <th></th>\n",
       "      <th>experience_level_EN</th>\n",
       "      <th>experience_level_EX</th>\n",
       "      <th>experience_level_MI</th>\n",
       "      <th>experience_level_SE</th>\n",
       "      <th>remote_ratio_0</th>\n",
       "      <th>remote_ratio_50</th>\n",
       "      <th>remote_ratio_100</th>\n",
       "      <th>company_size_L</th>\n",
       "      <th>company_size_M</th>\n",
       "      <th>company_size_S</th>\n",
       "      <th>company_continent_AF</th>\n",
       "      <th>company_continent_AS</th>\n",
       "      <th>company_continent_EU</th>\n",
       "      <th>company_continent_NAM</th>\n",
       "      <th>company_continent_OC</th>\n",
       "      <th>company_continent_SA</th>\n",
       "    </tr>\n",
       "  </thead>\n",
       "  <tbody>\n",
       "    <tr>\n",
       "      <th>0</th>\n",
       "      <td>1</td>\n",
       "      <td>0</td>\n",
       "      <td>0</td>\n",
       "      <td>0</td>\n",
       "      <td>0</td>\n",
       "      <td>0</td>\n",
       "      <td>1</td>\n",
       "      <td>0</td>\n",
       "      <td>1</td>\n",
       "      <td>0</td>\n",
       "      <td>0</td>\n",
       "      <td>0</td>\n",
       "      <td>0</td>\n",
       "      <td>1</td>\n",
       "      <td>0</td>\n",
       "      <td>0</td>\n",
       "    </tr>\n",
       "    <tr>\n",
       "      <th>1</th>\n",
       "      <td>1</td>\n",
       "      <td>0</td>\n",
       "      <td>0</td>\n",
       "      <td>0</td>\n",
       "      <td>0</td>\n",
       "      <td>0</td>\n",
       "      <td>1</td>\n",
       "      <td>0</td>\n",
       "      <td>1</td>\n",
       "      <td>0</td>\n",
       "      <td>0</td>\n",
       "      <td>0</td>\n",
       "      <td>0</td>\n",
       "      <td>1</td>\n",
       "      <td>0</td>\n",
       "      <td>0</td>\n",
       "    </tr>\n",
       "    <tr>\n",
       "      <th>2</th>\n",
       "      <td>0</td>\n",
       "      <td>0</td>\n",
       "      <td>1</td>\n",
       "      <td>0</td>\n",
       "      <td>1</td>\n",
       "      <td>0</td>\n",
       "      <td>0</td>\n",
       "      <td>0</td>\n",
       "      <td>1</td>\n",
       "      <td>0</td>\n",
       "      <td>0</td>\n",
       "      <td>0</td>\n",
       "      <td>0</td>\n",
       "      <td>1</td>\n",
       "      <td>0</td>\n",
       "      <td>0</td>\n",
       "    </tr>\n",
       "    <tr>\n",
       "      <th>3</th>\n",
       "      <td>0</td>\n",
       "      <td>0</td>\n",
       "      <td>1</td>\n",
       "      <td>0</td>\n",
       "      <td>1</td>\n",
       "      <td>0</td>\n",
       "      <td>0</td>\n",
       "      <td>0</td>\n",
       "      <td>1</td>\n",
       "      <td>0</td>\n",
       "      <td>0</td>\n",
       "      <td>0</td>\n",
       "      <td>0</td>\n",
       "      <td>1</td>\n",
       "      <td>0</td>\n",
       "      <td>0</td>\n",
       "    </tr>\n",
       "    <tr>\n",
       "      <th>4</th>\n",
       "      <td>0</td>\n",
       "      <td>0</td>\n",
       "      <td>0</td>\n",
       "      <td>1</td>\n",
       "      <td>0</td>\n",
       "      <td>0</td>\n",
       "      <td>1</td>\n",
       "      <td>0</td>\n",
       "      <td>1</td>\n",
       "      <td>0</td>\n",
       "      <td>0</td>\n",
       "      <td>0</td>\n",
       "      <td>0</td>\n",
       "      <td>1</td>\n",
       "      <td>0</td>\n",
       "      <td>0</td>\n",
       "    </tr>\n",
       "  </tbody>\n",
       "</table>\n",
       "</div>"
      ],
      "text/plain": [
       "   experience_level_EN  experience_level_EX  experience_level_MI  \\\n",
       "0                    1                    0                    0   \n",
       "1                    1                    0                    0   \n",
       "2                    0                    0                    1   \n",
       "3                    0                    0                    1   \n",
       "4                    0                    0                    0   \n",
       "\n",
       "   experience_level_SE  remote_ratio_0  remote_ratio_50  remote_ratio_100  \\\n",
       "0                    0               0                0                 1   \n",
       "1                    0               0                0                 1   \n",
       "2                    0               1                0                 0   \n",
       "3                    0               1                0                 0   \n",
       "4                    1               0                0                 1   \n",
       "\n",
       "   company_size_L  company_size_M  company_size_S  company_continent_AF  \\\n",
       "0               0               1               0                     0   \n",
       "1               0               1               0                     0   \n",
       "2               0               1               0                     0   \n",
       "3               0               1               0                     0   \n",
       "4               0               1               0                     0   \n",
       "\n",
       "   company_continent_AS  company_continent_EU  company_continent_NAM  \\\n",
       "0                     0                     0                      1   \n",
       "1                     0                     0                      1   \n",
       "2                     0                     0                      1   \n",
       "3                     0                     0                      1   \n",
       "4                     0                     0                      1   \n",
       "\n",
       "   company_continent_OC  company_continent_SA  \n",
       "0                     0                     0  \n",
       "1                     0                     0  \n",
       "2                     0                     0  \n",
       "3                     0                     0  \n",
       "4                     0                     0  "
      ]
     },
     "execution_count": 247,
     "metadata": {},
     "output_type": "execute_result"
    }
   ],
   "source": [
    "y = np.array(y)\n",
    "print(y)\n",
    "X.head()"
   ]
  },
  {
   "cell_type": "code",
   "execution_count": 248,
   "id": "e813636e",
   "metadata": {},
   "outputs": [],
   "source": [
    "feature_list = list(X.columns)\n",
    "X = np.array(X)"
   ]
  },
  {
   "cell_type": "code",
   "execution_count": 249,
   "id": "3b65e1b0",
   "metadata": {},
   "outputs": [],
   "source": [
    "X_train, X_test, y_train, y_test = train_test_split(X, y, test_size=0.25, random_state=42)"
   ]
  },
  {
   "cell_type": "code",
   "execution_count": 250,
   "id": "2c158631",
   "metadata": {},
   "outputs": [
    {
     "name": "stdout",
     "output_type": "stream",
     "text": [
      "(2275, 16) (759, 16) (2275,) (759,)\n"
     ]
    }
   ],
   "source": [
    "print(X_train.shape, X_test.shape, y_train.shape, y_test.shape)"
   ]
  },
  {
   "cell_type": "markdown",
   "id": "d11803b6",
   "metadata": {},
   "source": [
    "##### Model Fit and Prediction"
   ]
  },
  {
   "cell_type": "code",
   "execution_count": 251,
   "id": "65bc8534",
   "metadata": {},
   "outputs": [],
   "source": [
    "rf = RandomForestRegressor(n_estimators = 1000, random_state = 42)"
   ]
  },
  {
   "cell_type": "code",
   "execution_count": 252,
   "id": "211bc14b",
   "metadata": {},
   "outputs": [
    {
     "data": {
      "text/html": [
       "<style>#sk-container-id-27 {color: black;background-color: white;}#sk-container-id-27 pre{padding: 0;}#sk-container-id-27 div.sk-toggleable {background-color: white;}#sk-container-id-27 label.sk-toggleable__label {cursor: pointer;display: block;width: 100%;margin-bottom: 0;padding: 0.3em;box-sizing: border-box;text-align: center;}#sk-container-id-27 label.sk-toggleable__label-arrow:before {content: \"▸\";float: left;margin-right: 0.25em;color: #696969;}#sk-container-id-27 label.sk-toggleable__label-arrow:hover:before {color: black;}#sk-container-id-27 div.sk-estimator:hover label.sk-toggleable__label-arrow:before {color: black;}#sk-container-id-27 div.sk-toggleable__content {max-height: 0;max-width: 0;overflow: hidden;text-align: left;background-color: #f0f8ff;}#sk-container-id-27 div.sk-toggleable__content pre {margin: 0.2em;color: black;border-radius: 0.25em;background-color: #f0f8ff;}#sk-container-id-27 input.sk-toggleable__control:checked~div.sk-toggleable__content {max-height: 200px;max-width: 100%;overflow: auto;}#sk-container-id-27 input.sk-toggleable__control:checked~label.sk-toggleable__label-arrow:before {content: \"▾\";}#sk-container-id-27 div.sk-estimator input.sk-toggleable__control:checked~label.sk-toggleable__label {background-color: #d4ebff;}#sk-container-id-27 div.sk-label input.sk-toggleable__control:checked~label.sk-toggleable__label {background-color: #d4ebff;}#sk-container-id-27 input.sk-hidden--visually {border: 0;clip: rect(1px 1px 1px 1px);clip: rect(1px, 1px, 1px, 1px);height: 1px;margin: -1px;overflow: hidden;padding: 0;position: absolute;width: 1px;}#sk-container-id-27 div.sk-estimator {font-family: monospace;background-color: #f0f8ff;border: 1px dotted black;border-radius: 0.25em;box-sizing: border-box;margin-bottom: 0.5em;}#sk-container-id-27 div.sk-estimator:hover {background-color: #d4ebff;}#sk-container-id-27 div.sk-parallel-item::after {content: \"\";width: 100%;border-bottom: 1px solid gray;flex-grow: 1;}#sk-container-id-27 div.sk-label:hover label.sk-toggleable__label {background-color: #d4ebff;}#sk-container-id-27 div.sk-serial::before {content: \"\";position: absolute;border-left: 1px solid gray;box-sizing: border-box;top: 0;bottom: 0;left: 50%;z-index: 0;}#sk-container-id-27 div.sk-serial {display: flex;flex-direction: column;align-items: center;background-color: white;padding-right: 0.2em;padding-left: 0.2em;position: relative;}#sk-container-id-27 div.sk-item {position: relative;z-index: 1;}#sk-container-id-27 div.sk-parallel {display: flex;align-items: stretch;justify-content: center;background-color: white;position: relative;}#sk-container-id-27 div.sk-item::before, #sk-container-id-27 div.sk-parallel-item::before {content: \"\";position: absolute;border-left: 1px solid gray;box-sizing: border-box;top: 0;bottom: 0;left: 50%;z-index: -1;}#sk-container-id-27 div.sk-parallel-item {display: flex;flex-direction: column;z-index: 1;position: relative;background-color: white;}#sk-container-id-27 div.sk-parallel-item:first-child::after {align-self: flex-end;width: 50%;}#sk-container-id-27 div.sk-parallel-item:last-child::after {align-self: flex-start;width: 50%;}#sk-container-id-27 div.sk-parallel-item:only-child::after {width: 0;}#sk-container-id-27 div.sk-dashed-wrapped {border: 1px dashed gray;margin: 0 0.4em 0.5em 0.4em;box-sizing: border-box;padding-bottom: 0.4em;background-color: white;}#sk-container-id-27 div.sk-label label {font-family: monospace;font-weight: bold;display: inline-block;line-height: 1.2em;}#sk-container-id-27 div.sk-label-container {text-align: center;}#sk-container-id-27 div.sk-container {/* jupyter's `normalize.less` sets `[hidden] { display: none; }` but bootstrap.min.css set `[hidden] { display: none !important; }` so we also need the `!important` here to be able to override the default hidden behavior on the sphinx rendered scikit-learn.org. See: https://github.com/scikit-learn/scikit-learn/issues/21755 */display: inline-block !important;position: relative;}#sk-container-id-27 div.sk-text-repr-fallback {display: none;}</style><div id=\"sk-container-id-27\" class=\"sk-top-container\"><div class=\"sk-text-repr-fallback\"><pre>RandomForestRegressor(n_estimators=1000, random_state=42)</pre><b>In a Jupyter environment, please rerun this cell to show the HTML representation or trust the notebook. <br />On GitHub, the HTML representation is unable to render, please try loading this page with nbviewer.org.</b></div><div class=\"sk-container\" hidden><div class=\"sk-item\"><div class=\"sk-estimator sk-toggleable\"><input class=\"sk-toggleable__control sk-hidden--visually\" id=\"sk-estimator-id-52\" type=\"checkbox\" checked><label for=\"sk-estimator-id-52\" class=\"sk-toggleable__label sk-toggleable__label-arrow\">RandomForestRegressor</label><div class=\"sk-toggleable__content\"><pre>RandomForestRegressor(n_estimators=1000, random_state=42)</pre></div></div></div></div></div>"
      ],
      "text/plain": [
       "RandomForestRegressor(n_estimators=1000, random_state=42)"
      ]
     },
     "execution_count": 252,
     "metadata": {},
     "output_type": "execute_result"
    }
   ],
   "source": [
    "rf.fit(X_train, y_train)"
   ]
  },
  {
   "cell_type": "code",
   "execution_count": 253,
   "id": "b359a475",
   "metadata": {},
   "outputs": [],
   "source": [
    "y_pred_train = rf.predict(X_train)\n",
    "y_pred_test = rf.predict(X_test)"
   ]
  },
  {
   "cell_type": "markdown",
   "id": "d1fd859f",
   "metadata": {},
   "source": [
    "##### Visualization"
   ]
  },
  {
   "cell_type": "code",
   "execution_count": 254,
   "id": "d4ac3db8",
   "metadata": {},
   "outputs": [
    {
     "data": {
      "image/png": "[encoded data removed]",
      "text/plain": [
       "<Figure size 640x480 with 1 Axes>"
      ]
     },
     "metadata": {},
     "output_type": "display_data"
    }
   ],
   "source": [
    "plt.scatter(y_train, y_pred_train)\n",
    "plt.title(\"Training Data Predictions\")\n",
    "plt.xlabel(\"Actual Salary\")\n",
    "plt.ylabel(\"Predicted Salary\")\n",
    "plt.show()"
   ]
  },
  {
   "cell_type": "code",
   "execution_count": 255,
   "id": "780779b3",
   "metadata": {},
   "outputs": [
    {
     "data": {
      "image/png": "[encoded data removed]",
      "text/plain": [
       "<Figure size 640x480 with 1 Axes>"
      ]
     },
     "metadata": {},
     "output_type": "display_data"
    }
   ],
   "source": [
    "plt.scatter(y_test, y_pred_test)\n",
    "plt.title(\"Testing Data Predictions\")\n",
    "plt.xlabel(\"Actual Salary\")\n",
    "plt.ylabel(\"Predicted Salary\")\n",
    "plt.show()"
   ]
  },
  {
   "cell_type": "markdown",
   "id": "cbb6b073",
   "metadata": {},
   "source": [
    "##### Metrics"
   ]
  },
  {
   "cell_type": "code",
   "execution_count": 211,
   "id": "c811aa40",
   "metadata": {},
   "outputs": [
    {
     "name": "stdout",
     "output_type": "stream",
     "text": [
      "Mean Absolute Error: 37799.37598630223\n"
     ]
    }
   ],
   "source": [
    "print(f\"Mean Absolute Error: {mean_absolute_error(y_test, y_pred)}\")"
   ]
  },
  {
   "cell_type": "code",
   "execution_count": 213,
   "id": "2dbea31d",
   "metadata": {},
   "outputs": [
    {
     "data": {
      "text/plain": [
       "0.40777090746378397"
      ]
     },
     "execution_count": 213,
     "metadata": {},
     "output_type": "execute_result"
    }
   ],
   "source": [
    "r2_score(y_train, y_pred_train)"
   ]
  },
  {
   "cell_type": "code",
   "execution_count": 214,
   "id": "1bfdeca9",
   "metadata": {},
   "outputs": [
    {
     "data": {
      "text/plain": [
       "0.3980879948482424"
      ]
     },
     "execution_count": 214,
     "metadata": {},
     "output_type": "execute_result"
    }
   ],
   "source": [
    "r2_score(y_test, y_pred_test)"
   ]
  },
  {
   "cell_type": "markdown",
   "id": "3b174286",
   "metadata": {},
   "source": [
    "##### Feature Selection"
   ]
  },
  {
   "cell_type": "code",
   "execution_count": 232,
   "id": "67e5e409",
   "metadata": {},
   "outputs": [
    {
     "name": "stdout",
     "output_type": "stream",
     "text": [
      "Variable: company_continent_NAM Importance: 0.65\n",
      "Variable: experience_level_EX  Importance: 0.09\n",
      "Variable: experience_level_SE  Importance: 0.08\n",
      "Variable: experience_level_EN  Importance: 0.03\n",
      "Variable: experience_level_MI  Importance: 0.03\n",
      "Variable: company_size_S       Importance: 0.03\n",
      "Variable: remote_ratio_0       Importance: 0.02\n",
      "Variable: remote_ratio_50      Importance: 0.01\n",
      "Variable: remote_ratio_100     Importance: 0.01\n",
      "Variable: company_size_L       Importance: 0.01\n",
      "Variable: company_size_M       Importance: 0.01\n",
      "Variable: company_continent_AS Importance: 0.01\n",
      "Variable: company_continent_EU Importance: 0.01\n",
      "Variable: company_continent_AF Importance: 0.0\n",
      "Variable: company_continent_OC Importance: 0.0\n",
      "Variable: company_continent_SA Importance: 0.0\n"
     ]
    }
   ],
   "source": [
    "importances = list(rf.feature_importances_)\n",
    "feature_importances = [(feature, round(importance, 2)) for feature, importance in zip(feature_list, importances)]\n",
    "feature_importances = sorted(feature_importances, key = lambda x: x[1], reverse = True)\n",
    "[print('Variable: {:20} Importance: {}'.format(*pair)) for pair in feature_importances];"
   ]
  },
  {
   "cell_type": "code",
   "execution_count": null,
   "id": "596aa072",
   "metadata": {},
   "outputs": [],
   "source": []
  },
  {
   "cell_type": "markdown",
   "id": "aaa88b02",
   "metadata": {},
   "source": [
    "None of the models seem to be very accurate, being off by about $37,000 on average in their predictions. "
   ]
  },
  {
   "cell_type": "code",
   "execution_count": null,
   "id": "9d74c148",
   "metadata": {},
   "outputs": [],
   "source": []
  }
 ],
 "metadata": {
  "kernelspec": {
   "display_name": "Python 3 (ipykernel)",
   "language": "python",
   "name": "python3"
  },
  "language_info": {
   "codemirror_mode": {
    "name": "ipython",
    "version": 3
   },
   "file_extension": ".py",
   "mimetype": "text/x-python",
   "name": "python",
   "nbconvert_exporter": "python",
   "pygments_lexer": "ipython3",
   "version": "3.8.10"
  }
 },
 "nbformat": 4,
 "nbformat_minor": 5
}
