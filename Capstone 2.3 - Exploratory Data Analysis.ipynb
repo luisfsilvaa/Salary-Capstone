{
 "cells": [
  {
   "cell_type": "markdown",
   "id": "cabe5cfc",
   "metadata": {},
   "source": [
    "## Imports"
   ]
  },
  {
   "cell_type": "code",
   "execution_count": 120,
   "id": "f33612ae",
   "metadata": {},
   "outputs": [],
   "source": [
    "import numpy as np\n",
    "import pandas as pd\n",
    "import matplotlib.pyplot as plt\n",
    "import seaborn as sns"
   ]
  },
  {
   "cell_type": "markdown",
   "id": "408dad07",
   "metadata": {},
   "source": [
    "## Load Salary Data"
   ]
  },
  {
   "cell_type": "code",
   "execution_count": 121,
   "id": "4a86e789",
   "metadata": {},
   "outputs": [],
   "source": [
    "clean_salary = 'clean_salary.csv'\n",
    "salary = pd.read_csv(clean_salary, index_col='Unnamed: 0')"
   ]
  },
  {
   "cell_type": "code",
   "execution_count": 122,
   "id": "a36af04c",
   "metadata": {},
   "outputs": [
    {
     "name": "stdout",
     "output_type": "stream",
     "text": [
      "<class 'pandas.core.frame.DataFrame'>\n",
      "Int64Index: 3006 entries, 0 to 3005\n",
      "Data columns (total 9 columns):\n",
      " #   Column              Non-Null Count  Dtype \n",
      "---  ------              --------------  ----- \n",
      " 0   work_year           3006 non-null   int64 \n",
      " 1   experience_level    3006 non-null   object\n",
      " 2   employment_type     3006 non-null   object\n",
      " 3   job_title           3006 non-null   object\n",
      " 4   salary_in_usd       3006 non-null   int64 \n",
      " 5   employee_residence  3006 non-null   object\n",
      " 6   remote_ratio        3006 non-null   int64 \n",
      " 7   company_location    3006 non-null   object\n",
      " 8   company_size        3006 non-null   object\n",
      "dtypes: int64(3), object(6)\n",
      "memory usage: 234.8+ KB\n"
     ]
    }
   ],
   "source": [
    "salary.info()"
   ]
  },
  {
   "cell_type": "markdown",
   "id": "0f51ed99",
   "metadata": {},
   "source": [
    "##### Drop work_year column"
   ]
  },
  {
   "cell_type": "code",
   "execution_count": 123,
   "id": "d93fd65a",
   "metadata": {},
   "outputs": [],
   "source": [
    "salary = salary.drop(columns='work_year')\n",
    "salary['remote_ratio'] = salary['remote_ratio'].astype('category')\n",
    "salary['experience_level'] = salary['experience_level'].astype('category')\n",
    "salary['employment_type'] = salary['employment_type'].astype('category')\n",
    "salary['company_size'] = salary['company_size'].astype('category')"
   ]
  },
  {
   "cell_type": "code",
   "execution_count": 124,
   "id": "d24d07ae",
   "metadata": {},
   "outputs": [
    {
     "name": "stdout",
     "output_type": "stream",
     "text": [
      "<class 'pandas.core.frame.DataFrame'>\n",
      "Int64Index: 3006 entries, 0 to 3005\n",
      "Data columns (total 8 columns):\n",
      " #   Column              Non-Null Count  Dtype   \n",
      "---  ------              --------------  -----   \n",
      " 0   experience_level    3006 non-null   category\n",
      " 1   employment_type     3006 non-null   category\n",
      " 2   job_title           3006 non-null   object  \n",
      " 3   salary_in_usd       3006 non-null   int64   \n",
      " 4   employee_residence  3006 non-null   object  \n",
      " 5   remote_ratio        3006 non-null   category\n",
      " 6   company_location    3006 non-null   object  \n",
      " 7   company_size        3006 non-null   category\n",
      "dtypes: category(4), int64(1), object(3)\n",
      "memory usage: 129.8+ KB\n"
     ]
    }
   ],
   "source": [
    "salary.info()"
   ]
  },
  {
   "cell_type": "markdown",
   "id": "6f5b543b",
   "metadata": {},
   "source": [
    "## Explore Data"
   ]
  },
  {
   "cell_type": "code",
   "execution_count": 125,
   "id": "2474453c",
   "metadata": {},
   "outputs": [
    {
     "data": {
      "text/html": [
       "<div>\n",
       "<style scoped>\n",
       "    .dataframe tbody tr th:only-of-type {\n",
       "        vertical-align: middle;\n",
       "    }\n",
       "\n",
       "    .dataframe tbody tr th {\n",
       "        vertical-align: top;\n",
       "    }\n",
       "\n",
       "    .dataframe thead th {\n",
       "        text-align: right;\n",
       "    }\n",
       "</style>\n",
       "<table border=\"1\" class=\"dataframe\">\n",
       "  <thead>\n",
       "    <tr style=\"text-align: right;\">\n",
       "      <th></th>\n",
       "      <th>experience_level</th>\n",
       "      <th>employment_type</th>\n",
       "      <th>job_title</th>\n",
       "      <th>salary_in_usd</th>\n",
       "      <th>employee_residence</th>\n",
       "      <th>remote_ratio</th>\n",
       "      <th>company_location</th>\n",
       "      <th>company_size</th>\n",
       "    </tr>\n",
       "  </thead>\n",
       "  <tbody>\n",
       "    <tr>\n",
       "      <th>0</th>\n",
       "      <td>EN</td>\n",
       "      <td>FT</td>\n",
       "      <td>Data Analyst</td>\n",
       "      <td>75000</td>\n",
       "      <td>US</td>\n",
       "      <td>100</td>\n",
       "      <td>US</td>\n",
       "      <td>M</td>\n",
       "    </tr>\n",
       "    <tr>\n",
       "      <th>1</th>\n",
       "      <td>EN</td>\n",
       "      <td>FT</td>\n",
       "      <td>Data Analyst</td>\n",
       "      <td>60000</td>\n",
       "      <td>US</td>\n",
       "      <td>100</td>\n",
       "      <td>US</td>\n",
       "      <td>M</td>\n",
       "    </tr>\n",
       "    <tr>\n",
       "      <th>2</th>\n",
       "      <td>MI</td>\n",
       "      <td>FT</td>\n",
       "      <td>Analytics Engineer</td>\n",
       "      <td>185700</td>\n",
       "      <td>US</td>\n",
       "      <td>0</td>\n",
       "      <td>US</td>\n",
       "      <td>M</td>\n",
       "    </tr>\n",
       "    <tr>\n",
       "      <th>3</th>\n",
       "      <td>MI</td>\n",
       "      <td>FT</td>\n",
       "      <td>Analytics Engineer</td>\n",
       "      <td>165000</td>\n",
       "      <td>US</td>\n",
       "      <td>0</td>\n",
       "      <td>US</td>\n",
       "      <td>M</td>\n",
       "    </tr>\n",
       "    <tr>\n",
       "      <th>4</th>\n",
       "      <td>SE</td>\n",
       "      <td>FT</td>\n",
       "      <td>Data Engineer</td>\n",
       "      <td>160000</td>\n",
       "      <td>US</td>\n",
       "      <td>100</td>\n",
       "      <td>US</td>\n",
       "      <td>M</td>\n",
       "    </tr>\n",
       "  </tbody>\n",
       "</table>\n",
       "</div>"
      ],
      "text/plain": [
       "  experience_level employment_type           job_title  salary_in_usd  \\\n",
       "0               EN              FT        Data Analyst          75000   \n",
       "1               EN              FT        Data Analyst          60000   \n",
       "2               MI              FT  Analytics Engineer         185700   \n",
       "3               MI              FT  Analytics Engineer         165000   \n",
       "4               SE              FT       Data Engineer         160000   \n",
       "\n",
       "  employee_residence remote_ratio company_location company_size  \n",
       "0                 US          100               US            M  \n",
       "1                 US          100               US            M  \n",
       "2                 US            0               US            M  \n",
       "3                 US            0               US            M  \n",
       "4                 US          100               US            M  "
      ]
     },
     "execution_count": 125,
     "metadata": {},
     "output_type": "execute_result"
    }
   ],
   "source": [
    "salary.head()"
   ]
  },
  {
   "cell_type": "markdown",
   "id": "77e2e572",
   "metadata": {},
   "source": [
    "### Salary in USD"
   ]
  },
  {
   "cell_type": "code",
   "execution_count": 126,
   "id": "d6589bd3",
   "metadata": {},
   "outputs": [
    {
     "data": {
      "text/plain": [
       "count      3006.000000\n",
       "mean     134282.715569\n",
       "std       62764.987716\n",
       "min        5000.000000\n",
       "25%       91427.750000\n",
       "50%      130000.000000\n",
       "75%      172339.500000\n",
       "max      450000.000000\n",
       "Name: salary_in_usd, dtype: float64"
      ]
     },
     "execution_count": 126,
     "metadata": {},
     "output_type": "execute_result"
    }
   ],
   "source": [
    "salary.salary_in_usd.describe()"
   ]
  },
  {
   "cell_type": "code",
   "execution_count": 127,
   "id": "67dd93bb",
   "metadata": {},
   "outputs": [
    {
     "data": {
      "image/png": "[encoded data removed]",
      "text/plain": [
       "<Figure size 640x480 with 1 Axes>"
      ]
     },
     "metadata": {},
     "output_type": "display_data"
    }
   ],
   "source": [
    "plt.hist(salary.salary_in_usd, bins=20)\n",
    "plt.show()"
   ]
  },
  {
   "cell_type": "markdown",
   "id": "c2b9a1de",
   "metadata": {},
   "source": [
    "### Highest Salaries"
   ]
  },
  {
   "cell_type": "code",
   "execution_count": 128,
   "id": "4e9a8955",
   "metadata": {},
   "outputs": [
    {
     "data": {
      "text/html": [
       "<div>\n",
       "<style scoped>\n",
       "    .dataframe tbody tr th:only-of-type {\n",
       "        vertical-align: middle;\n",
       "    }\n",
       "\n",
       "    .dataframe tbody tr th {\n",
       "        vertical-align: top;\n",
       "    }\n",
       "\n",
       "    .dataframe thead th {\n",
       "        text-align: right;\n",
       "    }\n",
       "</style>\n",
       "<table border=\"1\" class=\"dataframe\">\n",
       "  <thead>\n",
       "    <tr style=\"text-align: right;\">\n",
       "      <th></th>\n",
       "      <th>experience_level</th>\n",
       "      <th>employment_type</th>\n",
       "      <th>job_title</th>\n",
       "      <th>salary_in_usd</th>\n",
       "      <th>employee_residence</th>\n",
       "      <th>remote_ratio</th>\n",
       "      <th>company_location</th>\n",
       "      <th>company_size</th>\n",
       "    </tr>\n",
       "  </thead>\n",
       "  <tbody>\n",
       "    <tr>\n",
       "      <th>2773</th>\n",
       "      <td>MI</td>\n",
       "      <td>FT</td>\n",
       "      <td>Research Scientist</td>\n",
       "      <td>450000</td>\n",
       "      <td>US</td>\n",
       "      <td>0</td>\n",
       "      <td>US</td>\n",
       "      <td>M</td>\n",
       "    </tr>\n",
       "    <tr>\n",
       "      <th>1262</th>\n",
       "      <td>MI</td>\n",
       "      <td>FT</td>\n",
       "      <td>Data Analyst</td>\n",
       "      <td>430967</td>\n",
       "      <td>GB</td>\n",
       "      <td>0</td>\n",
       "      <td>GB</td>\n",
       "      <td>M</td>\n",
       "    </tr>\n",
       "    <tr>\n",
       "      <th>2998</th>\n",
       "      <td>MI</td>\n",
       "      <td>FT</td>\n",
       "      <td>Applied Machine Learning Scientist</td>\n",
       "      <td>423000</td>\n",
       "      <td>US</td>\n",
       "      <td>50</td>\n",
       "      <td>US</td>\n",
       "      <td>L</td>\n",
       "    </tr>\n",
       "    <tr>\n",
       "      <th>2926</th>\n",
       "      <td>EX</td>\n",
       "      <td>CT</td>\n",
       "      <td>Principal Data Scientist</td>\n",
       "      <td>416000</td>\n",
       "      <td>US</td>\n",
       "      <td>100</td>\n",
       "      <td>US</td>\n",
       "      <td>S</td>\n",
       "    </tr>\n",
       "    <tr>\n",
       "      <th>3001</th>\n",
       "      <td>SE</td>\n",
       "      <td>FT</td>\n",
       "      <td>Data Scientist</td>\n",
       "      <td>412000</td>\n",
       "      <td>US</td>\n",
       "      <td>100</td>\n",
       "      <td>US</td>\n",
       "      <td>L</td>\n",
       "    </tr>\n",
       "  </tbody>\n",
       "</table>\n",
       "</div>"
      ],
      "text/plain": [
       "     experience_level employment_type                           job_title  \\\n",
       "2773               MI              FT                  Research Scientist   \n",
       "1262               MI              FT                        Data Analyst   \n",
       "2998               MI              FT  Applied Machine Learning Scientist   \n",
       "2926               EX              CT            Principal Data Scientist   \n",
       "3001               SE              FT                      Data Scientist   \n",
       "\n",
       "      salary_in_usd employee_residence remote_ratio company_location  \\\n",
       "2773         450000                 US            0               US   \n",
       "1262         430967                 GB            0               GB   \n",
       "2998         423000                 US           50               US   \n",
       "2926         416000                 US          100               US   \n",
       "3001         412000                 US          100               US   \n",
       "\n",
       "     company_size  \n",
       "2773            M  \n",
       "1262            M  \n",
       "2998            L  \n",
       "2926            S  \n",
       "3001            L  "
      ]
     },
     "execution_count": 128,
     "metadata": {},
     "output_type": "execute_result"
    }
   ],
   "source": [
    "salary.sort_values('salary_in_usd', ascending=False).head()"
   ]
  },
  {
   "cell_type": "markdown",
   "id": "d2991226",
   "metadata": {},
   "source": [
    "The three highest salaries seem like outliers considering their experience level. Let's get rid of them."
   ]
  },
  {
   "cell_type": "code",
   "execution_count": 129,
   "id": "b7dca762",
   "metadata": {},
   "outputs": [],
   "source": [
    "salary = salary.drop([2773, 1262, 2998])"
   ]
  },
  {
   "cell_type": "markdown",
   "id": "3db11f94",
   "metadata": {},
   "source": [
    "### Lowest Salaries"
   ]
  },
  {
   "cell_type": "code",
   "execution_count": 130,
   "id": "07945506",
   "metadata": {},
   "outputs": [
    {
     "data": {
      "text/html": [
       "<div>\n",
       "<style scoped>\n",
       "    .dataframe tbody tr th:only-of-type {\n",
       "        vertical-align: middle;\n",
       "    }\n",
       "\n",
       "    .dataframe tbody tr th {\n",
       "        vertical-align: top;\n",
       "    }\n",
       "\n",
       "    .dataframe thead th {\n",
       "        text-align: right;\n",
       "    }\n",
       "</style>\n",
       "<table border=\"1\" class=\"dataframe\">\n",
       "  <thead>\n",
       "    <tr style=\"text-align: right;\">\n",
       "      <th></th>\n",
       "      <th>experience_level</th>\n",
       "      <th>employment_type</th>\n",
       "      <th>job_title</th>\n",
       "      <th>salary_in_usd</th>\n",
       "      <th>employee_residence</th>\n",
       "      <th>remote_ratio</th>\n",
       "      <th>company_location</th>\n",
       "      <th>company_size</th>\n",
       "    </tr>\n",
       "  </thead>\n",
       "  <tbody>\n",
       "    <tr>\n",
       "      <th>54</th>\n",
       "      <td>SE</td>\n",
       "      <td>FT</td>\n",
       "      <td>BI Data Engineer</td>\n",
       "      <td>5000</td>\n",
       "      <td>NG</td>\n",
       "      <td>0</td>\n",
       "      <td>NG</td>\n",
       "      <td>M</td>\n",
       "    </tr>\n",
       "    <tr>\n",
       "      <th>1935</th>\n",
       "      <td>MI</td>\n",
       "      <td>FT</td>\n",
       "      <td>NLP Engineer</td>\n",
       "      <td>5132</td>\n",
       "      <td>CZ</td>\n",
       "      <td>100</td>\n",
       "      <td>CZ</td>\n",
       "      <td>M</td>\n",
       "    </tr>\n",
       "    <tr>\n",
       "      <th>1829</th>\n",
       "      <td>EN</td>\n",
       "      <td>FT</td>\n",
       "      <td>Power BI Developer</td>\n",
       "      <td>5409</td>\n",
       "      <td>IN</td>\n",
       "      <td>50</td>\n",
       "      <td>IN</td>\n",
       "      <td>L</td>\n",
       "    </tr>\n",
       "    <tr>\n",
       "      <th>2788</th>\n",
       "      <td>MI</td>\n",
       "      <td>PT</td>\n",
       "      <td>3D Computer Vision Researcher</td>\n",
       "      <td>5409</td>\n",
       "      <td>IN</td>\n",
       "      <td>50</td>\n",
       "      <td>IN</td>\n",
       "      <td>M</td>\n",
       "    </tr>\n",
       "    <tr>\n",
       "      <th>2918</th>\n",
       "      <td>MI</td>\n",
       "      <td>FT</td>\n",
       "      <td>Data Scientist</td>\n",
       "      <td>5679</td>\n",
       "      <td>IN</td>\n",
       "      <td>100</td>\n",
       "      <td>US</td>\n",
       "      <td>S</td>\n",
       "    </tr>\n",
       "  </tbody>\n",
       "</table>\n",
       "</div>"
      ],
      "text/plain": [
       "     experience_level employment_type                      job_title  \\\n",
       "54                 SE              FT               BI Data Engineer   \n",
       "1935               MI              FT                   NLP Engineer   \n",
       "1829               EN              FT             Power BI Developer   \n",
       "2788               MI              PT  3D Computer Vision Researcher   \n",
       "2918               MI              FT                 Data Scientist   \n",
       "\n",
       "      salary_in_usd employee_residence remote_ratio company_location  \\\n",
       "54             5000                 NG            0               NG   \n",
       "1935           5132                 CZ          100               CZ   \n",
       "1829           5409                 IN           50               IN   \n",
       "2788           5409                 IN           50               IN   \n",
       "2918           5679                 IN          100               US   \n",
       "\n",
       "     company_size  \n",
       "54              M  \n",
       "1935            M  \n",
       "1829            L  \n",
       "2788            M  \n",
       "2918            S  "
      ]
     },
     "execution_count": 130,
     "metadata": {},
     "output_type": "execute_result"
    }
   ],
   "source": [
    "salary.sort_values('salary_in_usd').head()"
   ]
  },
  {
   "cell_type": "markdown",
   "id": "0bbf750d",
   "metadata": {},
   "source": [
    "### Salary by Experience Level"
   ]
  },
  {
   "cell_type": "code",
   "execution_count": 131,
   "id": "43981e69",
   "metadata": {},
   "outputs": [
    {
     "data": {
      "text/html": [
       "<div>\n",
       "<style scoped>\n",
       "    .dataframe tbody tr th:only-of-type {\n",
       "        vertical-align: middle;\n",
       "    }\n",
       "\n",
       "    .dataframe tbody tr th {\n",
       "        vertical-align: top;\n",
       "    }\n",
       "\n",
       "    .dataframe thead th {\n",
       "        text-align: right;\n",
       "    }\n",
       "</style>\n",
       "<table border=\"1\" class=\"dataframe\">\n",
       "  <thead>\n",
       "    <tr style=\"text-align: right;\">\n",
       "      <th></th>\n",
       "      <th>count</th>\n",
       "      <th>mean</th>\n",
       "      <th>std</th>\n",
       "      <th>min</th>\n",
       "      <th>25%</th>\n",
       "      <th>50%</th>\n",
       "      <th>75%</th>\n",
       "      <th>max</th>\n",
       "    </tr>\n",
       "    <tr>\n",
       "      <th>experience_level</th>\n",
       "      <th></th>\n",
       "      <th></th>\n",
       "      <th></th>\n",
       "      <th></th>\n",
       "      <th></th>\n",
       "      <th></th>\n",
       "      <th></th>\n",
       "      <th></th>\n",
       "    </tr>\n",
       "  </thead>\n",
       "  <tbody>\n",
       "    <tr>\n",
       "      <th>EN</th>\n",
       "      <td>256.0</td>\n",
       "      <td>73277.445312</td>\n",
       "      <td>50401.821853</td>\n",
       "      <td>5409.0</td>\n",
       "      <td>31520.0</td>\n",
       "      <td>62146.0</td>\n",
       "      <td>100000.0</td>\n",
       "      <td>250000.0</td>\n",
       "    </tr>\n",
       "    <tr>\n",
       "      <th>EX</th>\n",
       "      <td>83.0</td>\n",
       "      <td>196597.361446</td>\n",
       "      <td>70715.354365</td>\n",
       "      <td>69741.0</td>\n",
       "      <td>145000.0</td>\n",
       "      <td>196200.0</td>\n",
       "      <td>239000.0</td>\n",
       "      <td>416000.0</td>\n",
       "    </tr>\n",
       "    <tr>\n",
       "      <th>MI</th>\n",
       "      <td>676.0</td>\n",
       "      <td>100955.165680</td>\n",
       "      <td>49581.212965</td>\n",
       "      <td>5132.0</td>\n",
       "      <td>64892.0</td>\n",
       "      <td>98506.0</td>\n",
       "      <td>130000.0</td>\n",
       "      <td>340000.0</td>\n",
       "    </tr>\n",
       "    <tr>\n",
       "      <th>SE</th>\n",
       "      <td>1988.0</td>\n",
       "      <td>150416.286217</td>\n",
       "      <td>56336.884623</td>\n",
       "      <td>5000.0</td>\n",
       "      <td>113000.0</td>\n",
       "      <td>144927.0</td>\n",
       "      <td>185025.0</td>\n",
       "      <td>412000.0</td>\n",
       "    </tr>\n",
       "  </tbody>\n",
       "</table>\n",
       "</div>"
      ],
      "text/plain": [
       "                   count           mean           std      min       25%  \\\n",
       "experience_level                                                           \n",
       "EN                 256.0   73277.445312  50401.821853   5409.0   31520.0   \n",
       "EX                  83.0  196597.361446  70715.354365  69741.0  145000.0   \n",
       "MI                 676.0  100955.165680  49581.212965   5132.0   64892.0   \n",
       "SE                1988.0  150416.286217  56336.884623   5000.0  113000.0   \n",
       "\n",
       "                       50%       75%       max  \n",
       "experience_level                                \n",
       "EN                 62146.0  100000.0  250000.0  \n",
       "EX                196200.0  239000.0  416000.0  \n",
       "MI                 98506.0  130000.0  340000.0  \n",
       "SE                144927.0  185025.0  412000.0  "
      ]
     },
     "execution_count": 131,
     "metadata": {},
     "output_type": "execute_result"
    }
   ],
   "source": [
    "salary.groupby('experience_level')['salary_in_usd'].describe()"
   ]
  },
  {
   "cell_type": "code",
   "execution_count": 132,
   "id": "0e907f63",
   "metadata": {
    "scrolled": true
   },
   "outputs": [
    {
     "data": {
      "image/png": "[encoded data removed]",
      "text/plain": [
       "<Figure size 640x480 with 1 Axes>"
      ]
     },
     "metadata": {},
     "output_type": "display_data"
    }
   ],
   "source": [
    "sns.boxplot(data=salary, x='experience_level', y='salary_in_usd', order=['EN', 'MI', 'SE', 'EX'])\n",
    "plt.show()"
   ]
  },
  {
   "cell_type": "markdown",
   "id": "09937470",
   "metadata": {},
   "source": [
    "The high outliers are concerning, but the distributions seem to be intuitively correct."
   ]
  },
  {
   "cell_type": "markdown",
   "id": "68f06076",
   "metadata": {},
   "source": [
    "### Salary by Job Title"
   ]
  },
  {
   "cell_type": "code",
   "execution_count": 133,
   "id": "1cbd168e",
   "metadata": {},
   "outputs": [
    {
     "data": {
      "text/html": [
       "<div>\n",
       "<style scoped>\n",
       "    .dataframe tbody tr th:only-of-type {\n",
       "        vertical-align: middle;\n",
       "    }\n",
       "\n",
       "    .dataframe tbody tr th {\n",
       "        vertical-align: top;\n",
       "    }\n",
       "\n",
       "    .dataframe thead th {\n",
       "        text-align: right;\n",
       "    }\n",
       "</style>\n",
       "<table border=\"1\" class=\"dataframe\">\n",
       "  <thead>\n",
       "    <tr style=\"text-align: right;\">\n",
       "      <th></th>\n",
       "      <th>count</th>\n",
       "      <th>mean</th>\n",
       "      <th>std</th>\n",
       "      <th>min</th>\n",
       "      <th>25%</th>\n",
       "      <th>50%</th>\n",
       "      <th>75%</th>\n",
       "      <th>max</th>\n",
       "    </tr>\n",
       "    <tr>\n",
       "      <th>job_title</th>\n",
       "      <th></th>\n",
       "      <th></th>\n",
       "      <th></th>\n",
       "      <th></th>\n",
       "      <th></th>\n",
       "      <th></th>\n",
       "      <th></th>\n",
       "      <th></th>\n",
       "    </tr>\n",
       "  </thead>\n",
       "  <tbody>\n",
       "    <tr>\n",
       "      <th>3D Computer Vision Researcher</th>\n",
       "      <td>4.0</td>\n",
       "      <td>21352.25000</td>\n",
       "      <td>20046.470685</td>\n",
       "      <td>5409.0</td>\n",
       "      <td>8852.25</td>\n",
       "      <td>15000.0</td>\n",
       "      <td>27500.00</td>\n",
       "      <td>50000.0</td>\n",
       "    </tr>\n",
       "    <tr>\n",
       "      <th>AI Developer</th>\n",
       "      <td>4.0</td>\n",
       "      <td>101525.25000</td>\n",
       "      <td>88887.164298</td>\n",
       "      <td>6304.0</td>\n",
       "      <td>50002.00</td>\n",
       "      <td>92284.0</td>\n",
       "      <td>143807.25</td>\n",
       "      <td>215229.0</td>\n",
       "    </tr>\n",
       "    <tr>\n",
       "      <th>AI Programmer</th>\n",
       "      <td>1.0</td>\n",
       "      <td>40000.00000</td>\n",
       "      <td>NaN</td>\n",
       "      <td>40000.0</td>\n",
       "      <td>40000.00</td>\n",
       "      <td>40000.0</td>\n",
       "      <td>40000.00</td>\n",
       "      <td>40000.0</td>\n",
       "    </tr>\n",
       "    <tr>\n",
       "      <th>AI Scientist</th>\n",
       "      <td>15.0</td>\n",
       "      <td>89214.00000</td>\n",
       "      <td>76661.436648</td>\n",
       "      <td>12000.0</td>\n",
       "      <td>30760.00</td>\n",
       "      <td>50000.0</td>\n",
       "      <td>162500.00</td>\n",
       "      <td>200000.0</td>\n",
       "    </tr>\n",
       "    <tr>\n",
       "      <th>Analytics Engineer</th>\n",
       "      <td>73.0</td>\n",
       "      <td>144136.69863</td>\n",
       "      <td>52233.246746</td>\n",
       "      <td>7500.0</td>\n",
       "      <td>110000.00</td>\n",
       "      <td>138750.0</td>\n",
       "      <td>180000.00</td>\n",
       "      <td>250000.0</td>\n",
       "    </tr>\n",
       "  </tbody>\n",
       "</table>\n",
       "</div>"
      ],
      "text/plain": [
       "                               count          mean           std      min  \\\n",
       "job_title                                                                   \n",
       "3D Computer Vision Researcher    4.0   21352.25000  20046.470685   5409.0   \n",
       "AI Developer                     4.0  101525.25000  88887.164298   6304.0   \n",
       "AI Programmer                    1.0   40000.00000           NaN  40000.0   \n",
       "AI Scientist                    15.0   89214.00000  76661.436648  12000.0   \n",
       "Analytics Engineer              73.0  144136.69863  52233.246746   7500.0   \n",
       "\n",
       "                                     25%       50%        75%       max  \n",
       "job_title                                                                \n",
       "3D Computer Vision Researcher    8852.25   15000.0   27500.00   50000.0  \n",
       "AI Developer                    50002.00   92284.0  143807.25  215229.0  \n",
       "AI Programmer                   40000.00   40000.0   40000.00   40000.0  \n",
       "AI Scientist                    30760.00   50000.0  162500.00  200000.0  \n",
       "Analytics Engineer             110000.00  138750.0  180000.00  250000.0  "
      ]
     },
     "execution_count": 133,
     "metadata": {},
     "output_type": "execute_result"
    }
   ],
   "source": [
    "salary.groupby('job_title')['salary_in_usd'].describe().head()"
   ]
  },
  {
   "cell_type": "code",
   "execution_count": 134,
   "id": "f24d218a",
   "metadata": {},
   "outputs": [
    {
     "data": {
      "text/plain": [
       "Data Engineer                826\n",
       "Data Scientist               667\n",
       "Data Analyst                 490\n",
       "Machine Learning Engineer    242\n",
       "Data Architect                77\n",
       "                            ... \n",
       "Deep Learning Researcher       1\n",
       "Manager Data Management        1\n",
       "BI Data Engineer               1\n",
       "Marketing Data Engineer        1\n",
       "Finance Data Analyst           1\n",
       "Name: job_title, Length: 89, dtype: int64"
      ]
     },
     "execution_count": 134,
     "metadata": {},
     "output_type": "execute_result"
    }
   ],
   "source": [
    "salary.job_title.value_counts()"
   ]
  },
  {
   "cell_type": "markdown",
   "id": "fc4c8160",
   "metadata": {},
   "source": [
    "##### Drop Job Title Column"
   ]
  },
  {
   "cell_type": "code",
   "execution_count": 135,
   "id": "6545c69f",
   "metadata": {},
   "outputs": [],
   "source": [
    "salary = salary.drop(columns='job_title')\n"
   ]
  },
  {
   "cell_type": "markdown",
   "id": "1f22111b",
   "metadata": {},
   "source": [
    "There are too many unique values in the Job Title column. Besides, Experience Level should be a more straight-forward measure of skill level, since all jobs are data-related."
   ]
  },
  {
   "cell_type": "markdown",
   "id": "6df82a65",
   "metadata": {},
   "source": [
    "### Salary by Company Size"
   ]
  },
  {
   "cell_type": "code",
   "execution_count": 136,
   "id": "81a0bd9b",
   "metadata": {},
   "outputs": [
    {
     "data": {
      "text/html": [
       "<div>\n",
       "<style scoped>\n",
       "    .dataframe tbody tr th:only-of-type {\n",
       "        vertical-align: middle;\n",
       "    }\n",
       "\n",
       "    .dataframe tbody tr th {\n",
       "        vertical-align: top;\n",
       "    }\n",
       "\n",
       "    .dataframe thead th {\n",
       "        text-align: right;\n",
       "    }\n",
       "</style>\n",
       "<table border=\"1\" class=\"dataframe\">\n",
       "  <thead>\n",
       "    <tr style=\"text-align: right;\">\n",
       "      <th></th>\n",
       "      <th>count</th>\n",
       "      <th>mean</th>\n",
       "      <th>std</th>\n",
       "      <th>min</th>\n",
       "      <th>25%</th>\n",
       "      <th>50%</th>\n",
       "      <th>75%</th>\n",
       "      <th>max</th>\n",
       "    </tr>\n",
       "    <tr>\n",
       "      <th>company_size</th>\n",
       "      <th></th>\n",
       "      <th></th>\n",
       "      <th></th>\n",
       "      <th></th>\n",
       "      <th></th>\n",
       "      <th></th>\n",
       "      <th></th>\n",
       "      <th></th>\n",
       "    </tr>\n",
       "  </thead>\n",
       "  <tbody>\n",
       "    <tr>\n",
       "      <th>L</th>\n",
       "      <td>391.0</td>\n",
       "      <td>111829.306905</td>\n",
       "      <td>70936.960221</td>\n",
       "      <td>5409.0</td>\n",
       "      <td>57393.00</td>\n",
       "      <td>103691.0</td>\n",
       "      <td>154545.0</td>\n",
       "      <td>412000.0</td>\n",
       "    </tr>\n",
       "    <tr>\n",
       "      <th>M</th>\n",
       "      <td>2472.0</td>\n",
       "      <td>140620.518608</td>\n",
       "      <td>58170.256064</td>\n",
       "      <td>5000.0</td>\n",
       "      <td>100000.00</td>\n",
       "      <td>137279.0</td>\n",
       "      <td>175000.0</td>\n",
       "      <td>385000.0</td>\n",
       "    </tr>\n",
       "    <tr>\n",
       "      <th>S</th>\n",
       "      <td>140.0</td>\n",
       "      <td>78647.821429</td>\n",
       "      <td>60774.425432</td>\n",
       "      <td>5679.0</td>\n",
       "      <td>40266.75</td>\n",
       "      <td>62883.0</td>\n",
       "      <td>108500.0</td>\n",
       "      <td>416000.0</td>\n",
       "    </tr>\n",
       "  </tbody>\n",
       "</table>\n",
       "</div>"
      ],
      "text/plain": [
       "               count           mean           std     min        25%  \\\n",
       "company_size                                                           \n",
       "L              391.0  111829.306905  70936.960221  5409.0   57393.00   \n",
       "M             2472.0  140620.518608  58170.256064  5000.0  100000.00   \n",
       "S              140.0   78647.821429  60774.425432  5679.0   40266.75   \n",
       "\n",
       "                   50%       75%       max  \n",
       "company_size                                \n",
       "L             103691.0  154545.0  412000.0  \n",
       "M             137279.0  175000.0  385000.0  \n",
       "S              62883.0  108500.0  416000.0  "
      ]
     },
     "execution_count": 136,
     "metadata": {},
     "output_type": "execute_result"
    }
   ],
   "source": [
    "salary.groupby('company_size')['salary_in_usd'].describe()"
   ]
  },
  {
   "cell_type": "code",
   "execution_count": 137,
   "id": "d2ea8860",
   "metadata": {},
   "outputs": [
    {
     "data": {
      "image/png": "[encoded data removed]",
      "text/plain": [
       "<Figure size 640x480 with 1 Axes>"
      ]
     },
     "metadata": {},
     "output_type": "display_data"
    }
   ],
   "source": [
    "sns.boxplot(data=salary, x='company_size', y='salary_in_usd', order=['S', 'M', 'L'])\n",
    "plt.show()"
   ]
  },
  {
   "cell_type": "markdown",
   "id": "330c226b",
   "metadata": {},
   "source": [
    "### Salary by Employment Type"
   ]
  },
  {
   "cell_type": "code",
   "execution_count": 138,
   "id": "caa3dd42",
   "metadata": {},
   "outputs": [
    {
     "data": {
      "text/html": [
       "<div>\n",
       "<style scoped>\n",
       "    .dataframe tbody tr th:only-of-type {\n",
       "        vertical-align: middle;\n",
       "    }\n",
       "\n",
       "    .dataframe tbody tr th {\n",
       "        vertical-align: top;\n",
       "    }\n",
       "\n",
       "    .dataframe thead th {\n",
       "        text-align: right;\n",
       "    }\n",
       "</style>\n",
       "<table border=\"1\" class=\"dataframe\">\n",
       "  <thead>\n",
       "    <tr style=\"text-align: right;\">\n",
       "      <th></th>\n",
       "      <th>count</th>\n",
       "      <th>mean</th>\n",
       "      <th>std</th>\n",
       "      <th>min</th>\n",
       "      <th>25%</th>\n",
       "      <th>50%</th>\n",
       "      <th>75%</th>\n",
       "      <th>max</th>\n",
       "    </tr>\n",
       "    <tr>\n",
       "      <th>employment_type</th>\n",
       "      <th></th>\n",
       "      <th></th>\n",
       "      <th></th>\n",
       "      <th></th>\n",
       "      <th></th>\n",
       "      <th></th>\n",
       "      <th></th>\n",
       "      <th></th>\n",
       "    </tr>\n",
       "  </thead>\n",
       "  <tbody>\n",
       "    <tr>\n",
       "      <th>CT</th>\n",
       "      <td>8.0</td>\n",
       "      <td>134871.125000</td>\n",
       "      <td>138431.957030</td>\n",
       "      <td>7500.0</td>\n",
       "      <td>52617.25</td>\n",
       "      <td>95000.0</td>\n",
       "      <td>146250.0</td>\n",
       "      <td>416000.0</td>\n",
       "    </tr>\n",
       "    <tr>\n",
       "      <th>FL</th>\n",
       "      <td>9.0</td>\n",
       "      <td>52008.666667</td>\n",
       "      <td>31238.595675</td>\n",
       "      <td>12000.0</td>\n",
       "      <td>30523.00</td>\n",
       "      <td>50000.0</td>\n",
       "      <td>60000.0</td>\n",
       "      <td>100000.0</td>\n",
       "    </tr>\n",
       "    <tr>\n",
       "      <th>FT</th>\n",
       "      <td>2969.0</td>\n",
       "      <td>134769.532166</td>\n",
       "      <td>61394.663619</td>\n",
       "      <td>5000.0</td>\n",
       "      <td>93700.00</td>\n",
       "      <td>131300.0</td>\n",
       "      <td>173762.0</td>\n",
       "      <td>412000.0</td>\n",
       "    </tr>\n",
       "    <tr>\n",
       "      <th>PT</th>\n",
       "      <td>17.0</td>\n",
       "      <td>39534.588235</td>\n",
       "      <td>38311.613011</td>\n",
       "      <td>5409.0</td>\n",
       "      <td>12000.00</td>\n",
       "      <td>21669.0</td>\n",
       "      <td>52533.0</td>\n",
       "      <td>125404.0</td>\n",
       "    </tr>\n",
       "  </tbody>\n",
       "</table>\n",
       "</div>"
      ],
      "text/plain": [
       "                  count           mean            std      min       25%  \\\n",
       "employment_type                                                            \n",
       "CT                  8.0  134871.125000  138431.957030   7500.0  52617.25   \n",
       "FL                  9.0   52008.666667   31238.595675  12000.0  30523.00   \n",
       "FT               2969.0  134769.532166   61394.663619   5000.0  93700.00   \n",
       "PT                 17.0   39534.588235   38311.613011   5409.0  12000.00   \n",
       "\n",
       "                      50%       75%       max  \n",
       "employment_type                                \n",
       "CT                95000.0  146250.0  416000.0  \n",
       "FL                50000.0   60000.0  100000.0  \n",
       "FT               131300.0  173762.0  412000.0  \n",
       "PT                21669.0   52533.0  125404.0  "
      ]
     },
     "execution_count": 138,
     "metadata": {},
     "output_type": "execute_result"
    }
   ],
   "source": [
    "salary.groupby('employment_type')['salary_in_usd'].describe()"
   ]
  },
  {
   "cell_type": "markdown",
   "id": "93b39411",
   "metadata": {},
   "source": [
    "###### Drop Employment Type column"
   ]
  },
  {
   "cell_type": "code",
   "execution_count": 139,
   "id": "57a0c930",
   "metadata": {},
   "outputs": [
    {
     "data": {
      "text/html": [
       "<div>\n",
       "<style scoped>\n",
       "    .dataframe tbody tr th:only-of-type {\n",
       "        vertical-align: middle;\n",
       "    }\n",
       "\n",
       "    .dataframe tbody tr th {\n",
       "        vertical-align: top;\n",
       "    }\n",
       "\n",
       "    .dataframe thead th {\n",
       "        text-align: right;\n",
       "    }\n",
       "</style>\n",
       "<table border=\"1\" class=\"dataframe\">\n",
       "  <thead>\n",
       "    <tr style=\"text-align: right;\">\n",
       "      <th></th>\n",
       "      <th>experience_level</th>\n",
       "      <th>salary_in_usd</th>\n",
       "      <th>employee_residence</th>\n",
       "      <th>remote_ratio</th>\n",
       "      <th>company_location</th>\n",
       "      <th>company_size</th>\n",
       "    </tr>\n",
       "  </thead>\n",
       "  <tbody>\n",
       "    <tr>\n",
       "      <th>0</th>\n",
       "      <td>EN</td>\n",
       "      <td>75000</td>\n",
       "      <td>US</td>\n",
       "      <td>100</td>\n",
       "      <td>US</td>\n",
       "      <td>M</td>\n",
       "    </tr>\n",
       "    <tr>\n",
       "      <th>1</th>\n",
       "      <td>EN</td>\n",
       "      <td>60000</td>\n",
       "      <td>US</td>\n",
       "      <td>100</td>\n",
       "      <td>US</td>\n",
       "      <td>M</td>\n",
       "    </tr>\n",
       "    <tr>\n",
       "      <th>2</th>\n",
       "      <td>MI</td>\n",
       "      <td>185700</td>\n",
       "      <td>US</td>\n",
       "      <td>0</td>\n",
       "      <td>US</td>\n",
       "      <td>M</td>\n",
       "    </tr>\n",
       "    <tr>\n",
       "      <th>3</th>\n",
       "      <td>MI</td>\n",
       "      <td>165000</td>\n",
       "      <td>US</td>\n",
       "      <td>0</td>\n",
       "      <td>US</td>\n",
       "      <td>M</td>\n",
       "    </tr>\n",
       "    <tr>\n",
       "      <th>4</th>\n",
       "      <td>SE</td>\n",
       "      <td>160000</td>\n",
       "      <td>US</td>\n",
       "      <td>100</td>\n",
       "      <td>US</td>\n",
       "      <td>M</td>\n",
       "    </tr>\n",
       "  </tbody>\n",
       "</table>\n",
       "</div>"
      ],
      "text/plain": [
       "  experience_level  salary_in_usd employee_residence remote_ratio  \\\n",
       "0               EN          75000                 US          100   \n",
       "1               EN          60000                 US          100   \n",
       "2               MI         185700                 US            0   \n",
       "3               MI         165000                 US            0   \n",
       "4               SE         160000                 US          100   \n",
       "\n",
       "  company_location company_size  \n",
       "0               US            M  \n",
       "1               US            M  \n",
       "2               US            M  \n",
       "3               US            M  \n",
       "4               US            M  "
      ]
     },
     "execution_count": 139,
     "metadata": {},
     "output_type": "execute_result"
    }
   ],
   "source": [
    "salary = salary.drop(columns='employment_type')\n",
    "salary.head()"
   ]
  },
  {
   "cell_type": "markdown",
   "id": "6680333d",
   "metadata": {},
   "source": [
    "There is very little data in categories besides Full Time, so it would be hard to draw any significant conclusions."
   ]
  },
  {
   "cell_type": "markdown",
   "id": "50e91e8b",
   "metadata": {},
   "source": [
    "### Salary by Remote Ratio"
   ]
  },
  {
   "cell_type": "code",
   "execution_count": 140,
   "id": "7738c97f",
   "metadata": {},
   "outputs": [
    {
     "data": {
      "text/html": [
       "<div>\n",
       "<style scoped>\n",
       "    .dataframe tbody tr th:only-of-type {\n",
       "        vertical-align: middle;\n",
       "    }\n",
       "\n",
       "    .dataframe tbody tr th {\n",
       "        vertical-align: top;\n",
       "    }\n",
       "\n",
       "    .dataframe thead th {\n",
       "        text-align: right;\n",
       "    }\n",
       "</style>\n",
       "<table border=\"1\" class=\"dataframe\">\n",
       "  <thead>\n",
       "    <tr style=\"text-align: right;\">\n",
       "      <th></th>\n",
       "      <th>count</th>\n",
       "      <th>mean</th>\n",
       "      <th>std</th>\n",
       "      <th>min</th>\n",
       "      <th>25%</th>\n",
       "      <th>50%</th>\n",
       "      <th>75%</th>\n",
       "      <th>max</th>\n",
       "    </tr>\n",
       "    <tr>\n",
       "      <th>remote_ratio</th>\n",
       "      <th></th>\n",
       "      <th></th>\n",
       "      <th></th>\n",
       "      <th></th>\n",
       "      <th></th>\n",
       "      <th></th>\n",
       "      <th></th>\n",
       "      <th></th>\n",
       "    </tr>\n",
       "  </thead>\n",
       "  <tbody>\n",
       "    <tr>\n",
       "      <th>0</th>\n",
       "      <td>1438.0</td>\n",
       "      <td>140471.949235</td>\n",
       "      <td>58006.860257</td>\n",
       "      <td>5000.0</td>\n",
       "      <td>102100.00</td>\n",
       "      <td>135000.0</td>\n",
       "      <td>175000.00</td>\n",
       "      <td>385000.0</td>\n",
       "    </tr>\n",
       "    <tr>\n",
       "      <th>50</th>\n",
       "      <td>178.0</td>\n",
       "      <td>74507.539326</td>\n",
       "      <td>53440.721405</td>\n",
       "      <td>5409.0</td>\n",
       "      <td>39943.75</td>\n",
       "      <td>62883.0</td>\n",
       "      <td>99925.75</td>\n",
       "      <td>375000.0</td>\n",
       "    </tr>\n",
       "    <tr>\n",
       "      <th>100</th>\n",
       "      <td>1387.0</td>\n",
       "      <td>134887.434030</td>\n",
       "      <td>63192.283927</td>\n",
       "      <td>5132.0</td>\n",
       "      <td>90000.00</td>\n",
       "      <td>135000.0</td>\n",
       "      <td>175525.00</td>\n",
       "      <td>416000.0</td>\n",
       "    </tr>\n",
       "  </tbody>\n",
       "</table>\n",
       "</div>"
      ],
      "text/plain": [
       "               count           mean           std     min        25%  \\\n",
       "remote_ratio                                                           \n",
       "0             1438.0  140471.949235  58006.860257  5000.0  102100.00   \n",
       "50             178.0   74507.539326  53440.721405  5409.0   39943.75   \n",
       "100           1387.0  134887.434030  63192.283927  5132.0   90000.00   \n",
       "\n",
       "                   50%        75%       max  \n",
       "remote_ratio                                 \n",
       "0             135000.0  175000.00  385000.0  \n",
       "50             62883.0   99925.75  375000.0  \n",
       "100           135000.0  175525.00  416000.0  "
      ]
     },
     "execution_count": 140,
     "metadata": {},
     "output_type": "execute_result"
    }
   ],
   "source": [
    "salary.groupby('remote_ratio')['salary_in_usd'].describe()"
   ]
  },
  {
   "cell_type": "code",
   "execution_count": 141,
   "id": "13f1db3d",
   "metadata": {},
   "outputs": [
    {
     "data": {
      "image/png": "[encoded data removed]",
      "text/plain": [
       "<Figure size 640x480 with 1 Axes>"
      ]
     },
     "metadata": {},
     "output_type": "display_data"
    }
   ],
   "source": [
    "sns.boxplot(data=salary, x='remote_ratio', y='salary_in_usd')\n",
    "plt.show()"
   ]
  },
  {
   "cell_type": "markdown",
   "id": "636d9da2",
   "metadata": {},
   "source": [
    "### Company Location & Employee Residence"
   ]
  },
  {
   "cell_type": "markdown",
   "id": "88e557c9",
   "metadata": {},
   "source": [
    "##### Import Continent Data"
   ]
  },
  {
   "cell_type": "code",
   "execution_count": 142,
   "id": "a9e6d1ab",
   "metadata": {},
   "outputs": [
    {
     "data": {
      "text/html": [
       "<div>\n",
       "<style scoped>\n",
       "    .dataframe tbody tr th:only-of-type {\n",
       "        vertical-align: middle;\n",
       "    }\n",
       "\n",
       "    .dataframe tbody tr th {\n",
       "        vertical-align: top;\n",
       "    }\n",
       "\n",
       "    .dataframe thead th {\n",
       "        text-align: right;\n",
       "    }\n",
       "</style>\n",
       "<table border=\"1\" class=\"dataframe\">\n",
       "  <thead>\n",
       "    <tr style=\"text-align: right;\">\n",
       "      <th></th>\n",
       "      <th>CC</th>\n",
       "      <th>a-2</th>\n",
       "    </tr>\n",
       "  </thead>\n",
       "  <tbody>\n",
       "    <tr>\n",
       "      <th>0</th>\n",
       "      <td>AS</td>\n",
       "      <td>AF</td>\n",
       "    </tr>\n",
       "    <tr>\n",
       "      <th>1</th>\n",
       "      <td>EU</td>\n",
       "      <td>AL</td>\n",
       "    </tr>\n",
       "    <tr>\n",
       "      <th>2</th>\n",
       "      <td>AN</td>\n",
       "      <td>AQ</td>\n",
       "    </tr>\n",
       "    <tr>\n",
       "      <th>3</th>\n",
       "      <td>AF</td>\n",
       "      <td>DZ</td>\n",
       "    </tr>\n",
       "    <tr>\n",
       "      <th>4</th>\n",
       "      <td>OC</td>\n",
       "      <td>AS</td>\n",
       "    </tr>\n",
       "  </tbody>\n",
       "</table>\n",
       "</div>"
      ],
      "text/plain": [
       "   CC a-2\n",
       "0  AS  AF\n",
       "1  EU  AL\n",
       "2  AN  AQ\n",
       "3  AF  DZ\n",
       "4  OC  AS"
      ]
     },
     "execution_count": 142,
     "metadata": {},
     "output_type": "execute_result"
    }
   ],
   "source": [
    "cont = pd.read_csv('sovereign_states.csv')\n",
    "cont = cont.drop(columns=['Name', '#', 'a-3'])\n",
    "cont.head()"
   ]
  },
  {
   "cell_type": "markdown",
   "id": "dc65a02b",
   "metadata": {},
   "source": [
    "##### Merge Data"
   ]
  },
  {
   "cell_type": "code",
   "execution_count": 143,
   "id": "4aed7d39",
   "metadata": {},
   "outputs": [
    {
     "data": {
      "text/html": [
       "<div>\n",
       "<style scoped>\n",
       "    .dataframe tbody tr th:only-of-type {\n",
       "        vertical-align: middle;\n",
       "    }\n",
       "\n",
       "    .dataframe tbody tr th {\n",
       "        vertical-align: top;\n",
       "    }\n",
       "\n",
       "    .dataframe thead th {\n",
       "        text-align: right;\n",
       "    }\n",
       "</style>\n",
       "<table border=\"1\" class=\"dataframe\">\n",
       "  <thead>\n",
       "    <tr style=\"text-align: right;\">\n",
       "      <th></th>\n",
       "      <th>experience_level</th>\n",
       "      <th>salary_in_usd</th>\n",
       "      <th>remote_ratio</th>\n",
       "      <th>company_size</th>\n",
       "      <th>company_continent</th>\n",
       "      <th>employee_continent</th>\n",
       "    </tr>\n",
       "  </thead>\n",
       "  <tbody>\n",
       "    <tr>\n",
       "      <th>0</th>\n",
       "      <td>EN</td>\n",
       "      <td>75000</td>\n",
       "      <td>100</td>\n",
       "      <td>M</td>\n",
       "      <td>NAM</td>\n",
       "      <td>NAM</td>\n",
       "    </tr>\n",
       "    <tr>\n",
       "      <th>1</th>\n",
       "      <td>EN</td>\n",
       "      <td>60000</td>\n",
       "      <td>100</td>\n",
       "      <td>M</td>\n",
       "      <td>NAM</td>\n",
       "      <td>NAM</td>\n",
       "    </tr>\n",
       "    <tr>\n",
       "      <th>2</th>\n",
       "      <td>MI</td>\n",
       "      <td>185700</td>\n",
       "      <td>0</td>\n",
       "      <td>M</td>\n",
       "      <td>NAM</td>\n",
       "      <td>NAM</td>\n",
       "    </tr>\n",
       "    <tr>\n",
       "      <th>3</th>\n",
       "      <td>MI</td>\n",
       "      <td>165000</td>\n",
       "      <td>0</td>\n",
       "      <td>M</td>\n",
       "      <td>NAM</td>\n",
       "      <td>NAM</td>\n",
       "    </tr>\n",
       "    <tr>\n",
       "      <th>4</th>\n",
       "      <td>SE</td>\n",
       "      <td>160000</td>\n",
       "      <td>100</td>\n",
       "      <td>M</td>\n",
       "      <td>NAM</td>\n",
       "      <td>NAM</td>\n",
       "    </tr>\n",
       "  </tbody>\n",
       "</table>\n",
       "</div>"
      ],
      "text/plain": [
       "  experience_level  salary_in_usd remote_ratio company_size company_continent  \\\n",
       "0               EN          75000          100            M               NAM   \n",
       "1               EN          60000          100            M               NAM   \n",
       "2               MI         185700            0            M               NAM   \n",
       "3               MI         165000            0            M               NAM   \n",
       "4               SE         160000          100            M               NAM   \n",
       "\n",
       "  employee_continent  \n",
       "0                NAM  \n",
       "1                NAM  \n",
       "2                NAM  \n",
       "3                NAM  \n",
       "4                NAM  "
      ]
     },
     "execution_count": 143,
     "metadata": {},
     "output_type": "execute_result"
    }
   ],
   "source": [
    "merged = salary.merge(cont, left_on='company_location', right_on='a-2', how='left')\n",
    "merged.CC = merged.CC.fillna('NAM')\n",
    "merged = merged.rename(columns={'CC':'company_continent'})\n",
    "merged = merged.merge(cont, left_on='employee_residence', right_on='a-2', how='left')\n",
    "merged.CC = merged.CC.fillna('NAM')\n",
    "merged = merged.rename(columns={'CC':'employee_continent'})\n",
    "salary = merged.drop(columns=['employee_residence', 'company_location', 'a-2_x', 'a-2_y'])\n",
    "salary.head()"
   ]
  },
  {
   "cell_type": "markdown",
   "id": "8bd62cf8",
   "metadata": {},
   "source": [
    "### Salary by Company Continent"
   ]
  },
  {
   "cell_type": "code",
   "execution_count": 144,
   "id": "045accca",
   "metadata": {},
   "outputs": [
    {
     "data": {
      "text/html": [
       "<div>\n",
       "<style scoped>\n",
       "    .dataframe tbody tr th:only-of-type {\n",
       "        vertical-align: middle;\n",
       "    }\n",
       "\n",
       "    .dataframe tbody tr th {\n",
       "        vertical-align: top;\n",
       "    }\n",
       "\n",
       "    .dataframe thead th {\n",
       "        text-align: right;\n",
       "    }\n",
       "</style>\n",
       "<table border=\"1\" class=\"dataframe\">\n",
       "  <thead>\n",
       "    <tr style=\"text-align: right;\">\n",
       "      <th></th>\n",
       "      <th>count</th>\n",
       "      <th>mean</th>\n",
       "      <th>std</th>\n",
       "      <th>min</th>\n",
       "      <th>25%</th>\n",
       "      <th>50%</th>\n",
       "      <th>75%</th>\n",
       "      <th>max</th>\n",
       "    </tr>\n",
       "    <tr>\n",
       "      <th>company_continent</th>\n",
       "      <th></th>\n",
       "      <th></th>\n",
       "      <th></th>\n",
       "      <th></th>\n",
       "      <th></th>\n",
       "      <th></th>\n",
       "      <th></th>\n",
       "      <th></th>\n",
       "    </tr>\n",
       "  </thead>\n",
       "  <tbody>\n",
       "    <tr>\n",
       "      <th>NAM</th>\n",
       "      <td>2464.0</td>\n",
       "      <td>148971.924919</td>\n",
       "      <td>55339.352824</td>\n",
       "      <td>5679.0</td>\n",
       "      <td>110000.00</td>\n",
       "      <td>142200.0</td>\n",
       "      <td>182170.0</td>\n",
       "      <td>416000.0</td>\n",
       "    </tr>\n",
       "    <tr>\n",
       "      <th>EU</th>\n",
       "      <td>418.0</td>\n",
       "      <td>71567.461722</td>\n",
       "      <td>39835.230536</td>\n",
       "      <td>5132.0</td>\n",
       "      <td>46926.75</td>\n",
       "      <td>63661.5</td>\n",
       "      <td>88654.0</td>\n",
       "      <td>275000.0</td>\n",
       "    </tr>\n",
       "    <tr>\n",
       "      <th>AS</th>\n",
       "      <td>101.0</td>\n",
       "      <td>43575.603960</td>\n",
       "      <td>47542.729010</td>\n",
       "      <td>5409.0</td>\n",
       "      <td>15000.00</td>\n",
       "      <td>25000.0</td>\n",
       "      <td>56723.0</td>\n",
       "      <td>260000.0</td>\n",
       "    </tr>\n",
       "    <tr>\n",
       "      <th>SA</th>\n",
       "      <td>22.0</td>\n",
       "      <td>39913.045455</td>\n",
       "      <td>32213.152615</td>\n",
       "      <td>6270.0</td>\n",
       "      <td>12925.75</td>\n",
       "      <td>32019.0</td>\n",
       "      <td>53000.0</td>\n",
       "      <td>125000.0</td>\n",
       "    </tr>\n",
       "    <tr>\n",
       "      <th>OC</th>\n",
       "      <td>17.0</td>\n",
       "      <td>74324.764706</td>\n",
       "      <td>45702.061445</td>\n",
       "      <td>18053.0</td>\n",
       "      <td>42028.00</td>\n",
       "      <td>53368.0</td>\n",
       "      <td>83864.0</td>\n",
       "      <td>171000.0</td>\n",
       "    </tr>\n",
       "    <tr>\n",
       "      <th>AF</th>\n",
       "      <td>12.0</td>\n",
       "      <td>45989.333333</td>\n",
       "      <td>57139.720796</td>\n",
       "      <td>5000.0</td>\n",
       "      <td>10000.00</td>\n",
       "      <td>22800.0</td>\n",
       "      <td>57500.0</td>\n",
       "      <td>200000.0</td>\n",
       "    </tr>\n",
       "  </tbody>\n",
       "</table>\n",
       "</div>"
      ],
      "text/plain": [
       "                    count           mean           std      min        25%  \\\n",
       "company_continent                                                            \n",
       "NAM                2464.0  148971.924919  55339.352824   5679.0  110000.00   \n",
       "EU                  418.0   71567.461722  39835.230536   5132.0   46926.75   \n",
       "AS                  101.0   43575.603960  47542.729010   5409.0   15000.00   \n",
       "SA                   22.0   39913.045455  32213.152615   6270.0   12925.75   \n",
       "OC                   17.0   74324.764706  45702.061445  18053.0   42028.00   \n",
       "AF                   12.0   45989.333333  57139.720796   5000.0   10000.00   \n",
       "\n",
       "                        50%       75%       max  \n",
       "company_continent                                \n",
       "NAM                142200.0  182170.0  416000.0  \n",
       "EU                  63661.5   88654.0  275000.0  \n",
       "AS                  25000.0   56723.0  260000.0  \n",
       "SA                  32019.0   53000.0  125000.0  \n",
       "OC                  53368.0   83864.0  171000.0  \n",
       "AF                  22800.0   57500.0  200000.0  "
      ]
     },
     "execution_count": 144,
     "metadata": {},
     "output_type": "execute_result"
    }
   ],
   "source": [
    "salary.groupby('company_continent')['salary_in_usd'].describe().sort_values('count', ascending=False)"
   ]
  },
  {
   "cell_type": "code",
   "execution_count": 145,
   "id": "5ded81b7",
   "metadata": {},
   "outputs": [
    {
     "data": {
      "image/png": "[encoded data removed]",
      "text/plain": [
       "<Figure size 640x480 with 1 Axes>"
      ]
     },
     "metadata": {},
     "output_type": "display_data"
    }
   ],
   "source": [
    "sns.boxplot(data=salary, x='company_continent', y='salary_in_usd')\n",
    "plt.show()"
   ]
  },
  {
   "cell_type": "markdown",
   "id": "26dd094f",
   "metadata": {},
   "source": [
    "### Salary by Employee Continent"
   ]
  },
  {
   "cell_type": "code",
   "execution_count": 146,
   "id": "1e5c5e7f",
   "metadata": {},
   "outputs": [
    {
     "data": {
      "text/html": [
       "<div>\n",
       "<style scoped>\n",
       "    .dataframe tbody tr th:only-of-type {\n",
       "        vertical-align: middle;\n",
       "    }\n",
       "\n",
       "    .dataframe tbody tr th {\n",
       "        vertical-align: top;\n",
       "    }\n",
       "\n",
       "    .dataframe thead th {\n",
       "        text-align: right;\n",
       "    }\n",
       "</style>\n",
       "<table border=\"1\" class=\"dataframe\">\n",
       "  <thead>\n",
       "    <tr style=\"text-align: right;\">\n",
       "      <th></th>\n",
       "      <th>count</th>\n",
       "      <th>mean</th>\n",
       "      <th>std</th>\n",
       "      <th>min</th>\n",
       "      <th>25%</th>\n",
       "      <th>50%</th>\n",
       "      <th>75%</th>\n",
       "      <th>max</th>\n",
       "    </tr>\n",
       "    <tr>\n",
       "      <th>employee_continent</th>\n",
       "      <th></th>\n",
       "      <th></th>\n",
       "      <th></th>\n",
       "      <th></th>\n",
       "      <th></th>\n",
       "      <th></th>\n",
       "      <th></th>\n",
       "      <th></th>\n",
       "    </tr>\n",
       "  </thead>\n",
       "  <tbody>\n",
       "    <tr>\n",
       "      <th>NAM</th>\n",
       "      <td>2427.0</td>\n",
       "      <td>150214.518747</td>\n",
       "      <td>54530.415037</td>\n",
       "      <td>10000.0</td>\n",
       "      <td>112600.00</td>\n",
       "      <td>144000.0</td>\n",
       "      <td>183000.00</td>\n",
       "      <td>416000.0</td>\n",
       "    </tr>\n",
       "    <tr>\n",
       "      <th>EU</th>\n",
       "      <td>425.0</td>\n",
       "      <td>71371.221176</td>\n",
       "      <td>40008.360388</td>\n",
       "      <td>5132.0</td>\n",
       "      <td>46759.00</td>\n",
       "      <td>63285.0</td>\n",
       "      <td>88654.00</td>\n",
       "      <td>275000.0</td>\n",
       "    </tr>\n",
       "    <tr>\n",
       "      <th>AS</th>\n",
       "      <td>124.0</td>\n",
       "      <td>48530.491935</td>\n",
       "      <td>49261.470627</td>\n",
       "      <td>5409.0</td>\n",
       "      <td>16145.25</td>\n",
       "      <td>30475.5</td>\n",
       "      <td>61527.75</td>\n",
       "      <td>260000.0</td>\n",
       "    </tr>\n",
       "    <tr>\n",
       "      <th>SA</th>\n",
       "      <td>31.0</td>\n",
       "      <td>49777.000000</td>\n",
       "      <td>38665.797105</td>\n",
       "      <td>6270.0</td>\n",
       "      <td>15953.50</td>\n",
       "      <td>48000.0</td>\n",
       "      <td>76500.00</td>\n",
       "      <td>160000.0</td>\n",
       "    </tr>\n",
       "    <tr>\n",
       "      <th>AF</th>\n",
       "      <td>14.0</td>\n",
       "      <td>45167.214286</td>\n",
       "      <td>52741.698943</td>\n",
       "      <td>5000.0</td>\n",
       "      <td>10500.00</td>\n",
       "      <td>26400.0</td>\n",
       "      <td>50000.00</td>\n",
       "      <td>200000.0</td>\n",
       "    </tr>\n",
       "    <tr>\n",
       "      <th>OC</th>\n",
       "      <td>13.0</td>\n",
       "      <td>75386.384615</td>\n",
       "      <td>40163.947512</td>\n",
       "      <td>20000.0</td>\n",
       "      <td>45050.00</td>\n",
       "      <td>75050.0</td>\n",
       "      <td>83864.00</td>\n",
       "      <td>150000.0</td>\n",
       "    </tr>\n",
       "  </tbody>\n",
       "</table>\n",
       "</div>"
      ],
      "text/plain": [
       "                     count           mean           std      min        25%  \\\n",
       "employee_continent                                                            \n",
       "NAM                 2427.0  150214.518747  54530.415037  10000.0  112600.00   \n",
       "EU                   425.0   71371.221176  40008.360388   5132.0   46759.00   \n",
       "AS                   124.0   48530.491935  49261.470627   5409.0   16145.25   \n",
       "SA                    31.0   49777.000000  38665.797105   6270.0   15953.50   \n",
       "AF                    14.0   45167.214286  52741.698943   5000.0   10500.00   \n",
       "OC                    13.0   75386.384615  40163.947512  20000.0   45050.00   \n",
       "\n",
       "                         50%        75%       max  \n",
       "employee_continent                                 \n",
       "NAM                 144000.0  183000.00  416000.0  \n",
       "EU                   63285.0   88654.00  275000.0  \n",
       "AS                   30475.5   61527.75  260000.0  \n",
       "SA                   48000.0   76500.00  160000.0  \n",
       "AF                   26400.0   50000.00  200000.0  \n",
       "OC                   75050.0   83864.00  150000.0  "
      ]
     },
     "execution_count": 146,
     "metadata": {},
     "output_type": "execute_result"
    }
   ],
   "source": [
    "salary.groupby('employee_continent')['salary_in_usd'].describe().sort_values('count', ascending=False)"
   ]
  },
  {
   "cell_type": "code",
   "execution_count": 147,
   "id": "8d23d8a0",
   "metadata": {},
   "outputs": [
    {
     "data": {
      "image/png": "[encoded data removed]",
      "text/plain": [
       "<Figure size 640x480 with 1 Axes>"
      ]
     },
     "metadata": {},
     "output_type": "display_data"
    }
   ],
   "source": [
    "sns.boxplot(data=salary, x='employee_continent', y='salary_in_usd')\n",
    "plt.show()"
   ]
  },
  {
   "cell_type": "markdown",
   "id": "14a4ecac",
   "metadata": {},
   "source": [
    "##### Company & Employee Continent for Remote Workers"
   ]
  },
  {
   "cell_type": "code",
   "execution_count": 148,
   "id": "c4064912",
   "metadata": {},
   "outputs": [
    {
     "data": {
      "text/plain": [
       "100    52\n",
       "50     17\n",
       "0      13\n",
       "Name: remote_ratio, dtype: int64"
      ]
     },
     "execution_count": 148,
     "metadata": {},
     "output_type": "execute_result"
    }
   ],
   "source": [
    "salary[salary['employee_continent']!=salary['company_continent']]['remote_ratio'].value_counts()"
   ]
  },
  {
   "cell_type": "code",
   "execution_count": 149,
   "id": "1b7fe4c8",
   "metadata": {},
   "outputs": [
    {
     "data": {
      "text/html": [
       "<div>\n",
       "<style scoped>\n",
       "    .dataframe tbody tr th:only-of-type {\n",
       "        vertical-align: middle;\n",
       "    }\n",
       "\n",
       "    .dataframe tbody tr th {\n",
       "        vertical-align: top;\n",
       "    }\n",
       "\n",
       "    .dataframe thead th {\n",
       "        text-align: right;\n",
       "    }\n",
       "</style>\n",
       "<table border=\"1\" class=\"dataframe\">\n",
       "  <thead>\n",
       "    <tr style=\"text-align: right;\">\n",
       "      <th></th>\n",
       "      <th>experience_level</th>\n",
       "      <th>salary_in_usd</th>\n",
       "      <th>remote_ratio</th>\n",
       "      <th>company_size</th>\n",
       "      <th>company_continent</th>\n",
       "      <th>employee_continent</th>\n",
       "    </tr>\n",
       "  </thead>\n",
       "  <tbody>\n",
       "    <tr>\n",
       "      <th>226</th>\n",
       "      <td>EX</td>\n",
       "      <td>106000</td>\n",
       "      <td>0</td>\n",
       "      <td>L</td>\n",
       "      <td>EU</td>\n",
       "      <td>AS</td>\n",
       "    </tr>\n",
       "    <tr>\n",
       "      <th>739</th>\n",
       "      <td>MI</td>\n",
       "      <td>50000</td>\n",
       "      <td>0</td>\n",
       "      <td>S</td>\n",
       "      <td>AS</td>\n",
       "      <td>EU</td>\n",
       "    </tr>\n",
       "    <tr>\n",
       "      <th>740</th>\n",
       "      <td>MI</td>\n",
       "      <td>50000</td>\n",
       "      <td>0</td>\n",
       "      <td>S</td>\n",
       "      <td>EU</td>\n",
       "      <td>AS</td>\n",
       "    </tr>\n",
       "    <tr>\n",
       "      <th>1968</th>\n",
       "      <td>MI</td>\n",
       "      <td>10000</td>\n",
       "      <td>0</td>\n",
       "      <td>M</td>\n",
       "      <td>AS</td>\n",
       "      <td>EU</td>\n",
       "    </tr>\n",
       "    <tr>\n",
       "      <th>1969</th>\n",
       "      <td>MI</td>\n",
       "      <td>10000</td>\n",
       "      <td>0</td>\n",
       "      <td>M</td>\n",
       "      <td>EU</td>\n",
       "      <td>AS</td>\n",
       "    </tr>\n",
       "  </tbody>\n",
       "</table>\n",
       "</div>"
      ],
      "text/plain": [
       "     experience_level  salary_in_usd remote_ratio company_size  \\\n",
       "226                EX         106000            0            L   \n",
       "739                MI          50000            0            S   \n",
       "740                MI          50000            0            S   \n",
       "1968               MI          10000            0            M   \n",
       "1969               MI          10000            0            M   \n",
       "\n",
       "     company_continent employee_continent  \n",
       "226                 EU                 AS  \n",
       "739                 AS                 EU  \n",
       "740                 EU                 AS  \n",
       "1968                AS                 EU  \n",
       "1969                EU                 AS  "
      ]
     },
     "execution_count": 149,
     "metadata": {},
     "output_type": "execute_result"
    }
   ],
   "source": [
    "salary[(salary['employee_continent']!=salary['company_continent']) & (salary['remote_ratio']==0)].head()"
   ]
  },
  {
   "cell_type": "markdown",
   "id": "d367ed58",
   "metadata": {},
   "source": [
    "##### Drop Employee Continent Column"
   ]
  },
  {
   "cell_type": "code",
   "execution_count": 152,
   "id": "6451a0c0",
   "metadata": {},
   "outputs": [],
   "source": [
    "salary = salary.drop(columns='employee_continent')"
   ]
  },
  {
   "cell_type": "markdown",
   "id": "8964048b",
   "metadata": {},
   "source": [
    "### Save Data"
   ]
  },
  {
   "cell_type": "code",
   "execution_count": 153,
   "id": "9c6b85cf",
   "metadata": {},
   "outputs": [],
   "source": [
    "salary.to_csv('eda_salary.csv')"
   ]
  },
  {
   "cell_type": "code",
   "execution_count": null,
   "id": "5f30bdc5",
   "metadata": {},
   "outputs": [],
   "source": []
  },
  {
   "cell_type": "code",
   "execution_count": null,
   "id": "7659f573",
   "metadata": {},
   "outputs": [],
   "source": []
  }
 ],
 "metadata": {
  "kernelspec": {
   "display_name": "Python 3 (ipykernel)",
   "language": "python",
   "name": "python3"
  },
  "language_info": {
   "codemirror_mode": {
    "name": "ipython",
    "version": 3
   },
   "file_extension": ".py",
   "mimetype": "text/x-python",
   "name": "python",
   "nbconvert_exporter": "python",
   "pygments_lexer": "ipython3",
   "version": "3.8.10"
  }
 },
 "nbformat": 4,
 "nbformat_minor": 5
}
